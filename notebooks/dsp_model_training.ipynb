{
 "cells": [
  {
   "cell_type": "code",
   "execution_count": 1,
   "id": "a596bbcd",
   "metadata": {},
   "outputs": [],
   "source": [
    "import os\n",
    "import pandas as pd"
   ]
  },
  {
   "cell_type": "code",
   "execution_count": 2,
   "id": "101aa6a5",
   "metadata": {},
   "outputs": [],
   "source": [
    "def merge_csvs(folder_path):\n",
    "    # Get list of all CSV files in the folder\n",
    "    csv_files = [file for file in os.listdir(folder_path) if file.endswith('.csv')]\n",
    "    \n",
    "    # Initialize an empty dataframe to store merged data\n",
    "    merged_df = pd.DataFrame()\n",
    "    \n",
    "    # Loop through each CSV file and merge its data into the main dataframe\n",
    "    for file in csv_files:\n",
    "        file_path = os.path.join(folder_path, file)\n",
    "        df = pd.read_csv(file_path)\n",
    "        merged_df = pd.concat([merged_df, df], ignore_index=True)\n",
    "    \n",
    "    return merged_df"
   ]
  },
  {
   "cell_type": "code",
   "execution_count": 3,
   "id": "dbd06fab",
   "metadata": {},
   "outputs": [],
   "source": [
    "# gmv_path = \"/data/csc4801/WangLab/features_final/gmv\"\n",
    "# r2f_path = \"/data/csc4801/WangLab/features_final/r2f\"\n",
    "# r2sn_path = \"/data/csc4801/WangLab/features_final/r2sn\"\n",
    "# rmcs_path = \"/data/csc4801/WangLab/features_final/rmcs\"\n",
    "\n",
    "# gmv_df = merge_csvs(gmv_path)\n",
    "# r2f_df = merge_csvs(r2f_path)\n",
    "# r2sn_df = merge_csvs(r2sn_path)\n",
    "# rmcs_df = merge_csvs(rmcs_path)"
   ]
  },
  {
   "cell_type": "code",
   "execution_count": 9,
   "id": "9f2ff8cd",
   "metadata": {},
   "outputs": [],
   "source": [
    "gmv_df.to_csv(\"gmv.csv\")\n",
    "r2f_df.to_csv(\"r2f.csv\")\n",
    "r2sn_df.to_csv(\"r2sn.csv\")\n",
    "rmcs_df.to_csv(\"rmcs.csv\")"
   ]
  },
  {
   "cell_type": "code",
   "execution_count": 2,
   "id": "95e26cad",
   "metadata": {},
   "outputs": [],
   "source": [
    "gmv_df = pd.read_csv(\"gmv.csv\")\n",
    "r2f_df = pd.read_csv(\"r2f.csv\")\n",
    "r2sn_df = pd.read_csv(\"r2sn.csv\")\n",
    "rmcs_df = pd.read_csv(\"rmcs.csv\")"
   ]
  },
  {
   "cell_type": "code",
   "execution_count": 4,
   "id": "f462996a",
   "metadata": {},
   "outputs": [],
   "source": [
    "gmv_df.set_index(\"PTID\", inplace=True)\n",
    "r2f_df.set_index(\"PTID\", inplace=True)\n",
    "r2sn_df.set_index(\"PTID\", inplace=True)\n",
    "rmcs_df.set_index(\"PTID\", inplace=True)"
   ]
  },
  {
   "cell_type": "code",
   "execution_count": 5,
   "id": "64dde1bb",
   "metadata": {},
   "outputs": [
    {
     "ename": "KeyError",
     "evalue": "\"['test_PTID'] not found in axis\"",
     "output_type": "error",
     "traceback": [
      "\u001b[0;31m---------------------------------------------------------------------------\u001b[0m",
      "\u001b[0;31mKeyError\u001b[0m                                  Traceback (most recent call last)",
      "\u001b[0;32m/tmp/ipykernel_2942433/2279791832.py\u001b[0m in \u001b[0;36m<module>\u001b[0;34m\u001b[0m\n\u001b[0;32m----> 1\u001b[0;31m \u001b[0mgmv_df\u001b[0m\u001b[0;34m.\u001b[0m\u001b[0mdrop\u001b[0m\u001b[0;34m(\u001b[0m\u001b[0mindex\u001b[0m \u001b[0;34m=\u001b[0m \u001b[0;34m\"test_PTID\"\u001b[0m\u001b[0;34m,\u001b[0m \u001b[0minplace\u001b[0m\u001b[0;34m=\u001b[0m\u001b[0;32mTrue\u001b[0m\u001b[0;34m)\u001b[0m\u001b[0;34m\u001b[0m\u001b[0;34m\u001b[0m\u001b[0m\n\u001b[0m",
      "\u001b[0;32m/usr/local/anaconda3/lib/python3.7/site-packages/pandas/util/_decorators.py\u001b[0m in \u001b[0;36mwrapper\u001b[0;34m(*args, **kwargs)\u001b[0m\n\u001b[1;32m    309\u001b[0m                     \u001b[0mstacklevel\u001b[0m\u001b[0;34m=\u001b[0m\u001b[0mstacklevel\u001b[0m\u001b[0;34m,\u001b[0m\u001b[0;34m\u001b[0m\u001b[0;34m\u001b[0m\u001b[0m\n\u001b[1;32m    310\u001b[0m                 )\n\u001b[0;32m--> 311\u001b[0;31m             \u001b[0;32mreturn\u001b[0m \u001b[0mfunc\u001b[0m\u001b[0;34m(\u001b[0m\u001b[0;34m*\u001b[0m\u001b[0margs\u001b[0m\u001b[0;34m,\u001b[0m \u001b[0;34m**\u001b[0m\u001b[0mkwargs\u001b[0m\u001b[0;34m)\u001b[0m\u001b[0;34m\u001b[0m\u001b[0;34m\u001b[0m\u001b[0m\n\u001b[0m\u001b[1;32m    312\u001b[0m \u001b[0;34m\u001b[0m\u001b[0m\n\u001b[1;32m    313\u001b[0m         \u001b[0;32mreturn\u001b[0m \u001b[0mwrapper\u001b[0m\u001b[0;34m\u001b[0m\u001b[0;34m\u001b[0m\u001b[0m\n",
      "\u001b[0;32m/usr/local/anaconda3/lib/python3.7/site-packages/pandas/core/frame.py\u001b[0m in \u001b[0;36mdrop\u001b[0;34m(self, labels, axis, index, columns, level, inplace, errors)\u001b[0m\n\u001b[1;32m   4911\u001b[0m             \u001b[0mlevel\u001b[0m\u001b[0;34m=\u001b[0m\u001b[0mlevel\u001b[0m\u001b[0;34m,\u001b[0m\u001b[0;34m\u001b[0m\u001b[0;34m\u001b[0m\u001b[0m\n\u001b[1;32m   4912\u001b[0m             \u001b[0minplace\u001b[0m\u001b[0;34m=\u001b[0m\u001b[0minplace\u001b[0m\u001b[0;34m,\u001b[0m\u001b[0;34m\u001b[0m\u001b[0;34m\u001b[0m\u001b[0m\n\u001b[0;32m-> 4913\u001b[0;31m             \u001b[0merrors\u001b[0m\u001b[0;34m=\u001b[0m\u001b[0merrors\u001b[0m\u001b[0;34m,\u001b[0m\u001b[0;34m\u001b[0m\u001b[0;34m\u001b[0m\u001b[0m\n\u001b[0m\u001b[1;32m   4914\u001b[0m         )\n\u001b[1;32m   4915\u001b[0m \u001b[0;34m\u001b[0m\u001b[0m\n",
      "\u001b[0;32m/usr/local/anaconda3/lib/python3.7/site-packages/pandas/core/generic.py\u001b[0m in \u001b[0;36mdrop\u001b[0;34m(self, labels, axis, index, columns, level, inplace, errors)\u001b[0m\n\u001b[1;32m   4148\u001b[0m         \u001b[0;32mfor\u001b[0m \u001b[0maxis\u001b[0m\u001b[0;34m,\u001b[0m \u001b[0mlabels\u001b[0m \u001b[0;32min\u001b[0m \u001b[0maxes\u001b[0m\u001b[0;34m.\u001b[0m\u001b[0mitems\u001b[0m\u001b[0;34m(\u001b[0m\u001b[0;34m)\u001b[0m\u001b[0;34m:\u001b[0m\u001b[0;34m\u001b[0m\u001b[0;34m\u001b[0m\u001b[0m\n\u001b[1;32m   4149\u001b[0m             \u001b[0;32mif\u001b[0m \u001b[0mlabels\u001b[0m \u001b[0;32mis\u001b[0m \u001b[0;32mnot\u001b[0m \u001b[0;32mNone\u001b[0m\u001b[0;34m:\u001b[0m\u001b[0;34m\u001b[0m\u001b[0;34m\u001b[0m\u001b[0m\n\u001b[0;32m-> 4150\u001b[0;31m                 \u001b[0mobj\u001b[0m \u001b[0;34m=\u001b[0m \u001b[0mobj\u001b[0m\u001b[0;34m.\u001b[0m\u001b[0m_drop_axis\u001b[0m\u001b[0;34m(\u001b[0m\u001b[0mlabels\u001b[0m\u001b[0;34m,\u001b[0m \u001b[0maxis\u001b[0m\u001b[0;34m,\u001b[0m \u001b[0mlevel\u001b[0m\u001b[0;34m=\u001b[0m\u001b[0mlevel\u001b[0m\u001b[0;34m,\u001b[0m \u001b[0merrors\u001b[0m\u001b[0;34m=\u001b[0m\u001b[0merrors\u001b[0m\u001b[0;34m)\u001b[0m\u001b[0;34m\u001b[0m\u001b[0;34m\u001b[0m\u001b[0m\n\u001b[0m\u001b[1;32m   4151\u001b[0m \u001b[0;34m\u001b[0m\u001b[0m\n\u001b[1;32m   4152\u001b[0m         \u001b[0;32mif\u001b[0m \u001b[0minplace\u001b[0m\u001b[0;34m:\u001b[0m\u001b[0;34m\u001b[0m\u001b[0;34m\u001b[0m\u001b[0m\n",
      "\u001b[0;32m/usr/local/anaconda3/lib/python3.7/site-packages/pandas/core/generic.py\u001b[0m in \u001b[0;36m_drop_axis\u001b[0;34m(self, labels, axis, level, errors)\u001b[0m\n\u001b[1;32m   4183\u001b[0m                 \u001b[0mnew_axis\u001b[0m \u001b[0;34m=\u001b[0m \u001b[0maxis\u001b[0m\u001b[0;34m.\u001b[0m\u001b[0mdrop\u001b[0m\u001b[0;34m(\u001b[0m\u001b[0mlabels\u001b[0m\u001b[0;34m,\u001b[0m \u001b[0mlevel\u001b[0m\u001b[0;34m=\u001b[0m\u001b[0mlevel\u001b[0m\u001b[0;34m,\u001b[0m \u001b[0merrors\u001b[0m\u001b[0;34m=\u001b[0m\u001b[0merrors\u001b[0m\u001b[0;34m)\u001b[0m\u001b[0;34m\u001b[0m\u001b[0;34m\u001b[0m\u001b[0m\n\u001b[1;32m   4184\u001b[0m             \u001b[0;32melse\u001b[0m\u001b[0;34m:\u001b[0m\u001b[0;34m\u001b[0m\u001b[0;34m\u001b[0m\u001b[0m\n\u001b[0;32m-> 4185\u001b[0;31m                 \u001b[0mnew_axis\u001b[0m \u001b[0;34m=\u001b[0m \u001b[0maxis\u001b[0m\u001b[0;34m.\u001b[0m\u001b[0mdrop\u001b[0m\u001b[0;34m(\u001b[0m\u001b[0mlabels\u001b[0m\u001b[0;34m,\u001b[0m \u001b[0merrors\u001b[0m\u001b[0;34m=\u001b[0m\u001b[0merrors\u001b[0m\u001b[0;34m)\u001b[0m\u001b[0;34m\u001b[0m\u001b[0;34m\u001b[0m\u001b[0m\n\u001b[0m\u001b[1;32m   4186\u001b[0m             \u001b[0mresult\u001b[0m \u001b[0;34m=\u001b[0m \u001b[0mself\u001b[0m\u001b[0;34m.\u001b[0m\u001b[0mreindex\u001b[0m\u001b[0;34m(\u001b[0m\u001b[0;34m**\u001b[0m\u001b[0;34m{\u001b[0m\u001b[0maxis_name\u001b[0m\u001b[0;34m:\u001b[0m \u001b[0mnew_axis\u001b[0m\u001b[0;34m}\u001b[0m\u001b[0;34m)\u001b[0m\u001b[0;34m\u001b[0m\u001b[0;34m\u001b[0m\u001b[0m\n\u001b[1;32m   4187\u001b[0m \u001b[0;34m\u001b[0m\u001b[0m\n",
      "\u001b[0;32m/usr/local/anaconda3/lib/python3.7/site-packages/pandas/core/indexes/base.py\u001b[0m in \u001b[0;36mdrop\u001b[0;34m(self, labels, errors)\u001b[0m\n\u001b[1;32m   6015\u001b[0m         \u001b[0;32mif\u001b[0m \u001b[0mmask\u001b[0m\u001b[0;34m.\u001b[0m\u001b[0many\u001b[0m\u001b[0;34m(\u001b[0m\u001b[0;34m)\u001b[0m\u001b[0;34m:\u001b[0m\u001b[0;34m\u001b[0m\u001b[0;34m\u001b[0m\u001b[0m\n\u001b[1;32m   6016\u001b[0m             \u001b[0;32mif\u001b[0m \u001b[0merrors\u001b[0m \u001b[0;34m!=\u001b[0m \u001b[0;34m\"ignore\"\u001b[0m\u001b[0;34m:\u001b[0m\u001b[0;34m\u001b[0m\u001b[0;34m\u001b[0m\u001b[0m\n\u001b[0;32m-> 6017\u001b[0;31m                 \u001b[0;32mraise\u001b[0m \u001b[0mKeyError\u001b[0m\u001b[0;34m(\u001b[0m\u001b[0;34mf\"{labels[mask]} not found in axis\"\u001b[0m\u001b[0;34m)\u001b[0m\u001b[0;34m\u001b[0m\u001b[0;34m\u001b[0m\u001b[0m\n\u001b[0m\u001b[1;32m   6018\u001b[0m             \u001b[0mindexer\u001b[0m \u001b[0;34m=\u001b[0m \u001b[0mindexer\u001b[0m\u001b[0;34m[\u001b[0m\u001b[0;34m~\u001b[0m\u001b[0mmask\u001b[0m\u001b[0;34m]\u001b[0m\u001b[0;34m\u001b[0m\u001b[0;34m\u001b[0m\u001b[0m\n\u001b[1;32m   6019\u001b[0m         \u001b[0;32mreturn\u001b[0m \u001b[0mself\u001b[0m\u001b[0;34m.\u001b[0m\u001b[0mdelete\u001b[0m\u001b[0;34m(\u001b[0m\u001b[0mindexer\u001b[0m\u001b[0;34m)\u001b[0m\u001b[0;34m\u001b[0m\u001b[0;34m\u001b[0m\u001b[0m\n",
      "\u001b[0;31mKeyError\u001b[0m: \"['test_PTID'] not found in axis\""
     ]
    }
   ],
   "source": [
    "gmv_df.drop(index = \"test_PTID\", inplace=True)"
   ]
  },
  {
   "cell_type": "code",
   "execution_count": 32,
   "id": "b4e4a1d8",
   "metadata": {},
   "outputs": [],
   "source": [
    "# inputs: ptid, proper diagnosis\n",
    "def rediagnose(ptid, diagnosis):\n",
    "    print(\"Rediagnosing \" + ptid + \" to \" + diagnosis)\n",
    "    update = pd.DataFrame(data = {\"PTID\": [ptid], \"diagnosis\": [diagnosis]}, index = [ptid])\n",
    "    try:\n",
    "        test = gmv_df.loc[ptid]\n",
    "        gmv_df.update(update)\n",
    "    except Exception as e:\n",
    "        print(str(e))\n",
    "    try:\n",
    "        test = r2f_df.loc[ptid]\n",
    "        r2f_df.update(update)\n",
    "    except Exception as e:\n",
    "        print(str(e))\n",
    "    try:\n",
    "        test = r2sn_df.loc[ptid]\n",
    "        r2sn_df.update(update)\n",
    "    except Exception as e:\n",
    "        print(str(e))\n",
    "    try:\n",
    "        test = rmcs_df.loc[ptid]\n",
    "        rmcs_df.update(update)\n",
    "    except Exception as e:\n",
    "        print(str(e))"
   ]
  },
  {
   "cell_type": "code",
   "execution_count": 26,
   "id": "8421026a",
   "metadata": {},
   "outputs": [],
   "source": [
    "rediagnose(\"023_S_1104\", \"MCI\")\n",
    "rediagnose(\"023_S_0058\", \"NL\")\n",
    "rediagnose(\"057_S_0643\", \"NL\")\n",
    "rediagnose(\"099_S_0533\", \"NL\")\n",
    "rediagnose(\"082_S_0640\", \"NL\")\n",
    "rediagnose(\"005_S_0223\", \"NL\")\n",
    "rediagnose(\"021_S_0626\", \"MCI\")\n",
    "rediagnose(\"036_S_0869\", \"MCI\")\n",
    "rediagnose(\"005_S_0572\", \"MCI\")\n",
    "rediagnose(\"023_S_1190\", \"NL\")\n",
    "rediagnose(\"011_S_0022\", \"NL\")\n",
    "rediagnose(\"068_S_1191\", \"NL\")"
   ]
  },
  {
   "cell_type": "code",
   "execution_count": 27,
   "id": "4acbfcfb",
   "metadata": {},
   "outputs": [
    {
     "data": {
      "text/plain": [
       "AD     12\n",
       "NL      8\n",
       "MCI     4\n",
       "Name: diagnosis, dtype: int64"
      ]
     },
     "execution_count": 27,
     "metadata": {},
     "output_type": "execute_result"
    }
   ],
   "source": [
    "r2f_df[\"diagnosis\"].value_counts()"
   ]
  },
  {
   "cell_type": "code",
   "execution_count": 28,
   "id": "43e18009",
   "metadata": {},
   "outputs": [
    {
     "data": {
      "text/plain": [
       "AD     12\n",
       "NL      8\n",
       "MCI     4\n",
       "Name: diagnosis, dtype: int64"
      ]
     },
     "execution_count": 28,
     "metadata": {},
     "output_type": "execute_result"
    }
   ],
   "source": [
    "gmv_df[\"diagnosis\"].value_counts()"
   ]
  },
  {
   "cell_type": "code",
   "execution_count": 29,
   "id": "011fdf75",
   "metadata": {},
   "outputs": [
    {
     "data": {
      "text/plain": [
       "AD     12\n",
       "NL      8\n",
       "MCI     4\n",
       "Name: diagnosis, dtype: int64"
      ]
     },
     "execution_count": 29,
     "metadata": {},
     "output_type": "execute_result"
    }
   ],
   "source": [
    "r2sn_df[\"diagnosis\"].value_counts()"
   ]
  },
  {
   "cell_type": "code",
   "execution_count": 30,
   "id": "a05f1d8a",
   "metadata": {},
   "outputs": [
    {
     "data": {
      "text/plain": [
       "AD     12\n",
       "NL      8\n",
       "MCI     4\n",
       "Name: diagnosis, dtype: int64"
      ]
     },
     "execution_count": 30,
     "metadata": {},
     "output_type": "execute_result"
    }
   ],
   "source": [
    "rmcs_df[\"diagnosis\"].value_counts()"
   ]
  },
  {
   "cell_type": "code",
   "execution_count": 31,
   "id": "7c9ce78e",
   "metadata": {},
   "outputs": [
    {
     "data": {
      "text/html": [
       "<div>\n",
       "<style scoped>\n",
       "    .dataframe tbody tr th:only-of-type {\n",
       "        vertical-align: middle;\n",
       "    }\n",
       "\n",
       "    .dataframe tbody tr th {\n",
       "        vertical-align: top;\n",
       "    }\n",
       "\n",
       "    .dataframe thead th {\n",
       "        text-align: right;\n",
       "    }\n",
       "</style>\n",
       "<table border=\"1\" class=\"dataframe\">\n",
       "  <thead>\n",
       "    <tr style=\"text-align: right;\">\n",
       "      <th></th>\n",
       "      <th>Unnamed: 0</th>\n",
       "      <th>Unnamed: 0.1</th>\n",
       "      <th>diagnosis</th>\n",
       "      <th>scan_name</th>\n",
       "      <th>roi_0_gmv</th>\n",
       "      <th>roi_1_gmv</th>\n",
       "      <th>roi_2_gmv</th>\n",
       "      <th>roi_3_gmv</th>\n",
       "      <th>roi_4_gmv</th>\n",
       "      <th>roi_5_gmv</th>\n",
       "      <th>...</th>\n",
       "      <th>roi_236_gmv</th>\n",
       "      <th>roi_237_gmv</th>\n",
       "      <th>roi_238_gmv</th>\n",
       "      <th>roi_239_gmv</th>\n",
       "      <th>roi_240_gmv</th>\n",
       "      <th>roi_241_gmv</th>\n",
       "      <th>roi_242_gmv</th>\n",
       "      <th>roi_243_gmv</th>\n",
       "      <th>roi_244_gmv</th>\n",
       "      <th>roi_245_gmv</th>\n",
       "    </tr>\n",
       "    <tr>\n",
       "      <th>PTID</th>\n",
       "      <th></th>\n",
       "      <th></th>\n",
       "      <th></th>\n",
       "      <th></th>\n",
       "      <th></th>\n",
       "      <th></th>\n",
       "      <th></th>\n",
       "      <th></th>\n",
       "      <th></th>\n",
       "      <th></th>\n",
       "      <th></th>\n",
       "      <th></th>\n",
       "      <th></th>\n",
       "      <th></th>\n",
       "      <th></th>\n",
       "      <th></th>\n",
       "      <th></th>\n",
       "      <th></th>\n",
       "      <th></th>\n",
       "      <th></th>\n",
       "      <th></th>\n",
       "    </tr>\n",
       "  </thead>\n",
       "  <tbody>\n",
       "    <tr>\n",
       "      <th>099_S_0040</th>\n",
       "      <td>0</td>\n",
       "      <td>0</td>\n",
       "      <td>AD</td>\n",
       "      <td>latest_scan</td>\n",
       "      <td>0</td>\n",
       "      <td>0</td>\n",
       "      <td>0</td>\n",
       "      <td>23</td>\n",
       "      <td>0</td>\n",
       "      <td>316</td>\n",
       "      <td>...</td>\n",
       "      <td>0</td>\n",
       "      <td>1</td>\n",
       "      <td>0</td>\n",
       "      <td>10</td>\n",
       "      <td>0</td>\n",
       "      <td>1</td>\n",
       "      <td>0</td>\n",
       "      <td>0</td>\n",
       "      <td>0</td>\n",
       "      <td>0</td>\n",
       "    </tr>\n",
       "    <tr>\n",
       "      <th>099_S_0352</th>\n",
       "      <td>1</td>\n",
       "      <td>0</td>\n",
       "      <td>AD</td>\n",
       "      <td>latest_scan</td>\n",
       "      <td>162</td>\n",
       "      <td>104</td>\n",
       "      <td>0</td>\n",
       "      <td>0</td>\n",
       "      <td>0</td>\n",
       "      <td>0</td>\n",
       "      <td>...</td>\n",
       "      <td>200</td>\n",
       "      <td>187</td>\n",
       "      <td>61</td>\n",
       "      <td>166</td>\n",
       "      <td>66</td>\n",
       "      <td>40</td>\n",
       "      <td>49</td>\n",
       "      <td>205</td>\n",
       "      <td>145</td>\n",
       "      <td>146</td>\n",
       "    </tr>\n",
       "    <tr>\n",
       "      <th>005_S_0221</th>\n",
       "      <td>2</td>\n",
       "      <td>0</td>\n",
       "      <td>AD</td>\n",
       "      <td>latest_scan</td>\n",
       "      <td>0</td>\n",
       "      <td>0</td>\n",
       "      <td>0</td>\n",
       "      <td>0</td>\n",
       "      <td>0</td>\n",
       "      <td>0</td>\n",
       "      <td>...</td>\n",
       "      <td>57</td>\n",
       "      <td>100</td>\n",
       "      <td>10</td>\n",
       "      <td>187</td>\n",
       "      <td>43</td>\n",
       "      <td>21</td>\n",
       "      <td>18</td>\n",
       "      <td>171</td>\n",
       "      <td>29</td>\n",
       "      <td>104</td>\n",
       "    </tr>\n",
       "    <tr>\n",
       "      <th>136_S_0300</th>\n",
       "      <td>4</td>\n",
       "      <td>0</td>\n",
       "      <td>AD</td>\n",
       "      <td>latest_scan</td>\n",
       "      <td>0</td>\n",
       "      <td>0</td>\n",
       "      <td>0</td>\n",
       "      <td>20</td>\n",
       "      <td>0</td>\n",
       "      <td>3</td>\n",
       "      <td>...</td>\n",
       "      <td>0</td>\n",
       "      <td>0</td>\n",
       "      <td>0</td>\n",
       "      <td>0</td>\n",
       "      <td>0</td>\n",
       "      <td>0</td>\n",
       "      <td>0</td>\n",
       "      <td>0</td>\n",
       "      <td>0</td>\n",
       "      <td>0</td>\n",
       "    </tr>\n",
       "    <tr>\n",
       "      <th>023_S_0916</th>\n",
       "      <td>5</td>\n",
       "      <td>0</td>\n",
       "      <td>AD</td>\n",
       "      <td>latest_scan</td>\n",
       "      <td>0</td>\n",
       "      <td>17</td>\n",
       "      <td>0</td>\n",
       "      <td>156</td>\n",
       "      <td>0</td>\n",
       "      <td>745</td>\n",
       "      <td>...</td>\n",
       "      <td>0</td>\n",
       "      <td>0</td>\n",
       "      <td>0</td>\n",
       "      <td>0</td>\n",
       "      <td>0</td>\n",
       "      <td>0</td>\n",
       "      <td>0</td>\n",
       "      <td>0</td>\n",
       "      <td>0</td>\n",
       "      <td>0</td>\n",
       "    </tr>\n",
       "    <tr>\n",
       "      <th>126_S_0784</th>\n",
       "      <td>6</td>\n",
       "      <td>0</td>\n",
       "      <td>AD</td>\n",
       "      <td>latest_scan</td>\n",
       "      <td>4</td>\n",
       "      <td>16</td>\n",
       "      <td>0</td>\n",
       "      <td>26</td>\n",
       "      <td>0</td>\n",
       "      <td>319</td>\n",
       "      <td>...</td>\n",
       "      <td>0</td>\n",
       "      <td>4</td>\n",
       "      <td>0</td>\n",
       "      <td>0</td>\n",
       "      <td>0</td>\n",
       "      <td>0</td>\n",
       "      <td>0</td>\n",
       "      <td>13</td>\n",
       "      <td>0</td>\n",
       "      <td>0</td>\n",
       "    </tr>\n",
       "    <tr>\n",
       "      <th>127_S_0844</th>\n",
       "      <td>7</td>\n",
       "      <td>0</td>\n",
       "      <td>AD</td>\n",
       "      <td>latest_scan</td>\n",
       "      <td>0</td>\n",
       "      <td>0</td>\n",
       "      <td>0</td>\n",
       "      <td>0</td>\n",
       "      <td>0</td>\n",
       "      <td>0</td>\n",
       "      <td>...</td>\n",
       "      <td>0</td>\n",
       "      <td>0</td>\n",
       "      <td>0</td>\n",
       "      <td>0</td>\n",
       "      <td>0</td>\n",
       "      <td>0</td>\n",
       "      <td>0</td>\n",
       "      <td>0</td>\n",
       "      <td>0</td>\n",
       "      <td>0</td>\n",
       "    </tr>\n",
       "    <tr>\n",
       "      <th>023_S_1289</th>\n",
       "      <td>8</td>\n",
       "      <td>0</td>\n",
       "      <td>AD</td>\n",
       "      <td>latest_scan</td>\n",
       "      <td>0</td>\n",
       "      <td>0</td>\n",
       "      <td>0</td>\n",
       "      <td>0</td>\n",
       "      <td>0</td>\n",
       "      <td>0</td>\n",
       "      <td>...</td>\n",
       "      <td>0</td>\n",
       "      <td>0</td>\n",
       "      <td>0</td>\n",
       "      <td>0</td>\n",
       "      <td>0</td>\n",
       "      <td>0</td>\n",
       "      <td>0</td>\n",
       "      <td>0</td>\n",
       "      <td>0</td>\n",
       "      <td>0</td>\n",
       "    </tr>\n",
       "    <tr>\n",
       "      <th>027_S_0404</th>\n",
       "      <td>9</td>\n",
       "      <td>0</td>\n",
       "      <td>AD</td>\n",
       "      <td>latest_scan</td>\n",
       "      <td>0</td>\n",
       "      <td>0</td>\n",
       "      <td>0</td>\n",
       "      <td>3</td>\n",
       "      <td>0</td>\n",
       "      <td>0</td>\n",
       "      <td>...</td>\n",
       "      <td>0</td>\n",
       "      <td>0</td>\n",
       "      <td>0</td>\n",
       "      <td>0</td>\n",
       "      <td>0</td>\n",
       "      <td>0</td>\n",
       "      <td>0</td>\n",
       "      <td>0</td>\n",
       "      <td>0</td>\n",
       "      <td>0</td>\n",
       "    </tr>\n",
       "    <tr>\n",
       "      <th>023_S_1104</th>\n",
       "      <td>10</td>\n",
       "      <td>0</td>\n",
       "      <td>MCI</td>\n",
       "      <td>latest_scan</td>\n",
       "      <td>8</td>\n",
       "      <td>0</td>\n",
       "      <td>0</td>\n",
       "      <td>0</td>\n",
       "      <td>0</td>\n",
       "      <td>0</td>\n",
       "      <td>...</td>\n",
       "      <td>294</td>\n",
       "      <td>204</td>\n",
       "      <td>27</td>\n",
       "      <td>173</td>\n",
       "      <td>63</td>\n",
       "      <td>40</td>\n",
       "      <td>101</td>\n",
       "      <td>229</td>\n",
       "      <td>113</td>\n",
       "      <td>162</td>\n",
       "    </tr>\n",
       "    <tr>\n",
       "      <th>067_S_1253</th>\n",
       "      <td>11</td>\n",
       "      <td>0</td>\n",
       "      <td>AD</td>\n",
       "      <td>latest_scan</td>\n",
       "      <td>0</td>\n",
       "      <td>124</td>\n",
       "      <td>0</td>\n",
       "      <td>172</td>\n",
       "      <td>0</td>\n",
       "      <td>595</td>\n",
       "      <td>...</td>\n",
       "      <td>0</td>\n",
       "      <td>0</td>\n",
       "      <td>0</td>\n",
       "      <td>17</td>\n",
       "      <td>0</td>\n",
       "      <td>0</td>\n",
       "      <td>0</td>\n",
       "      <td>10</td>\n",
       "      <td>0</td>\n",
       "      <td>44</td>\n",
       "    </tr>\n",
       "    <tr>\n",
       "      <th>005_S_0814</th>\n",
       "      <td>12</td>\n",
       "      <td>0</td>\n",
       "      <td>AD</td>\n",
       "      <td>latest_scan</td>\n",
       "      <td>0</td>\n",
       "      <td>0</td>\n",
       "      <td>0</td>\n",
       "      <td>0</td>\n",
       "      <td>0</td>\n",
       "      <td>0</td>\n",
       "      <td>...</td>\n",
       "      <td>107</td>\n",
       "      <td>171</td>\n",
       "      <td>0</td>\n",
       "      <td>135</td>\n",
       "      <td>0</td>\n",
       "      <td>33</td>\n",
       "      <td>1</td>\n",
       "      <td>86</td>\n",
       "      <td>8</td>\n",
       "      <td>132</td>\n",
       "    </tr>\n",
       "    <tr>\n",
       "      <th>126_S_0606</th>\n",
       "      <td>13</td>\n",
       "      <td>0</td>\n",
       "      <td>AD</td>\n",
       "      <td>latest_scan</td>\n",
       "      <td>0</td>\n",
       "      <td>0</td>\n",
       "      <td>0</td>\n",
       "      <td>0</td>\n",
       "      <td>0</td>\n",
       "      <td>0</td>\n",
       "      <td>...</td>\n",
       "      <td>242</td>\n",
       "      <td>179</td>\n",
       "      <td>22</td>\n",
       "      <td>200</td>\n",
       "      <td>67</td>\n",
       "      <td>25</td>\n",
       "      <td>44</td>\n",
       "      <td>182</td>\n",
       "      <td>106</td>\n",
       "      <td>126</td>\n",
       "    </tr>\n",
       "    <tr>\n",
       "      <th>021_S_0626</th>\n",
       "      <td>14</td>\n",
       "      <td>0</td>\n",
       "      <td>MCI</td>\n",
       "      <td>latest_scan</td>\n",
       "      <td>0</td>\n",
       "      <td>0</td>\n",
       "      <td>0</td>\n",
       "      <td>0</td>\n",
       "      <td>0</td>\n",
       "      <td>0</td>\n",
       "      <td>...</td>\n",
       "      <td>0</td>\n",
       "      <td>0</td>\n",
       "      <td>0</td>\n",
       "      <td>0</td>\n",
       "      <td>0</td>\n",
       "      <td>0</td>\n",
       "      <td>0</td>\n",
       "      <td>0</td>\n",
       "      <td>0</td>\n",
       "      <td>0</td>\n",
       "    </tr>\n",
       "    <tr>\n",
       "      <th>036_S_0869</th>\n",
       "      <td>15</td>\n",
       "      <td>0</td>\n",
       "      <td>MCI</td>\n",
       "      <td>latest_scan</td>\n",
       "      <td>0</td>\n",
       "      <td>110</td>\n",
       "      <td>0</td>\n",
       "      <td>84</td>\n",
       "      <td>2</td>\n",
       "      <td>540</td>\n",
       "      <td>...</td>\n",
       "      <td>0</td>\n",
       "      <td>0</td>\n",
       "      <td>0</td>\n",
       "      <td>4</td>\n",
       "      <td>0</td>\n",
       "      <td>0</td>\n",
       "      <td>0</td>\n",
       "      <td>17</td>\n",
       "      <td>0</td>\n",
       "      <td>24</td>\n",
       "    </tr>\n",
       "    <tr>\n",
       "      <th>005_S_0572</th>\n",
       "      <td>16</td>\n",
       "      <td>0</td>\n",
       "      <td>MCI</td>\n",
       "      <td>latest_scan</td>\n",
       "      <td>0</td>\n",
       "      <td>0</td>\n",
       "      <td>0</td>\n",
       "      <td>0</td>\n",
       "      <td>0</td>\n",
       "      <td>0</td>\n",
       "      <td>...</td>\n",
       "      <td>0</td>\n",
       "      <td>0</td>\n",
       "      <td>0</td>\n",
       "      <td>0</td>\n",
       "      <td>0</td>\n",
       "      <td>0</td>\n",
       "      <td>0</td>\n",
       "      <td>0</td>\n",
       "      <td>0</td>\n",
       "      <td>0</td>\n",
       "    </tr>\n",
       "    <tr>\n",
       "      <th>023_S_1190</th>\n",
       "      <td>17</td>\n",
       "      <td>0</td>\n",
       "      <td>NL</td>\n",
       "      <td>latest_scan</td>\n",
       "      <td>2</td>\n",
       "      <td>0</td>\n",
       "      <td>0</td>\n",
       "      <td>0</td>\n",
       "      <td>0</td>\n",
       "      <td>0</td>\n",
       "      <td>...</td>\n",
       "      <td>288</td>\n",
       "      <td>207</td>\n",
       "      <td>29</td>\n",
       "      <td>205</td>\n",
       "      <td>81</td>\n",
       "      <td>46</td>\n",
       "      <td>57</td>\n",
       "      <td>140</td>\n",
       "      <td>57</td>\n",
       "      <td>109</td>\n",
       "    </tr>\n",
       "    <tr>\n",
       "      <th>023_S_0058</th>\n",
       "      <td>18</td>\n",
       "      <td>0</td>\n",
       "      <td>NL</td>\n",
       "      <td>latest_scan</td>\n",
       "      <td>0</td>\n",
       "      <td>20</td>\n",
       "      <td>0</td>\n",
       "      <td>90</td>\n",
       "      <td>0</td>\n",
       "      <td>668</td>\n",
       "      <td>...</td>\n",
       "      <td>0</td>\n",
       "      <td>2</td>\n",
       "      <td>0</td>\n",
       "      <td>91</td>\n",
       "      <td>0</td>\n",
       "      <td>8</td>\n",
       "      <td>0</td>\n",
       "      <td>14</td>\n",
       "      <td>0</td>\n",
       "      <td>65</td>\n",
       "    </tr>\n",
       "    <tr>\n",
       "      <th>011_S_0022</th>\n",
       "      <td>19</td>\n",
       "      <td>0</td>\n",
       "      <td>NL</td>\n",
       "      <td>latest_scan</td>\n",
       "      <td>0</td>\n",
       "      <td>60</td>\n",
       "      <td>0</td>\n",
       "      <td>20</td>\n",
       "      <td>0</td>\n",
       "      <td>393</td>\n",
       "      <td>...</td>\n",
       "      <td>0</td>\n",
       "      <td>3</td>\n",
       "      <td>0</td>\n",
       "      <td>256</td>\n",
       "      <td>0</td>\n",
       "      <td>10</td>\n",
       "      <td>0</td>\n",
       "      <td>44</td>\n",
       "      <td>0</td>\n",
       "      <td>113</td>\n",
       "    </tr>\n",
       "    <tr>\n",
       "      <th>068_S_1191</th>\n",
       "      <td>20</td>\n",
       "      <td>0</td>\n",
       "      <td>NL</td>\n",
       "      <td>latest_scan</td>\n",
       "      <td>0</td>\n",
       "      <td>0</td>\n",
       "      <td>0</td>\n",
       "      <td>0</td>\n",
       "      <td>0</td>\n",
       "      <td>0</td>\n",
       "      <td>...</td>\n",
       "      <td>0</td>\n",
       "      <td>0</td>\n",
       "      <td>0</td>\n",
       "      <td>0</td>\n",
       "      <td>0</td>\n",
       "      <td>0</td>\n",
       "      <td>0</td>\n",
       "      <td>0</td>\n",
       "      <td>0</td>\n",
       "      <td>0</td>\n",
       "    </tr>\n",
       "    <tr>\n",
       "      <th>057_S_0643</th>\n",
       "      <td>21</td>\n",
       "      <td>0</td>\n",
       "      <td>NL</td>\n",
       "      <td>latest_scan</td>\n",
       "      <td>10</td>\n",
       "      <td>0</td>\n",
       "      <td>215</td>\n",
       "      <td>14</td>\n",
       "      <td>654</td>\n",
       "      <td>527</td>\n",
       "      <td>...</td>\n",
       "      <td>151</td>\n",
       "      <td>77</td>\n",
       "      <td>17</td>\n",
       "      <td>19</td>\n",
       "      <td>6</td>\n",
       "      <td>2</td>\n",
       "      <td>36</td>\n",
       "      <td>87</td>\n",
       "      <td>338</td>\n",
       "      <td>83</td>\n",
       "    </tr>\n",
       "    <tr>\n",
       "      <th>099_S_0533</th>\n",
       "      <td>22</td>\n",
       "      <td>0</td>\n",
       "      <td>NL</td>\n",
       "      <td>latest_scan</td>\n",
       "      <td>0</td>\n",
       "      <td>194</td>\n",
       "      <td>0</td>\n",
       "      <td>54</td>\n",
       "      <td>2</td>\n",
       "      <td>657</td>\n",
       "      <td>...</td>\n",
       "      <td>0</td>\n",
       "      <td>49</td>\n",
       "      <td>0</td>\n",
       "      <td>158</td>\n",
       "      <td>0</td>\n",
       "      <td>43</td>\n",
       "      <td>0</td>\n",
       "      <td>125</td>\n",
       "      <td>0</td>\n",
       "      <td>94</td>\n",
       "    </tr>\n",
       "    <tr>\n",
       "      <th>082_S_0640</th>\n",
       "      <td>23</td>\n",
       "      <td>0</td>\n",
       "      <td>NL</td>\n",
       "      <td>latest_scan</td>\n",
       "      <td>0</td>\n",
       "      <td>0</td>\n",
       "      <td>0</td>\n",
       "      <td>76</td>\n",
       "      <td>0</td>\n",
       "      <td>250</td>\n",
       "      <td>...</td>\n",
       "      <td>0</td>\n",
       "      <td>0</td>\n",
       "      <td>0</td>\n",
       "      <td>0</td>\n",
       "      <td>0</td>\n",
       "      <td>0</td>\n",
       "      <td>0</td>\n",
       "      <td>0</td>\n",
       "      <td>0</td>\n",
       "      <td>2</td>\n",
       "    </tr>\n",
       "    <tr>\n",
       "      <th>005_S_0223</th>\n",
       "      <td>24</td>\n",
       "      <td>0</td>\n",
       "      <td>NL</td>\n",
       "      <td>latest_scan</td>\n",
       "      <td>0</td>\n",
       "      <td>0</td>\n",
       "      <td>0</td>\n",
       "      <td>0</td>\n",
       "      <td>0</td>\n",
       "      <td>0</td>\n",
       "      <td>...</td>\n",
       "      <td>175</td>\n",
       "      <td>140</td>\n",
       "      <td>39</td>\n",
       "      <td>130</td>\n",
       "      <td>49</td>\n",
       "      <td>31</td>\n",
       "      <td>22</td>\n",
       "      <td>142</td>\n",
       "      <td>87</td>\n",
       "      <td>100</td>\n",
       "    </tr>\n",
       "  </tbody>\n",
       "</table>\n",
       "<p>24 rows × 250 columns</p>\n",
       "</div>"
      ],
      "text/plain": [
       "            Unnamed: 0  Unnamed: 0.1 diagnosis    scan_name  roi_0_gmv  \\\n",
       "PTID                                                                     \n",
       "099_S_0040           0             0        AD  latest_scan          0   \n",
       "099_S_0352           1             0        AD  latest_scan        162   \n",
       "005_S_0221           2             0        AD  latest_scan          0   \n",
       "136_S_0300           4             0        AD  latest_scan          0   \n",
       "023_S_0916           5             0        AD  latest_scan          0   \n",
       "126_S_0784           6             0        AD  latest_scan          4   \n",
       "127_S_0844           7             0        AD  latest_scan          0   \n",
       "023_S_1289           8             0        AD  latest_scan          0   \n",
       "027_S_0404           9             0        AD  latest_scan          0   \n",
       "023_S_1104          10             0       MCI  latest_scan          8   \n",
       "067_S_1253          11             0        AD  latest_scan          0   \n",
       "005_S_0814          12             0        AD  latest_scan          0   \n",
       "126_S_0606          13             0        AD  latest_scan          0   \n",
       "021_S_0626          14             0       MCI  latest_scan          0   \n",
       "036_S_0869          15             0       MCI  latest_scan          0   \n",
       "005_S_0572          16             0       MCI  latest_scan          0   \n",
       "023_S_1190          17             0        NL  latest_scan          2   \n",
       "023_S_0058          18             0        NL  latest_scan          0   \n",
       "011_S_0022          19             0        NL  latest_scan          0   \n",
       "068_S_1191          20             0        NL  latest_scan          0   \n",
       "057_S_0643          21             0        NL  latest_scan         10   \n",
       "099_S_0533          22             0        NL  latest_scan          0   \n",
       "082_S_0640          23             0        NL  latest_scan          0   \n",
       "005_S_0223          24             0        NL  latest_scan          0   \n",
       "\n",
       "            roi_1_gmv  roi_2_gmv  roi_3_gmv  roi_4_gmv  roi_5_gmv  ...  \\\n",
       "PTID                                                               ...   \n",
       "099_S_0040          0          0         23          0        316  ...   \n",
       "099_S_0352        104          0          0          0          0  ...   \n",
       "005_S_0221          0          0          0          0          0  ...   \n",
       "136_S_0300          0          0         20          0          3  ...   \n",
       "023_S_0916         17          0        156          0        745  ...   \n",
       "126_S_0784         16          0         26          0        319  ...   \n",
       "127_S_0844          0          0          0          0          0  ...   \n",
       "023_S_1289          0          0          0          0          0  ...   \n",
       "027_S_0404          0          0          3          0          0  ...   \n",
       "023_S_1104          0          0          0          0          0  ...   \n",
       "067_S_1253        124          0        172          0        595  ...   \n",
       "005_S_0814          0          0          0          0          0  ...   \n",
       "126_S_0606          0          0          0          0          0  ...   \n",
       "021_S_0626          0          0          0          0          0  ...   \n",
       "036_S_0869        110          0         84          2        540  ...   \n",
       "005_S_0572          0          0          0          0          0  ...   \n",
       "023_S_1190          0          0          0          0          0  ...   \n",
       "023_S_0058         20          0         90          0        668  ...   \n",
       "011_S_0022         60          0         20          0        393  ...   \n",
       "068_S_1191          0          0          0          0          0  ...   \n",
       "057_S_0643          0        215         14        654        527  ...   \n",
       "099_S_0533        194          0         54          2        657  ...   \n",
       "082_S_0640          0          0         76          0        250  ...   \n",
       "005_S_0223          0          0          0          0          0  ...   \n",
       "\n",
       "            roi_236_gmv  roi_237_gmv  roi_238_gmv  roi_239_gmv  roi_240_gmv  \\\n",
       "PTID                                                                          \n",
       "099_S_0040            0            1            0           10            0   \n",
       "099_S_0352          200          187           61          166           66   \n",
       "005_S_0221           57          100           10          187           43   \n",
       "136_S_0300            0            0            0            0            0   \n",
       "023_S_0916            0            0            0            0            0   \n",
       "126_S_0784            0            4            0            0            0   \n",
       "127_S_0844            0            0            0            0            0   \n",
       "023_S_1289            0            0            0            0            0   \n",
       "027_S_0404            0            0            0            0            0   \n",
       "023_S_1104          294          204           27          173           63   \n",
       "067_S_1253            0            0            0           17            0   \n",
       "005_S_0814          107          171            0          135            0   \n",
       "126_S_0606          242          179           22          200           67   \n",
       "021_S_0626            0            0            0            0            0   \n",
       "036_S_0869            0            0            0            4            0   \n",
       "005_S_0572            0            0            0            0            0   \n",
       "023_S_1190          288          207           29          205           81   \n",
       "023_S_0058            0            2            0           91            0   \n",
       "011_S_0022            0            3            0          256            0   \n",
       "068_S_1191            0            0            0            0            0   \n",
       "057_S_0643          151           77           17           19            6   \n",
       "099_S_0533            0           49            0          158            0   \n",
       "082_S_0640            0            0            0            0            0   \n",
       "005_S_0223          175          140           39          130           49   \n",
       "\n",
       "            roi_241_gmv  roi_242_gmv  roi_243_gmv  roi_244_gmv  roi_245_gmv  \n",
       "PTID                                                                         \n",
       "099_S_0040            1            0            0            0            0  \n",
       "099_S_0352           40           49          205          145          146  \n",
       "005_S_0221           21           18          171           29          104  \n",
       "136_S_0300            0            0            0            0            0  \n",
       "023_S_0916            0            0            0            0            0  \n",
       "126_S_0784            0            0           13            0            0  \n",
       "127_S_0844            0            0            0            0            0  \n",
       "023_S_1289            0            0            0            0            0  \n",
       "027_S_0404            0            0            0            0            0  \n",
       "023_S_1104           40          101          229          113          162  \n",
       "067_S_1253            0            0           10            0           44  \n",
       "005_S_0814           33            1           86            8          132  \n",
       "126_S_0606           25           44          182          106          126  \n",
       "021_S_0626            0            0            0            0            0  \n",
       "036_S_0869            0            0           17            0           24  \n",
       "005_S_0572            0            0            0            0            0  \n",
       "023_S_1190           46           57          140           57          109  \n",
       "023_S_0058            8            0           14            0           65  \n",
       "011_S_0022           10            0           44            0          113  \n",
       "068_S_1191            0            0            0            0            0  \n",
       "057_S_0643            2           36           87          338           83  \n",
       "099_S_0533           43            0          125            0           94  \n",
       "082_S_0640            0            0            0            0            2  \n",
       "005_S_0223           31           22          142           87          100  \n",
       "\n",
       "[24 rows x 250 columns]"
      ]
     },
     "execution_count": 31,
     "metadata": {},
     "output_type": "execute_result"
    }
   ],
   "source": [
    "gmv_df"
   ]
  },
  {
   "cell_type": "code",
   "execution_count": 8,
   "id": "056a05f6",
   "metadata": {},
   "outputs": [],
   "source": [
    "# This allowed?\n",
    "r2sn_df = r2sn_df.fillna(1)\n",
    "rmcs_df = rmcs_df.fillna(1)"
   ]
  },
  {
   "cell_type": "code",
   "execution_count": 10,
   "id": "fb72fc47",
   "metadata": {},
   "outputs": [
    {
     "data": {
      "text/plain": [
       "SVC()"
      ]
     },
     "execution_count": 10,
     "metadata": {},
     "output_type": "execute_result"
    }
   ],
   "source": [
    "from sklearn.svm import SVC\n",
    "\n",
    "gmv_svm = SVC()\n",
    "r2f_svm = SVC()\n",
    "r2sn_svm = SVC()\n",
    "rmcs_svm = SVC()\n",
    "\n",
    "encoded_diagnosis = gmv_df['diagnosis'].astype('category').cat.codes\n",
    "gmv_df[\"diagnosis\"] = encoded_diagnosis\n",
    "encoded_diagnosis = r2f_df['diagnosis'].astype('category').cat.codes\n",
    "r2f_df[\"diagnosis\"] = encoded_diagnosis\n",
    "encoded_diagnosis = r2sn_df['diagnosis'].astype('category').cat.codes\n",
    "r2sn_df[\"diagnosis\"] = encoded_diagnosis\n",
    "encoded_diagnosis = rmcs_df['diagnosis'].astype('category').cat.codes\n",
    "rmcs_df[\"diagnosis\"] = encoded_diagnosis\n",
    "\n",
    "gmv_X = gmv_df.drop(['diagnosis', \"scan_name\", \"Unnamed: 0\", \"Unnamed: 0.1\"], axis=1)\n",
    "gmv_y = gmv_df['diagnosis']\n",
    "r2f_X = r2f_df.drop(['diagnosis', \"scan_name\", \"Unnamed: 0\"], axis=1)\n",
    "r2f_y = r2f_df['diagnosis']\n",
    "r2sn_X = r2sn_df.drop(['diagnosis', \"scan_name\", \"Unnamed: 0\"], axis=1)\n",
    "r2sn_y = r2sn_df['diagnosis']\n",
    "rmcs_X = rmcs_df.drop(['diagnosis', \"scan_name\", \"Unnamed: 0\"], axis=1)\n",
    "rmcs_y = rmcs_df['diagnosis']\n",
    "\n",
    "gmv_svm.fit(gmv_X, gmv_y)\n",
    "r2f_svm.fit(r2f_X, r2f_y)\n",
    "r2sn_svm.fit(r2sn_X, r2sn_y)\n",
    "rmcs_svm.fit(rmcs_X, rmcs_y)"
   ]
  },
  {
   "cell_type": "code",
   "execution_count": 11,
   "id": "59218c24",
   "metadata": {},
   "outputs": [
    {
     "name": "stderr",
     "output_type": "stream",
     "text": [
      "/usr/local/anaconda3/lib/python3.7/site-packages/sklearn/base.py:451: UserWarning: X does not have valid feature names, but SVC was fitted with feature names\n",
      "  \"X does not have valid feature names, but\"\n"
     ]
    },
    {
     "data": {
      "text/plain": [
       "array([0], dtype=int8)"
      ]
     },
     "execution_count": 11,
     "metadata": {},
     "output_type": "execute_result"
    }
   ],
   "source": [
    "y = gmv_df['diagnosis']\n",
    "X = gmv_df.loc[\"023_S_1289\"].drop(['diagnosis', \"scan_name\", \"Unnamed: 0\", \"Unnamed: 0.1\"]).to_numpy().reshape(-1, 1).T\n",
    "# print(X)\n",
    "gmv_svm.predict(X)"
   ]
  },
  {
   "cell_type": "code",
   "execution_count": 12,
   "id": "b5c4d7f7",
   "metadata": {},
   "outputs": [
    {
     "name": "stderr",
     "output_type": "stream",
     "text": [
      "/usr/local/anaconda3/lib/python3.7/site-packages/sklearn/base.py:451: UserWarning: X does not have valid feature names, but SVC was fitted with feature names\n",
      "  \"X does not have valid feature names, but\"\n"
     ]
    },
    {
     "data": {
      "text/plain": [
       "array([0], dtype=int8)"
      ]
     },
     "execution_count": 12,
     "metadata": {},
     "output_type": "execute_result"
    }
   ],
   "source": [
    "y = r2f_df['diagnosis']\n",
    "X = r2f_df.loc[\"036_S_0869\"].drop(['diagnosis', \"scan_name\", \"Unnamed: 0\"]).to_numpy().reshape(-1, 1).T\n",
    "\n",
    "r2f_svm.predict(X)"
   ]
  },
  {
   "cell_type": "code",
   "execution_count": 13,
   "id": "7394c77b",
   "metadata": {
    "scrolled": true
   },
   "outputs": [
    {
     "name": "stderr",
     "output_type": "stream",
     "text": [
      "/usr/local/anaconda3/lib/python3.7/site-packages/sklearn/base.py:451: UserWarning: X does not have valid feature names, but SVC was fitted with feature names\n",
      "  \"X does not have valid feature names, but\"\n"
     ]
    },
    {
     "data": {
      "text/plain": [
       "array([0], dtype=int8)"
      ]
     },
     "execution_count": 13,
     "metadata": {},
     "output_type": "execute_result"
    }
   ],
   "source": [
    "y = r2sn_df['diagnosis']\n",
    "X = r2sn_df.loc[\"023_S_1289\"].drop(['diagnosis', \"scan_name\", \"Unnamed: 0\"]).to_numpy().reshape(-1, 1).T\n",
    "\n",
    "r2sn_svm.predict(X)"
   ]
  },
  {
   "cell_type": "code",
   "execution_count": 14,
   "id": "bd068097",
   "metadata": {},
   "outputs": [
    {
     "name": "stderr",
     "output_type": "stream",
     "text": [
      "/usr/local/anaconda3/lib/python3.7/site-packages/sklearn/base.py:451: UserWarning: X does not have valid feature names, but SVC was fitted with feature names\n",
      "  \"X does not have valid feature names, but\"\n"
     ]
    },
    {
     "data": {
      "text/plain": [
       "array([0], dtype=int8)"
      ]
     },
     "execution_count": 14,
     "metadata": {},
     "output_type": "execute_result"
    }
   ],
   "source": [
    "y = rmcs_df['diagnosis']\n",
    "X = rmcs_df.loc[\"023_S_1289\"].drop(['diagnosis', \"scan_name\", \"Unnamed: 0\"]).to_numpy().reshape(-1, 1).T\n",
    "\n",
    "rmcs_svm.predict(X)"
   ]
  },
  {
   "cell_type": "code",
   "execution_count": 15,
   "id": "e4a2ac76",
   "metadata": {},
   "outputs": [],
   "source": [
    "from sklearn.metrics import confusion_matrix, ConfusionMatrixDisplay"
   ]
  },
  {
   "cell_type": "code",
   "execution_count": 16,
   "id": "e58e665e",
   "metadata": {
    "scrolled": true
   },
   "outputs": [
    {
     "data": {
      "text/plain": [
       "<sklearn.metrics._plot.confusion_matrix.ConfusionMatrixDisplay at 0x7f5e7067a410>"
      ]
     },
     "execution_count": 16,
     "metadata": {},
     "output_type": "execute_result"
    },
    {
     "data": {
      "image/png": "[encoded data removed]",
      "text/plain": [
       "<Figure size 432x288 with 2 Axes>"
      ]
     },
     "metadata": {
      "needs_background": "light"
     },
     "output_type": "display_data"
    }
   ],
   "source": [
    "gmv_preds = gmv_svm.predict(gmv_X)\n",
    "\n",
    "ConfusionMatrixDisplay(confusion_matrix(gmv_y, gmv_preds)).plot()"
   ]
  },
  {
   "cell_type": "code",
   "execution_count": 17,
   "id": "57173fc2",
   "metadata": {
    "scrolled": true
   },
   "outputs": [
    {
     "data": {
      "text/plain": [
       "<sklearn.metrics._plot.confusion_matrix.ConfusionMatrixDisplay at 0x7f5fed94d650>"
      ]
     },
     "execution_count": 17,
     "metadata": {},
     "output_type": "execute_result"
    },
    {
     "data": {
      "image/png": "[encoded data removed]",
      "text/plain": [
       "<Figure size 432x288 with 2 Axes>"
      ]
     },
     "metadata": {
      "needs_background": "light"
     },
     "output_type": "display_data"
    }
   ],
   "source": [
    "r2f_preds = r2f_svm.predict(r2f_X)\n",
    "\n",
    "ConfusionMatrixDisplay(confusion_matrix(r2f_y, r2f_preds)).plot()"
   ]
  },
  {
   "cell_type": "code",
   "execution_count": 18,
   "id": "b27a3990",
   "metadata": {
    "scrolled": true
   },
   "outputs": [
    {
     "data": {
      "text/plain": [
       "<sklearn.metrics._plot.confusion_matrix.ConfusionMatrixDisplay at 0x7f5fe66a88d0>"
      ]
     },
     "execution_count": 18,
     "metadata": {},
     "output_type": "execute_result"
    },
    {
     "data": {
      "image/png": "[encoded data removed]",
      "text/plain": [
       "<Figure size 432x288 with 2 Axes>"
      ]
     },
     "metadata": {
      "needs_background": "light"
     },
     "output_type": "display_data"
    }
   ],
   "source": [
    "r2sn_preds = r2sn_svm.predict(r2sn_X)\n",
    "\n",
    "ConfusionMatrixDisplay(confusion_matrix(r2sn_y, r2sn_preds)).plot()"
   ]
  },
  {
   "cell_type": "code",
   "execution_count": 19,
   "id": "8fbd62d4",
   "metadata": {
    "scrolled": false
   },
   "outputs": [
    {
     "data": {
      "text/plain": [
       "<sklearn.metrics._plot.confusion_matrix.ConfusionMatrixDisplay at 0x7f5fe627a390>"
      ]
     },
     "execution_count": 19,
     "metadata": {},
     "output_type": "execute_result"
    },
    {
     "data": {
      "image/png": "[encoded data removed]",
      "text/plain": [
       "<Figure size 432x288 with 2 Axes>"
      ]
     },
     "metadata": {
      "needs_background": "light"
     },
     "output_type": "display_data"
    }
   ],
   "source": [
    "rmcs_preds = rmcs_svm.predict(rmcs_X)\n",
    "\n",
    "ConfusionMatrixDisplay(confusion_matrix(rmcs_y, rmcs_preds)).plot()"
   ]
  },
  {
   "cell_type": "code",
   "execution_count": 22,
   "id": "4c58c4d7",
   "metadata": {},
   "outputs": [],
   "source": [
    "import numpy as np"
   ]
  },
  {
   "cell_type": "code",
   "execution_count": 24,
   "id": "7baca599",
   "metadata": {},
   "outputs": [],
   "source": [
    "gmv_preds = np.array(gmv_preds)\n",
    "r2f_preds = np.array(r2f_preds)\n",
    "r2sn_preds = np.array(r2sn_preds)\n",
    "rmcs_preds = np.array(rmcs_preds)"
   ]
  },
  {
   "cell_type": "code",
   "execution_count": 25,
   "id": "62da5234",
   "metadata": {},
   "outputs": [],
   "source": [
    "stacked_preds = np.stack((gmv_preds, r2f_preds, r2sn_preds, rmcs_preds))"
   ]
  },
  {
   "cell_type": "code",
   "execution_count": 32,
   "id": "e8e5f370",
   "metadata": {},
   "outputs": [
    {
     "data": {
      "text/plain": [
       "(24,)"
      ]
     },
     "execution_count": 32,
     "metadata": {},
     "output_type": "execute_result"
    }
   ],
   "source": [
    "gmv_preds.shape"
   ]
  },
  {
   "cell_type": "code",
   "execution_count": 34,
   "id": "5e9879be",
   "metadata": {},
   "outputs": [
    {
     "data": {
      "text/plain": [
       "(24,)"
      ]
     },
     "execution_count": 34,
     "metadata": {},
     "output_type": "execute_result"
    }
   ],
   "source": [
    "r2f_preds.shape"
   ]
  },
  {
   "cell_type": "code",
   "execution_count": 35,
   "id": "ca54ff2e",
   "metadata": {},
   "outputs": [
    {
     "data": {
      "text/plain": [
       "(24,)"
      ]
     },
     "execution_count": 35,
     "metadata": {},
     "output_type": "execute_result"
    }
   ],
   "source": [
    "r2sn_preds.shape"
   ]
  },
  {
   "cell_type": "code",
   "execution_count": 36,
   "id": "4b83160e",
   "metadata": {},
   "outputs": [
    {
     "data": {
      "text/plain": [
       "(24,)"
      ]
     },
     "execution_count": 36,
     "metadata": {},
     "output_type": "execute_result"
    }
   ],
   "source": [
    "rmcs_preds.shape"
   ]
  },
  {
   "cell_type": "code",
   "execution_count": 33,
   "id": "2236a2b2",
   "metadata": {},
   "outputs": [
    {
     "data": {
      "text/plain": [
       "(4, 24)"
      ]
     },
     "execution_count": 33,
     "metadata": {},
     "output_type": "execute_result"
    }
   ],
   "source": [
    "stacked_preds.shape"
   ]
  },
  {
   "cell_type": "code",
   "execution_count": 38,
   "id": "291ac09a",
   "metadata": {},
   "outputs": [
    {
     "data": {
      "text/plain": [
       "array([[0, 0, 0, 0, 0, 0, 0, 0, 0, 0, 0, 0, 0, 0, 0, 0, 0, 2, 2, 0, 2, 2,\n",
       "        0, 0],\n",
       "       [0, 0, 0, 0, 0, 0, 0, 0, 0, 0, 0, 0, 0, 0, 0, 0, 0, 0, 0, 0, 0, 0,\n",
       "        0, 0],\n",
       "       [2, 2, 2, 1, 0, 0, 0, 0, 0, 0, 0, 2, 1, 2, 2, 0, 2, 0, 0, 1, 1, 2,\n",
       "        2, 2],\n",
       "       [2, 2, 0, 0, 0, 0, 0, 0, 0, 2, 0, 0, 0, 0, 1, 1, 1, 1, 2, 2, 2, 2,\n",
       "        2, 2]], dtype=int8)"
      ]
     },
     "execution_count": 38,
     "metadata": {},
     "output_type": "execute_result"
    }
   ],
   "source": [
    "stacked_preds"
   ]
  },
  {
   "cell_type": "code",
   "execution_count": 39,
   "id": "f306fe3e",
   "metadata": {},
   "outputs": [
    {
     "data": {
      "text/plain": [
       "(24,)"
      ]
     },
     "execution_count": 39,
     "metadata": {},
     "output_type": "execute_result"
    }
   ],
   "source": [
    "y.shape"
   ]
  },
  {
   "cell_type": "code",
   "execution_count": 62,
   "id": "143f0d61",
   "metadata": {},
   "outputs": [
    {
     "data": {
      "text/html": [
       "<div>\n",
       "<style scoped>\n",
       "    .dataframe tbody tr th:only-of-type {\n",
       "        vertical-align: middle;\n",
       "    }\n",
       "\n",
       "    .dataframe tbody tr th {\n",
       "        vertical-align: top;\n",
       "    }\n",
       "\n",
       "    .dataframe thead th {\n",
       "        text-align: right;\n",
       "    }\n",
       "</style>\n",
       "<table border=\"1\" class=\"dataframe\">\n",
       "  <thead>\n",
       "    <tr style=\"text-align: right;\">\n",
       "      <th></th>\n",
       "      <th>Unnamed: 0</th>\n",
       "      <th>Unnamed: 0.1</th>\n",
       "      <th>diagnosis</th>\n",
       "      <th>scan_name</th>\n",
       "      <th>roi_0_gmv</th>\n",
       "      <th>roi_1_gmv</th>\n",
       "      <th>roi_2_gmv</th>\n",
       "      <th>roi_3_gmv</th>\n",
       "      <th>roi_4_gmv</th>\n",
       "      <th>roi_5_gmv</th>\n",
       "      <th>...</th>\n",
       "      <th>roi_236_gmv</th>\n",
       "      <th>roi_237_gmv</th>\n",
       "      <th>roi_238_gmv</th>\n",
       "      <th>roi_239_gmv</th>\n",
       "      <th>roi_240_gmv</th>\n",
       "      <th>roi_241_gmv</th>\n",
       "      <th>roi_242_gmv</th>\n",
       "      <th>roi_243_gmv</th>\n",
       "      <th>roi_244_gmv</th>\n",
       "      <th>roi_245_gmv</th>\n",
       "    </tr>\n",
       "    <tr>\n",
       "      <th>PTID</th>\n",
       "      <th></th>\n",
       "      <th></th>\n",
       "      <th></th>\n",
       "      <th></th>\n",
       "      <th></th>\n",
       "      <th></th>\n",
       "      <th></th>\n",
       "      <th></th>\n",
       "      <th></th>\n",
       "      <th></th>\n",
       "      <th></th>\n",
       "      <th></th>\n",
       "      <th></th>\n",
       "      <th></th>\n",
       "      <th></th>\n",
       "      <th></th>\n",
       "      <th></th>\n",
       "      <th></th>\n",
       "      <th></th>\n",
       "      <th></th>\n",
       "      <th></th>\n",
       "    </tr>\n",
       "  </thead>\n",
       "  <tbody>\n",
       "    <tr>\n",
       "      <th>099_S_0040</th>\n",
       "      <td>0</td>\n",
       "      <td>0</td>\n",
       "      <td>0</td>\n",
       "      <td>latest_scan</td>\n",
       "      <td>0</td>\n",
       "      <td>0</td>\n",
       "      <td>0</td>\n",
       "      <td>23</td>\n",
       "      <td>0</td>\n",
       "      <td>316</td>\n",
       "      <td>...</td>\n",
       "      <td>0</td>\n",
       "      <td>1</td>\n",
       "      <td>0</td>\n",
       "      <td>10</td>\n",
       "      <td>0</td>\n",
       "      <td>1</td>\n",
       "      <td>0</td>\n",
       "      <td>0</td>\n",
       "      <td>0</td>\n",
       "      <td>0</td>\n",
       "    </tr>\n",
       "    <tr>\n",
       "      <th>099_S_0352</th>\n",
       "      <td>1</td>\n",
       "      <td>0</td>\n",
       "      <td>0</td>\n",
       "      <td>latest_scan</td>\n",
       "      <td>162</td>\n",
       "      <td>104</td>\n",
       "      <td>0</td>\n",
       "      <td>0</td>\n",
       "      <td>0</td>\n",
       "      <td>0</td>\n",
       "      <td>...</td>\n",
       "      <td>200</td>\n",
       "      <td>187</td>\n",
       "      <td>61</td>\n",
       "      <td>166</td>\n",
       "      <td>66</td>\n",
       "      <td>40</td>\n",
       "      <td>49</td>\n",
       "      <td>205</td>\n",
       "      <td>145</td>\n",
       "      <td>146</td>\n",
       "    </tr>\n",
       "    <tr>\n",
       "      <th>005_S_0221</th>\n",
       "      <td>2</td>\n",
       "      <td>0</td>\n",
       "      <td>0</td>\n",
       "      <td>latest_scan</td>\n",
       "      <td>0</td>\n",
       "      <td>0</td>\n",
       "      <td>0</td>\n",
       "      <td>0</td>\n",
       "      <td>0</td>\n",
       "      <td>0</td>\n",
       "      <td>...</td>\n",
       "      <td>57</td>\n",
       "      <td>100</td>\n",
       "      <td>10</td>\n",
       "      <td>187</td>\n",
       "      <td>43</td>\n",
       "      <td>21</td>\n",
       "      <td>18</td>\n",
       "      <td>171</td>\n",
       "      <td>29</td>\n",
       "      <td>104</td>\n",
       "    </tr>\n",
       "    <tr>\n",
       "      <th>136_S_0300</th>\n",
       "      <td>4</td>\n",
       "      <td>0</td>\n",
       "      <td>0</td>\n",
       "      <td>latest_scan</td>\n",
       "      <td>0</td>\n",
       "      <td>0</td>\n",
       "      <td>0</td>\n",
       "      <td>20</td>\n",
       "      <td>0</td>\n",
       "      <td>3</td>\n",
       "      <td>...</td>\n",
       "      <td>0</td>\n",
       "      <td>0</td>\n",
       "      <td>0</td>\n",
       "      <td>0</td>\n",
       "      <td>0</td>\n",
       "      <td>0</td>\n",
       "      <td>0</td>\n",
       "      <td>0</td>\n",
       "      <td>0</td>\n",
       "      <td>0</td>\n",
       "    </tr>\n",
       "    <tr>\n",
       "      <th>023_S_0916</th>\n",
       "      <td>5</td>\n",
       "      <td>0</td>\n",
       "      <td>0</td>\n",
       "      <td>latest_scan</td>\n",
       "      <td>0</td>\n",
       "      <td>17</td>\n",
       "      <td>0</td>\n",
       "      <td>156</td>\n",
       "      <td>0</td>\n",
       "      <td>745</td>\n",
       "      <td>...</td>\n",
       "      <td>0</td>\n",
       "      <td>0</td>\n",
       "      <td>0</td>\n",
       "      <td>0</td>\n",
       "      <td>0</td>\n",
       "      <td>0</td>\n",
       "      <td>0</td>\n",
       "      <td>0</td>\n",
       "      <td>0</td>\n",
       "      <td>0</td>\n",
       "    </tr>\n",
       "    <tr>\n",
       "      <th>126_S_0784</th>\n",
       "      <td>6</td>\n",
       "      <td>0</td>\n",
       "      <td>0</td>\n",
       "      <td>latest_scan</td>\n",
       "      <td>4</td>\n",
       "      <td>16</td>\n",
       "      <td>0</td>\n",
       "      <td>26</td>\n",
       "      <td>0</td>\n",
       "      <td>319</td>\n",
       "      <td>...</td>\n",
       "      <td>0</td>\n",
       "      <td>4</td>\n",
       "      <td>0</td>\n",
       "      <td>0</td>\n",
       "      <td>0</td>\n",
       "      <td>0</td>\n",
       "      <td>0</td>\n",
       "      <td>13</td>\n",
       "      <td>0</td>\n",
       "      <td>0</td>\n",
       "    </tr>\n",
       "    <tr>\n",
       "      <th>127_S_0844</th>\n",
       "      <td>7</td>\n",
       "      <td>0</td>\n",
       "      <td>0</td>\n",
       "      <td>latest_scan</td>\n",
       "      <td>0</td>\n",
       "      <td>0</td>\n",
       "      <td>0</td>\n",
       "      <td>0</td>\n",
       "      <td>0</td>\n",
       "      <td>0</td>\n",
       "      <td>...</td>\n",
       "      <td>0</td>\n",
       "      <td>0</td>\n",
       "      <td>0</td>\n",
       "      <td>0</td>\n",
       "      <td>0</td>\n",
       "      <td>0</td>\n",
       "      <td>0</td>\n",
       "      <td>0</td>\n",
       "      <td>0</td>\n",
       "      <td>0</td>\n",
       "    </tr>\n",
       "    <tr>\n",
       "      <th>023_S_1289</th>\n",
       "      <td>8</td>\n",
       "      <td>0</td>\n",
       "      <td>0</td>\n",
       "      <td>latest_scan</td>\n",
       "      <td>0</td>\n",
       "      <td>0</td>\n",
       "      <td>0</td>\n",
       "      <td>0</td>\n",
       "      <td>0</td>\n",
       "      <td>0</td>\n",
       "      <td>...</td>\n",
       "      <td>0</td>\n",
       "      <td>0</td>\n",
       "      <td>0</td>\n",
       "      <td>0</td>\n",
       "      <td>0</td>\n",
       "      <td>0</td>\n",
       "      <td>0</td>\n",
       "      <td>0</td>\n",
       "      <td>0</td>\n",
       "      <td>0</td>\n",
       "    </tr>\n",
       "    <tr>\n",
       "      <th>027_S_0404</th>\n",
       "      <td>9</td>\n",
       "      <td>0</td>\n",
       "      <td>0</td>\n",
       "      <td>latest_scan</td>\n",
       "      <td>0</td>\n",
       "      <td>0</td>\n",
       "      <td>0</td>\n",
       "      <td>3</td>\n",
       "      <td>0</td>\n",
       "      <td>0</td>\n",
       "      <td>...</td>\n",
       "      <td>0</td>\n",
       "      <td>0</td>\n",
       "      <td>0</td>\n",
       "      <td>0</td>\n",
       "      <td>0</td>\n",
       "      <td>0</td>\n",
       "      <td>0</td>\n",
       "      <td>0</td>\n",
       "      <td>0</td>\n",
       "      <td>0</td>\n",
       "    </tr>\n",
       "    <tr>\n",
       "      <th>023_S_1104</th>\n",
       "      <td>10</td>\n",
       "      <td>0</td>\n",
       "      <td>1</td>\n",
       "      <td>latest_scan</td>\n",
       "      <td>8</td>\n",
       "      <td>0</td>\n",
       "      <td>0</td>\n",
       "      <td>0</td>\n",
       "      <td>0</td>\n",
       "      <td>0</td>\n",
       "      <td>...</td>\n",
       "      <td>294</td>\n",
       "      <td>204</td>\n",
       "      <td>27</td>\n",
       "      <td>173</td>\n",
       "      <td>63</td>\n",
       "      <td>40</td>\n",
       "      <td>101</td>\n",
       "      <td>229</td>\n",
       "      <td>113</td>\n",
       "      <td>162</td>\n",
       "    </tr>\n",
       "    <tr>\n",
       "      <th>067_S_1253</th>\n",
       "      <td>11</td>\n",
       "      <td>0</td>\n",
       "      <td>0</td>\n",
       "      <td>latest_scan</td>\n",
       "      <td>0</td>\n",
       "      <td>124</td>\n",
       "      <td>0</td>\n",
       "      <td>172</td>\n",
       "      <td>0</td>\n",
       "      <td>595</td>\n",
       "      <td>...</td>\n",
       "      <td>0</td>\n",
       "      <td>0</td>\n",
       "      <td>0</td>\n",
       "      <td>17</td>\n",
       "      <td>0</td>\n",
       "      <td>0</td>\n",
       "      <td>0</td>\n",
       "      <td>10</td>\n",
       "      <td>0</td>\n",
       "      <td>44</td>\n",
       "    </tr>\n",
       "    <tr>\n",
       "      <th>005_S_0814</th>\n",
       "      <td>12</td>\n",
       "      <td>0</td>\n",
       "      <td>0</td>\n",
       "      <td>latest_scan</td>\n",
       "      <td>0</td>\n",
       "      <td>0</td>\n",
       "      <td>0</td>\n",
       "      <td>0</td>\n",
       "      <td>0</td>\n",
       "      <td>0</td>\n",
       "      <td>...</td>\n",
       "      <td>107</td>\n",
       "      <td>171</td>\n",
       "      <td>0</td>\n",
       "      <td>135</td>\n",
       "      <td>0</td>\n",
       "      <td>33</td>\n",
       "      <td>1</td>\n",
       "      <td>86</td>\n",
       "      <td>8</td>\n",
       "      <td>132</td>\n",
       "    </tr>\n",
       "    <tr>\n",
       "      <th>126_S_0606</th>\n",
       "      <td>13</td>\n",
       "      <td>0</td>\n",
       "      <td>0</td>\n",
       "      <td>latest_scan</td>\n",
       "      <td>0</td>\n",
       "      <td>0</td>\n",
       "      <td>0</td>\n",
       "      <td>0</td>\n",
       "      <td>0</td>\n",
       "      <td>0</td>\n",
       "      <td>...</td>\n",
       "      <td>242</td>\n",
       "      <td>179</td>\n",
       "      <td>22</td>\n",
       "      <td>200</td>\n",
       "      <td>67</td>\n",
       "      <td>25</td>\n",
       "      <td>44</td>\n",
       "      <td>182</td>\n",
       "      <td>106</td>\n",
       "      <td>126</td>\n",
       "    </tr>\n",
       "    <tr>\n",
       "      <th>021_S_0626</th>\n",
       "      <td>14</td>\n",
       "      <td>0</td>\n",
       "      <td>1</td>\n",
       "      <td>latest_scan</td>\n",
       "      <td>0</td>\n",
       "      <td>0</td>\n",
       "      <td>0</td>\n",
       "      <td>0</td>\n",
       "      <td>0</td>\n",
       "      <td>0</td>\n",
       "      <td>...</td>\n",
       "      <td>0</td>\n",
       "      <td>0</td>\n",
       "      <td>0</td>\n",
       "      <td>0</td>\n",
       "      <td>0</td>\n",
       "      <td>0</td>\n",
       "      <td>0</td>\n",
       "      <td>0</td>\n",
       "      <td>0</td>\n",
       "      <td>0</td>\n",
       "    </tr>\n",
       "    <tr>\n",
       "      <th>036_S_0869</th>\n",
       "      <td>15</td>\n",
       "      <td>0</td>\n",
       "      <td>1</td>\n",
       "      <td>latest_scan</td>\n",
       "      <td>0</td>\n",
       "      <td>110</td>\n",
       "      <td>0</td>\n",
       "      <td>84</td>\n",
       "      <td>2</td>\n",
       "      <td>540</td>\n",
       "      <td>...</td>\n",
       "      <td>0</td>\n",
       "      <td>0</td>\n",
       "      <td>0</td>\n",
       "      <td>4</td>\n",
       "      <td>0</td>\n",
       "      <td>0</td>\n",
       "      <td>0</td>\n",
       "      <td>17</td>\n",
       "      <td>0</td>\n",
       "      <td>24</td>\n",
       "    </tr>\n",
       "    <tr>\n",
       "      <th>005_S_0572</th>\n",
       "      <td>16</td>\n",
       "      <td>0</td>\n",
       "      <td>1</td>\n",
       "      <td>latest_scan</td>\n",
       "      <td>0</td>\n",
       "      <td>0</td>\n",
       "      <td>0</td>\n",
       "      <td>0</td>\n",
       "      <td>0</td>\n",
       "      <td>0</td>\n",
       "      <td>...</td>\n",
       "      <td>0</td>\n",
       "      <td>0</td>\n",
       "      <td>0</td>\n",
       "      <td>0</td>\n",
       "      <td>0</td>\n",
       "      <td>0</td>\n",
       "      <td>0</td>\n",
       "      <td>0</td>\n",
       "      <td>0</td>\n",
       "      <td>0</td>\n",
       "    </tr>\n",
       "    <tr>\n",
       "      <th>023_S_1190</th>\n",
       "      <td>17</td>\n",
       "      <td>0</td>\n",
       "      <td>2</td>\n",
       "      <td>latest_scan</td>\n",
       "      <td>2</td>\n",
       "      <td>0</td>\n",
       "      <td>0</td>\n",
       "      <td>0</td>\n",
       "      <td>0</td>\n",
       "      <td>0</td>\n",
       "      <td>...</td>\n",
       "      <td>288</td>\n",
       "      <td>207</td>\n",
       "      <td>29</td>\n",
       "      <td>205</td>\n",
       "      <td>81</td>\n",
       "      <td>46</td>\n",
       "      <td>57</td>\n",
       "      <td>140</td>\n",
       "      <td>57</td>\n",
       "      <td>109</td>\n",
       "    </tr>\n",
       "    <tr>\n",
       "      <th>023_S_0058</th>\n",
       "      <td>18</td>\n",
       "      <td>0</td>\n",
       "      <td>2</td>\n",
       "      <td>latest_scan</td>\n",
       "      <td>0</td>\n",
       "      <td>20</td>\n",
       "      <td>0</td>\n",
       "      <td>90</td>\n",
       "      <td>0</td>\n",
       "      <td>668</td>\n",
       "      <td>...</td>\n",
       "      <td>0</td>\n",
       "      <td>2</td>\n",
       "      <td>0</td>\n",
       "      <td>91</td>\n",
       "      <td>0</td>\n",
       "      <td>8</td>\n",
       "      <td>0</td>\n",
       "      <td>14</td>\n",
       "      <td>0</td>\n",
       "      <td>65</td>\n",
       "    </tr>\n",
       "    <tr>\n",
       "      <th>011_S_0022</th>\n",
       "      <td>19</td>\n",
       "      <td>0</td>\n",
       "      <td>2</td>\n",
       "      <td>latest_scan</td>\n",
       "      <td>0</td>\n",
       "      <td>60</td>\n",
       "      <td>0</td>\n",
       "      <td>20</td>\n",
       "      <td>0</td>\n",
       "      <td>393</td>\n",
       "      <td>...</td>\n",
       "      <td>0</td>\n",
       "      <td>3</td>\n",
       "      <td>0</td>\n",
       "      <td>256</td>\n",
       "      <td>0</td>\n",
       "      <td>10</td>\n",
       "      <td>0</td>\n",
       "      <td>44</td>\n",
       "      <td>0</td>\n",
       "      <td>113</td>\n",
       "    </tr>\n",
       "    <tr>\n",
       "      <th>068_S_1191</th>\n",
       "      <td>20</td>\n",
       "      <td>0</td>\n",
       "      <td>2</td>\n",
       "      <td>latest_scan</td>\n",
       "      <td>0</td>\n",
       "      <td>0</td>\n",
       "      <td>0</td>\n",
       "      <td>0</td>\n",
       "      <td>0</td>\n",
       "      <td>0</td>\n",
       "      <td>...</td>\n",
       "      <td>0</td>\n",
       "      <td>0</td>\n",
       "      <td>0</td>\n",
       "      <td>0</td>\n",
       "      <td>0</td>\n",
       "      <td>0</td>\n",
       "      <td>0</td>\n",
       "      <td>0</td>\n",
       "      <td>0</td>\n",
       "      <td>0</td>\n",
       "    </tr>\n",
       "    <tr>\n",
       "      <th>057_S_0643</th>\n",
       "      <td>21</td>\n",
       "      <td>0</td>\n",
       "      <td>2</td>\n",
       "      <td>latest_scan</td>\n",
       "      <td>10</td>\n",
       "      <td>0</td>\n",
       "      <td>215</td>\n",
       "      <td>14</td>\n",
       "      <td>654</td>\n",
       "      <td>527</td>\n",
       "      <td>...</td>\n",
       "      <td>151</td>\n",
       "      <td>77</td>\n",
       "      <td>17</td>\n",
       "      <td>19</td>\n",
       "      <td>6</td>\n",
       "      <td>2</td>\n",
       "      <td>36</td>\n",
       "      <td>87</td>\n",
       "      <td>338</td>\n",
       "      <td>83</td>\n",
       "    </tr>\n",
       "    <tr>\n",
       "      <th>099_S_0533</th>\n",
       "      <td>22</td>\n",
       "      <td>0</td>\n",
       "      <td>2</td>\n",
       "      <td>latest_scan</td>\n",
       "      <td>0</td>\n",
       "      <td>194</td>\n",
       "      <td>0</td>\n",
       "      <td>54</td>\n",
       "      <td>2</td>\n",
       "      <td>657</td>\n",
       "      <td>...</td>\n",
       "      <td>0</td>\n",
       "      <td>49</td>\n",
       "      <td>0</td>\n",
       "      <td>158</td>\n",
       "      <td>0</td>\n",
       "      <td>43</td>\n",
       "      <td>0</td>\n",
       "      <td>125</td>\n",
       "      <td>0</td>\n",
       "      <td>94</td>\n",
       "    </tr>\n",
       "    <tr>\n",
       "      <th>082_S_0640</th>\n",
       "      <td>23</td>\n",
       "      <td>0</td>\n",
       "      <td>2</td>\n",
       "      <td>latest_scan</td>\n",
       "      <td>0</td>\n",
       "      <td>0</td>\n",
       "      <td>0</td>\n",
       "      <td>76</td>\n",
       "      <td>0</td>\n",
       "      <td>250</td>\n",
       "      <td>...</td>\n",
       "      <td>0</td>\n",
       "      <td>0</td>\n",
       "      <td>0</td>\n",
       "      <td>0</td>\n",
       "      <td>0</td>\n",
       "      <td>0</td>\n",
       "      <td>0</td>\n",
       "      <td>0</td>\n",
       "      <td>0</td>\n",
       "      <td>2</td>\n",
       "    </tr>\n",
       "    <tr>\n",
       "      <th>005_S_0223</th>\n",
       "      <td>24</td>\n",
       "      <td>0</td>\n",
       "      <td>2</td>\n",
       "      <td>latest_scan</td>\n",
       "      <td>0</td>\n",
       "      <td>0</td>\n",
       "      <td>0</td>\n",
       "      <td>0</td>\n",
       "      <td>0</td>\n",
       "      <td>0</td>\n",
       "      <td>...</td>\n",
       "      <td>175</td>\n",
       "      <td>140</td>\n",
       "      <td>39</td>\n",
       "      <td>130</td>\n",
       "      <td>49</td>\n",
       "      <td>31</td>\n",
       "      <td>22</td>\n",
       "      <td>142</td>\n",
       "      <td>87</td>\n",
       "      <td>100</td>\n",
       "    </tr>\n",
       "  </tbody>\n",
       "</table>\n",
       "<p>24 rows × 250 columns</p>\n",
       "</div>"
      ],
      "text/plain": [
       "            Unnamed: 0  Unnamed: 0.1  diagnosis    scan_name  roi_0_gmv  \\\n",
       "PTID                                                                      \n",
       "099_S_0040           0             0          0  latest_scan          0   \n",
       "099_S_0352           1             0          0  latest_scan        162   \n",
       "005_S_0221           2             0          0  latest_scan          0   \n",
       "136_S_0300           4             0          0  latest_scan          0   \n",
       "023_S_0916           5             0          0  latest_scan          0   \n",
       "126_S_0784           6             0          0  latest_scan          4   \n",
       "127_S_0844           7             0          0  latest_scan          0   \n",
       "023_S_1289           8             0          0  latest_scan          0   \n",
       "027_S_0404           9             0          0  latest_scan          0   \n",
       "023_S_1104          10             0          1  latest_scan          8   \n",
       "067_S_1253          11             0          0  latest_scan          0   \n",
       "005_S_0814          12             0          0  latest_scan          0   \n",
       "126_S_0606          13             0          0  latest_scan          0   \n",
       "021_S_0626          14             0          1  latest_scan          0   \n",
       "036_S_0869          15             0          1  latest_scan          0   \n",
       "005_S_0572          16             0          1  latest_scan          0   \n",
       "023_S_1190          17             0          2  latest_scan          2   \n",
       "023_S_0058          18             0          2  latest_scan          0   \n",
       "011_S_0022          19             0          2  latest_scan          0   \n",
       "068_S_1191          20             0          2  latest_scan          0   \n",
       "057_S_0643          21             0          2  latest_scan         10   \n",
       "099_S_0533          22             0          2  latest_scan          0   \n",
       "082_S_0640          23             0          2  latest_scan          0   \n",
       "005_S_0223          24             0          2  latest_scan          0   \n",
       "\n",
       "            roi_1_gmv  roi_2_gmv  roi_3_gmv  roi_4_gmv  roi_5_gmv  ...  \\\n",
       "PTID                                                               ...   \n",
       "099_S_0040          0          0         23          0        316  ...   \n",
       "099_S_0352        104          0          0          0          0  ...   \n",
       "005_S_0221          0          0          0          0          0  ...   \n",
       "136_S_0300          0          0         20          0          3  ...   \n",
       "023_S_0916         17          0        156          0        745  ...   \n",
       "126_S_0784         16          0         26          0        319  ...   \n",
       "127_S_0844          0          0          0          0          0  ...   \n",
       "023_S_1289          0          0          0          0          0  ...   \n",
       "027_S_0404          0          0          3          0          0  ...   \n",
       "023_S_1104          0          0          0          0          0  ...   \n",
       "067_S_1253        124          0        172          0        595  ...   \n",
       "005_S_0814          0          0          0          0          0  ...   \n",
       "126_S_0606          0          0          0          0          0  ...   \n",
       "021_S_0626          0          0          0          0          0  ...   \n",
       "036_S_0869        110          0         84          2        540  ...   \n",
       "005_S_0572          0          0          0          0          0  ...   \n",
       "023_S_1190          0          0          0          0          0  ...   \n",
       "023_S_0058         20          0         90          0        668  ...   \n",
       "011_S_0022         60          0         20          0        393  ...   \n",
       "068_S_1191          0          0          0          0          0  ...   \n",
       "057_S_0643          0        215         14        654        527  ...   \n",
       "099_S_0533        194          0         54          2        657  ...   \n",
       "082_S_0640          0          0         76          0        250  ...   \n",
       "005_S_0223          0          0          0          0          0  ...   \n",
       "\n",
       "            roi_236_gmv  roi_237_gmv  roi_238_gmv  roi_239_gmv  roi_240_gmv  \\\n",
       "PTID                                                                          \n",
       "099_S_0040            0            1            0           10            0   \n",
       "099_S_0352          200          187           61          166           66   \n",
       "005_S_0221           57          100           10          187           43   \n",
       "136_S_0300            0            0            0            0            0   \n",
       "023_S_0916            0            0            0            0            0   \n",
       "126_S_0784            0            4            0            0            0   \n",
       "127_S_0844            0            0            0            0            0   \n",
       "023_S_1289            0            0            0            0            0   \n",
       "027_S_0404            0            0            0            0            0   \n",
       "023_S_1104          294          204           27          173           63   \n",
       "067_S_1253            0            0            0           17            0   \n",
       "005_S_0814          107          171            0          135            0   \n",
       "126_S_0606          242          179           22          200           67   \n",
       "021_S_0626            0            0            0            0            0   \n",
       "036_S_0869            0            0            0            4            0   \n",
       "005_S_0572            0            0            0            0            0   \n",
       "023_S_1190          288          207           29          205           81   \n",
       "023_S_0058            0            2            0           91            0   \n",
       "011_S_0022            0            3            0          256            0   \n",
       "068_S_1191            0            0            0            0            0   \n",
       "057_S_0643          151           77           17           19            6   \n",
       "099_S_0533            0           49            0          158            0   \n",
       "082_S_0640            0            0            0            0            0   \n",
       "005_S_0223          175          140           39          130           49   \n",
       "\n",
       "            roi_241_gmv  roi_242_gmv  roi_243_gmv  roi_244_gmv  roi_245_gmv  \n",
       "PTID                                                                         \n",
       "099_S_0040            1            0            0            0            0  \n",
       "099_S_0352           40           49          205          145          146  \n",
       "005_S_0221           21           18          171           29          104  \n",
       "136_S_0300            0            0            0            0            0  \n",
       "023_S_0916            0            0            0            0            0  \n",
       "126_S_0784            0            0           13            0            0  \n",
       "127_S_0844            0            0            0            0            0  \n",
       "023_S_1289            0            0            0            0            0  \n",
       "027_S_0404            0            0            0            0            0  \n",
       "023_S_1104           40          101          229          113          162  \n",
       "067_S_1253            0            0           10            0           44  \n",
       "005_S_0814           33            1           86            8          132  \n",
       "126_S_0606           25           44          182          106          126  \n",
       "021_S_0626            0            0            0            0            0  \n",
       "036_S_0869            0            0           17            0           24  \n",
       "005_S_0572            0            0            0            0            0  \n",
       "023_S_1190           46           57          140           57          109  \n",
       "023_S_0058            8            0           14            0           65  \n",
       "011_S_0022           10            0           44            0          113  \n",
       "068_S_1191            0            0            0            0            0  \n",
       "057_S_0643            2           36           87          338           83  \n",
       "099_S_0533           43            0          125            0           94  \n",
       "082_S_0640            0            0            0            0            2  \n",
       "005_S_0223           31           22          142           87          100  \n",
       "\n",
       "[24 rows x 250 columns]"
      ]
     },
     "execution_count": 62,
     "metadata": {},
     "output_type": "execute_result"
    }
   ],
   "source": [
    "gmv_df"
   ]
  },
  {
   "cell_type": "code",
   "execution_count": 75,
   "id": "04970fcd",
   "metadata": {},
   "outputs": [
    {
     "data": {
      "text/plain": [
       "SVC(probability=True)"
      ]
     },
     "execution_count": 75,
     "metadata": {},
     "output_type": "execute_result"
    }
   ],
   "source": [
    "ad_svm = SVC(probability=True)\n",
    "mci_svm = SVC(probability=True)\n",
    "nl_svm = SVC(probability=True)\n",
    "out_svm = SVC(probability=True)\n",
    "X = stacked_preds.T\n",
    "y = gmv_df['diagnosis']\n",
    "\n",
    "ad_X = (stacked_preds.T == 0).astype(int)\n",
    "mci_X = (stacked_preds.T == 1).astype(int)\n",
    "nl_X = (stacked_preds.T == 2).astype(int)\n",
    "ad_y = (gmv_df['diagnosis'] == 0).astype(int)\n",
    "mci_y = (gmv_df['diagnosis'] == 1).astype(int)\n",
    "nl_y = (gmv_df['diagnosis'] == 2).astype(int)\n",
    "\n",
    "ad_svm.fit(ad_X, ad_y)\n",
    "mci_svm.fit(mci_X, mci_y)\n",
    "nl_svm.fit(nl_X, nl_y)\n",
    "out_svm.fit(X, y)"
   ]
  },
  {
   "cell_type": "code",
   "execution_count": 64,
   "id": "bb2f0486",
   "metadata": {},
   "outputs": [
    {
     "data": {
      "text/plain": [
       "PTID\n",
       "099_S_0040    1\n",
       "099_S_0352    1\n",
       "005_S_0221    1\n",
       "136_S_0300    1\n",
       "023_S_0916    1\n",
       "126_S_0784    1\n",
       "127_S_0844    1\n",
       "023_S_1289    1\n",
       "027_S_0404    1\n",
       "023_S_1104    0\n",
       "067_S_1253    1\n",
       "005_S_0814    1\n",
       "126_S_0606    1\n",
       "021_S_0626    0\n",
       "036_S_0869    0\n",
       "005_S_0572    0\n",
       "023_S_1190    0\n",
       "023_S_0058    0\n",
       "011_S_0022    0\n",
       "068_S_1191    0\n",
       "057_S_0643    0\n",
       "099_S_0533    0\n",
       "082_S_0640    0\n",
       "005_S_0223    0\n",
       "Name: diagnosis, dtype: int64"
      ]
     },
     "execution_count": 64,
     "metadata": {},
     "output_type": "execute_result"
    }
   ],
   "source": [
    "ad_y"
   ]
  },
  {
   "cell_type": "code",
   "execution_count": 76,
   "id": "85c680db",
   "metadata": {},
   "outputs": [
    {
     "data": {
      "text/plain": [
       "<sklearn.metrics._plot.confusion_matrix.ConfusionMatrixDisplay at 0x7f5fe4d19e10>"
      ]
     },
     "execution_count": 76,
     "metadata": {},
     "output_type": "execute_result"
    },
    {
     "data": {
      "image/png": "[encoded data removed]",
      "text/plain": [
       "<Figure size 432x288 with 2 Axes>"
      ]
     },
     "metadata": {
      "needs_background": "light"
     },
     "output_type": "display_data"
    }
   ],
   "source": [
    "out_preds = out_svm.predict(X)\n",
    "\n",
    "ConfusionMatrixDisplay(confusion_matrix(y, out_preds)).plot()"
   ]
  },
  {
   "cell_type": "code",
   "execution_count": 78,
   "id": "a36f6e4d",
   "metadata": {},
   "outputs": [],
   "source": [
    "from sklearn.multiclass import OneVsRestClassifier"
   ]
  },
  {
   "cell_type": "code",
   "execution_count": 79,
   "id": "9a0c389e",
   "metadata": {},
   "outputs": [
    {
     "data": {
      "text/plain": [
       "OneVsRestClassifier(estimator=SVC(probability=True))"
      ]
     },
     "execution_count": 79,
     "metadata": {},
     "output_type": "execute_result"
    }
   ],
   "source": [
    "ova = OneVsRestClassifier(out_svm)\n",
    "ova.fit(X, y)"
   ]
  },
  {
   "cell_type": "code",
   "execution_count": 81,
   "id": "0d6cdbee",
   "metadata": {},
   "outputs": [
    {
     "data": {
      "text/plain": [
       "array([[0.27116688, 0.1500119 , 0.57882122],\n",
       "       [0.27116688, 0.1500119 , 0.57882122],\n",
       "       [0.6364618 , 0.16387812, 0.19966008]])"
      ]
     },
     "execution_count": 81,
     "metadata": {},
     "output_type": "execute_result"
    }
   ],
   "source": [
    "ova.predict_proba(X[:3])"
   ]
  },
  {
   "cell_type": "code",
   "execution_count": null,
   "id": "33063598",
   "metadata": {},
   "outputs": [],
   "source": [
    "ova_probs"
   ]
  },
  {
   "cell_type": "code",
   "execution_count": 66,
   "id": "a29c56fc",
   "metadata": {
    "scrolled": false
   },
   "outputs": [
    {
     "data": {
      "text/plain": [
       "<sklearn.metrics._plot.confusion_matrix.ConfusionMatrixDisplay at 0x7f5f48222e90>"
      ]
     },
     "execution_count": 66,
     "metadata": {},
     "output_type": "execute_result"
    },
    {
     "data": {
      "image/png": "[encoded data removed]",
      "text/plain": [
       "<Figure size 432x288 with 2 Axes>"
      ]
     },
     "metadata": {
      "needs_background": "light"
     },
     "output_type": "display_data"
    }
   ],
   "source": [
    "ad_preds = ad_svm.predict(X)\n",
    "\n",
    "ConfusionMatrixDisplay(confusion_matrix(ad_y, ad_preds)).plot()"
   ]
  },
  {
   "cell_type": "code",
   "execution_count": 67,
   "id": "342880f7",
   "metadata": {
    "scrolled": false
   },
   "outputs": [
    {
     "data": {
      "text/plain": [
       "<sklearn.metrics._plot.confusion_matrix.ConfusionMatrixDisplay at 0x7f5fe5fea450>"
      ]
     },
     "execution_count": 67,
     "metadata": {},
     "output_type": "execute_result"
    },
    {
     "data": {
      "image/png": "[encoded data removed]",
      "text/plain": [
       "<Figure size 432x288 with 2 Axes>"
      ]
     },
     "metadata": {
      "needs_background": "light"
     },
     "output_type": "display_data"
    }
   ],
   "source": [
    "mci_preds = mci_svm.predict(X)\n",
    "\n",
    "ConfusionMatrixDisplay(confusion_matrix(mci_y, mci_preds)).plot()"
   ]
  },
  {
   "cell_type": "code",
   "execution_count": 68,
   "id": "b745c8c1",
   "metadata": {
    "scrolled": false
   },
   "outputs": [
    {
     "data": {
      "text/plain": [
       "<sklearn.metrics._plot.confusion_matrix.ConfusionMatrixDisplay at 0x7f5fe5e9d0d0>"
      ]
     },
     "execution_count": 68,
     "metadata": {},
     "output_type": "execute_result"
    },
    {
     "data": {
      "image/png": "[encoded data removed]",
      "text/plain": [
       "<Figure size 432x288 with 2 Axes>"
      ]
     },
     "metadata": {
      "needs_background": "light"
     },
     "output_type": "display_data"
    }
   ],
   "source": [
    "nl_preds = nl_svm.predict(X)\n",
    "\n",
    "ConfusionMatrixDisplay(confusion_matrix(nl_y, nl_preds)).plot()"
   ]
  },
  {
   "cell_type": "code",
   "execution_count": 84,
   "id": "7555c2f5",
   "metadata": {},
   "outputs": [],
   "source": [
    "import matplotlib.pyplot as plt\n",
    "from sklearn.metrics import roc_curve, roc_auc_score"
   ]
  },
  {
   "cell_type": "code",
   "execution_count": 87,
   "id": "48601715",
   "metadata": {
    "scrolled": false
   },
   "outputs": [
    {
     "data": {
      "image/png": "[encoded data removed]",
      "text/plain": [
       "<Figure size 432x288 with 1 Axes>"
      ]
     },
     "metadata": {
      "needs_background": "light"
     },
     "output_type": "display_data"
    },
    {
     "data": {
      "image/png": "[encoded data removed]",
      "text/plain": [
       "<Figure size 432x288 with 1 Axes>"
      ]
     },
     "metadata": {
      "needs_background": "light"
     },
     "output_type": "display_data"
    },
    {
     "data": {
      "image/png": "[encoded data removed]",
      "text/plain": [
       "<Figure size 432x288 with 1 Axes>"
      ]
     },
     "metadata": {
      "needs_background": "light"
     },
     "output_type": "display_data"
    }
   ],
   "source": [
    "from sklearn.metrics import RocCurveDisplay\n",
    "\n",
    "# svc_disp = RocCurveDisplay.from_estimator(ova, X, y)\n",
    "ova_preds = ova.predict_proba(X)\n",
    "\n",
    "ad_preds = ova_preds[:,0]\n",
    "mci_preds = ova_preds[:,1]\n",
    "nl_preds = ova_preds[:,2]\n",
    "\n",
    "# ad_fpr, ad_tpr, _ = roc_curve(y, ad_preds)\n",
    "# mci_fpr, mci_tpr, _ = roc_curve(y, mci_preds)\n",
    "# nl_fpr, nl_tpr, _ = roc_curve(y, nl_preds)\n",
    "\n",
    "RocCurveDisplay.from_predictions((y == 0).astype(int), ad_preds)\n",
    "RocCurveDisplay.from_predictions((y == 1).astype(int), mci_preds)\n",
    "RocCurveDisplay.from_predictions((y == 2).astype(int), nl_preds)\n",
    "\n",
    "plt.show()"
   ]
  },
  {
   "cell_type": "code",
   "execution_count": 86,
   "id": "ce89f7ed",
   "metadata": {},
   "outputs": [
    {
     "data": {
      "text/plain": [
       "array([0.27116688, 0.27116688, 0.6364618 , 0.70832195, 0.69210738,\n",
       "       0.69210738, 0.69210738, 0.69210738, 0.69210738, 0.25392054,\n",
       "       0.69210738, 0.6364618 , 0.70832195, 0.6364618 , 0.37378431,\n",
       "       0.44017076, 0.37378431, 0.21893453, 0.21271987, 0.26722147,\n",
       "       0.1997189 , 0.2211204 , 0.27116688, 0.27116688])"
      ]
     },
     "execution_count": 86,
     "metadata": {},
     "output_type": "execute_result"
    }
   ],
   "source": [
    "ad_preds"
   ]
  },
  {
   "cell_type": "code",
   "execution_count": 73,
   "id": "d427ba68",
   "metadata": {
    "scrolled": true
   },
   "outputs": [
    {
     "name": "stderr",
     "output_type": "stream",
     "text": [
      "/usr/local/anaconda3/lib/python3.7/site-packages/sklearn/metrics/_ranking.py:1001: UndefinedMetricWarning: No positive samples in y_true, true positive value should be meaningless\n",
      "  UndefinedMetricWarning,\n"
     ]
    },
    {
     "data": {
      "image/png": "[encoded data removed]",
      "text/plain": [
       "<Figure size 432x288 with 1 Axes>"
      ]
     },
     "metadata": {
      "needs_background": "light"
     },
     "output_type": "display_data"
    }
   ],
   "source": [
    "from sklearn.metrics import RocCurveDisplay\n",
    "\n",
    "svc_disp = RocCurveDisplay.from_estimator(mci_svm, mci_X, mci_preds)\n",
    "plt.show()"
   ]
  },
  {
   "cell_type": "code",
   "execution_count": 74,
   "id": "a9f83886",
   "metadata": {
    "scrolled": true
   },
   "outputs": [
    {
     "name": "stderr",
     "output_type": "stream",
     "text": [
      "/usr/local/anaconda3/lib/python3.7/site-packages/sklearn/metrics/_ranking.py:1001: UndefinedMetricWarning: No positive samples in y_true, true positive value should be meaningless\n",
      "  UndefinedMetricWarning,\n"
     ]
    },
    {
     "data": {
      "image/png": "[encoded data removed]",
      "text/plain": [
       "<Figure size 432x288 with 1 Axes>"
      ]
     },
     "metadata": {
      "needs_background": "light"
     },
     "output_type": "display_data"
    }
   ],
   "source": [
    "from sklearn.metrics import RocCurveDisplay\n",
    "\n",
    "svc_disp = RocCurveDisplay.from_estimator(ad_svm, ad_X, ad_preds)\n",
    "plt.show()"
   ]
  },
  {
   "cell_type": "code",
   "execution_count": null,
   "id": "ba629fef",
   "metadata": {},
   "outputs": [],
   "source": []
  }
 ],
 "metadata": {
  "kernelspec": {
   "display_name": "Python 3 (ipykernel)",
   "language": "python",
   "name": "python3"
  },
  "language_info": {
   "codemirror_mode": {
    "name": "ipython",
    "version": 3
   },
   "file_extension": ".py",
   "mimetype": "text/x-python",
   "name": "python",
   "nbconvert_exporter": "python",
   "pygments_lexer": "ipython3",
   "version": "3.7.13"
  }
 },
 "nbformat": 4,
 "nbformat_minor": 5
}
