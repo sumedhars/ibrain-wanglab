{
 "cells": [
  {
   "cell_type": "code",
   "execution_count": 2,
   "id": "a596bbcd",
   "metadata": {},
   "outputs": [],
   "source": [
    "import os\n",
    "import pandas as pd"
   ]
  },
  {
   "cell_type": "code",
   "execution_count": 3,
   "id": "95e26cad",
   "metadata": {},
   "outputs": [],
   "source": [
    "gmv_df = pd.read_csv(\"gmv_w_adas.csv\")"
   ]
  },
  {
   "cell_type": "code",
   "execution_count": 7,
   "id": "4544664d",
   "metadata": {},
   "outputs": [],
   "source": [
    "gmv_df = gmv_df.drop(columns=[\"Unnamed: 0\"])"
   ]
  },
  {
   "cell_type": "code",
   "execution_count": 8,
   "id": "f462996a",
   "metadata": {},
   "outputs": [],
   "source": [
    "gmv_df.set_index(\"PTID\", inplace=True)"
   ]
  },
  {
   "cell_type": "code",
   "execution_count": 9,
   "id": "1760bc15",
   "metadata": {},
   "outputs": [
    {
     "data": {
      "text/html": [
       "<div>\n",
       "<style scoped>\n",
       "    .dataframe tbody tr th:only-of-type {\n",
       "        vertical-align: middle;\n",
       "    }\n",
       "\n",
       "    .dataframe tbody tr th {\n",
       "        vertical-align: top;\n",
       "    }\n",
       "\n",
       "    .dataframe thead th {\n",
       "        text-align: right;\n",
       "    }\n",
       "</style>\n",
       "<table border=\"1\" class=\"dataframe\">\n",
       "  <thead>\n",
       "    <tr style=\"text-align: right;\">\n",
       "      <th></th>\n",
       "      <th>TOTAL11</th>\n",
       "      <th>diagnosis</th>\n",
       "      <th>roi_0_gmv</th>\n",
       "      <th>roi_1_gmv</th>\n",
       "      <th>roi_2_gmv</th>\n",
       "      <th>roi_3_gmv</th>\n",
       "      <th>roi_4_gmv</th>\n",
       "      <th>roi_5_gmv</th>\n",
       "      <th>roi_6_gmv</th>\n",
       "      <th>roi_7_gmv</th>\n",
       "      <th>...</th>\n",
       "      <th>roi_236_gmv</th>\n",
       "      <th>roi_237_gmv</th>\n",
       "      <th>roi_238_gmv</th>\n",
       "      <th>roi_239_gmv</th>\n",
       "      <th>roi_240_gmv</th>\n",
       "      <th>roi_241_gmv</th>\n",
       "      <th>roi_242_gmv</th>\n",
       "      <th>roi_243_gmv</th>\n",
       "      <th>roi_244_gmv</th>\n",
       "      <th>roi_245_gmv</th>\n",
       "    </tr>\n",
       "    <tr>\n",
       "      <th>PTID</th>\n",
       "      <th></th>\n",
       "      <th></th>\n",
       "      <th></th>\n",
       "      <th></th>\n",
       "      <th></th>\n",
       "      <th></th>\n",
       "      <th></th>\n",
       "      <th></th>\n",
       "      <th></th>\n",
       "      <th></th>\n",
       "      <th></th>\n",
       "      <th></th>\n",
       "      <th></th>\n",
       "      <th></th>\n",
       "      <th></th>\n",
       "      <th></th>\n",
       "      <th></th>\n",
       "      <th></th>\n",
       "      <th></th>\n",
       "      <th></th>\n",
       "      <th></th>\n",
       "    </tr>\n",
       "  </thead>\n",
       "  <tbody>\n",
       "    <tr>\n",
       "      <th>005_S_0324</th>\n",
       "      <td>10.67</td>\n",
       "      <td>MCI</td>\n",
       "      <td>0</td>\n",
       "      <td>0</td>\n",
       "      <td>0</td>\n",
       "      <td>0</td>\n",
       "      <td>0</td>\n",
       "      <td>0</td>\n",
       "      <td>0</td>\n",
       "      <td>0</td>\n",
       "      <td>...</td>\n",
       "      <td>0</td>\n",
       "      <td>0</td>\n",
       "      <td>0</td>\n",
       "      <td>0</td>\n",
       "      <td>0</td>\n",
       "      <td>0</td>\n",
       "      <td>0</td>\n",
       "      <td>0</td>\n",
       "      <td>0</td>\n",
       "      <td>0</td>\n",
       "    </tr>\n",
       "    <tr>\n",
       "      <th>127_S_0844</th>\n",
       "      <td>19.00</td>\n",
       "      <td>AD</td>\n",
       "      <td>0</td>\n",
       "      <td>0</td>\n",
       "      <td>0</td>\n",
       "      <td>0</td>\n",
       "      <td>0</td>\n",
       "      <td>0</td>\n",
       "      <td>0</td>\n",
       "      <td>0</td>\n",
       "      <td>...</td>\n",
       "      <td>0</td>\n",
       "      <td>0</td>\n",
       "      <td>0</td>\n",
       "      <td>0</td>\n",
       "      <td>0</td>\n",
       "      <td>0</td>\n",
       "      <td>0</td>\n",
       "      <td>0</td>\n",
       "      <td>0</td>\n",
       "      <td>0</td>\n",
       "    </tr>\n",
       "    <tr>\n",
       "      <th>023_S_1289</th>\n",
       "      <td>26.00</td>\n",
       "      <td>AD</td>\n",
       "      <td>0</td>\n",
       "      <td>0</td>\n",
       "      <td>0</td>\n",
       "      <td>0</td>\n",
       "      <td>0</td>\n",
       "      <td>0</td>\n",
       "      <td>0</td>\n",
       "      <td>0</td>\n",
       "      <td>...</td>\n",
       "      <td>0</td>\n",
       "      <td>0</td>\n",
       "      <td>0</td>\n",
       "      <td>0</td>\n",
       "      <td>0</td>\n",
       "      <td>0</td>\n",
       "      <td>0</td>\n",
       "      <td>0</td>\n",
       "      <td>0</td>\n",
       "      <td>0</td>\n",
       "    </tr>\n",
       "    <tr>\n",
       "      <th>023_S_0030</th>\n",
       "      <td>23.00</td>\n",
       "      <td>MCI</td>\n",
       "      <td>0</td>\n",
       "      <td>236</td>\n",
       "      <td>0</td>\n",
       "      <td>978</td>\n",
       "      <td>0</td>\n",
       "      <td>1019</td>\n",
       "      <td>0</td>\n",
       "      <td>165</td>\n",
       "      <td>...</td>\n",
       "      <td>0</td>\n",
       "      <td>0</td>\n",
       "      <td>0</td>\n",
       "      <td>0</td>\n",
       "      <td>0</td>\n",
       "      <td>0</td>\n",
       "      <td>0</td>\n",
       "      <td>0</td>\n",
       "      <td>0</td>\n",
       "      <td>0</td>\n",
       "    </tr>\n",
       "    <tr>\n",
       "      <th>016_S_1326</th>\n",
       "      <td>17.33</td>\n",
       "      <td>MCI</td>\n",
       "      <td>0</td>\n",
       "      <td>0</td>\n",
       "      <td>0</td>\n",
       "      <td>0</td>\n",
       "      <td>0</td>\n",
       "      <td>0</td>\n",
       "      <td>0</td>\n",
       "      <td>0</td>\n",
       "      <td>...</td>\n",
       "      <td>0</td>\n",
       "      <td>0</td>\n",
       "      <td>0</td>\n",
       "      <td>0</td>\n",
       "      <td>0</td>\n",
       "      <td>0</td>\n",
       "      <td>0</td>\n",
       "      <td>0</td>\n",
       "      <td>0</td>\n",
       "      <td>0</td>\n",
       "    </tr>\n",
       "    <tr>\n",
       "      <th>...</th>\n",
       "      <td>...</td>\n",
       "      <td>...</td>\n",
       "      <td>...</td>\n",
       "      <td>...</td>\n",
       "      <td>...</td>\n",
       "      <td>...</td>\n",
       "      <td>...</td>\n",
       "      <td>...</td>\n",
       "      <td>...</td>\n",
       "      <td>...</td>\n",
       "      <td>...</td>\n",
       "      <td>...</td>\n",
       "      <td>...</td>\n",
       "      <td>...</td>\n",
       "      <td>...</td>\n",
       "      <td>...</td>\n",
       "      <td>...</td>\n",
       "      <td>...</td>\n",
       "      <td>...</td>\n",
       "      <td>...</td>\n",
       "      <td>...</td>\n",
       "    </tr>\n",
       "    <tr>\n",
       "      <th>116_S_0382</th>\n",
       "      <td>2.33</td>\n",
       "      <td>NL</td>\n",
       "      <td>0</td>\n",
       "      <td>0</td>\n",
       "      <td>0</td>\n",
       "      <td>43</td>\n",
       "      <td>0</td>\n",
       "      <td>34</td>\n",
       "      <td>0</td>\n",
       "      <td>0</td>\n",
       "      <td>...</td>\n",
       "      <td>0</td>\n",
       "      <td>1</td>\n",
       "      <td>0</td>\n",
       "      <td>49</td>\n",
       "      <td>0</td>\n",
       "      <td>3</td>\n",
       "      <td>0</td>\n",
       "      <td>7</td>\n",
       "      <td>0</td>\n",
       "      <td>24</td>\n",
       "    </tr>\n",
       "    <tr>\n",
       "      <th>032_S_1169</th>\n",
       "      <td>6.33</td>\n",
       "      <td>NL</td>\n",
       "      <td>1</td>\n",
       "      <td>0</td>\n",
       "      <td>0</td>\n",
       "      <td>0</td>\n",
       "      <td>0</td>\n",
       "      <td>0</td>\n",
       "      <td>0</td>\n",
       "      <td>0</td>\n",
       "      <td>...</td>\n",
       "      <td>137</td>\n",
       "      <td>203</td>\n",
       "      <td>2</td>\n",
       "      <td>192</td>\n",
       "      <td>48</td>\n",
       "      <td>36</td>\n",
       "      <td>6</td>\n",
       "      <td>203</td>\n",
       "      <td>43</td>\n",
       "      <td>111</td>\n",
       "    </tr>\n",
       "    <tr>\n",
       "      <th>136_S_0196</th>\n",
       "      <td>8.67</td>\n",
       "      <td>NL</td>\n",
       "      <td>0</td>\n",
       "      <td>0</td>\n",
       "      <td>0</td>\n",
       "      <td>0</td>\n",
       "      <td>0</td>\n",
       "      <td>0</td>\n",
       "      <td>0</td>\n",
       "      <td>0</td>\n",
       "      <td>...</td>\n",
       "      <td>0</td>\n",
       "      <td>0</td>\n",
       "      <td>0</td>\n",
       "      <td>0</td>\n",
       "      <td>0</td>\n",
       "      <td>0</td>\n",
       "      <td>0</td>\n",
       "      <td>0</td>\n",
       "      <td>0</td>\n",
       "      <td>0</td>\n",
       "    </tr>\n",
       "    <tr>\n",
       "      <th>021_S_0984</th>\n",
       "      <td>8.33</td>\n",
       "      <td>NL</td>\n",
       "      <td>0</td>\n",
       "      <td>0</td>\n",
       "      <td>0</td>\n",
       "      <td>0</td>\n",
       "      <td>0</td>\n",
       "      <td>0</td>\n",
       "      <td>0</td>\n",
       "      <td>0</td>\n",
       "      <td>...</td>\n",
       "      <td>0</td>\n",
       "      <td>0</td>\n",
       "      <td>0</td>\n",
       "      <td>0</td>\n",
       "      <td>0</td>\n",
       "      <td>0</td>\n",
       "      <td>0</td>\n",
       "      <td>0</td>\n",
       "      <td>0</td>\n",
       "      <td>0</td>\n",
       "    </tr>\n",
       "    <tr>\n",
       "      <th>012_S_1212</th>\n",
       "      <td>4.00</td>\n",
       "      <td>NL</td>\n",
       "      <td>0</td>\n",
       "      <td>0</td>\n",
       "      <td>0</td>\n",
       "      <td>0</td>\n",
       "      <td>0</td>\n",
       "      <td>0</td>\n",
       "      <td>0</td>\n",
       "      <td>0</td>\n",
       "      <td>...</td>\n",
       "      <td>148</td>\n",
       "      <td>140</td>\n",
       "      <td>0</td>\n",
       "      <td>128</td>\n",
       "      <td>3</td>\n",
       "      <td>17</td>\n",
       "      <td>4</td>\n",
       "      <td>6</td>\n",
       "      <td>39</td>\n",
       "      <td>90</td>\n",
       "    </tr>\n",
       "  </tbody>\n",
       "</table>\n",
       "<p>116 rows × 248 columns</p>\n",
       "</div>"
      ],
      "text/plain": [
       "            TOTAL11 diagnosis  roi_0_gmv  roi_1_gmv  roi_2_gmv  roi_3_gmv  \\\n",
       "PTID                                                                        \n",
       "005_S_0324    10.67       MCI          0          0          0          0   \n",
       "127_S_0844    19.00        AD          0          0          0          0   \n",
       "023_S_1289    26.00        AD          0          0          0          0   \n",
       "023_S_0030    23.00       MCI          0        236          0        978   \n",
       "016_S_1326    17.33       MCI          0          0          0          0   \n",
       "...             ...       ...        ...        ...        ...        ...   \n",
       "116_S_0382     2.33        NL          0          0          0         43   \n",
       "032_S_1169     6.33        NL          1          0          0          0   \n",
       "136_S_0196     8.67        NL          0          0          0          0   \n",
       "021_S_0984     8.33        NL          0          0          0          0   \n",
       "012_S_1212     4.00        NL          0          0          0          0   \n",
       "\n",
       "            roi_4_gmv  roi_5_gmv  roi_6_gmv  roi_7_gmv  ...  roi_236_gmv  \\\n",
       "PTID                                                    ...                \n",
       "005_S_0324          0          0          0          0  ...            0   \n",
       "127_S_0844          0          0          0          0  ...            0   \n",
       "023_S_1289          0          0          0          0  ...            0   \n",
       "023_S_0030          0       1019          0        165  ...            0   \n",
       "016_S_1326          0          0          0          0  ...            0   \n",
       "...               ...        ...        ...        ...  ...          ...   \n",
       "116_S_0382          0         34          0          0  ...            0   \n",
       "032_S_1169          0          0          0          0  ...          137   \n",
       "136_S_0196          0          0          0          0  ...            0   \n",
       "021_S_0984          0          0          0          0  ...            0   \n",
       "012_S_1212          0          0          0          0  ...          148   \n",
       "\n",
       "            roi_237_gmv  roi_238_gmv  roi_239_gmv  roi_240_gmv  roi_241_gmv  \\\n",
       "PTID                                                                          \n",
       "005_S_0324            0            0            0            0            0   \n",
       "127_S_0844            0            0            0            0            0   \n",
       "023_S_1289            0            0            0            0            0   \n",
       "023_S_0030            0            0            0            0            0   \n",
       "016_S_1326            0            0            0            0            0   \n",
       "...                 ...          ...          ...          ...          ...   \n",
       "116_S_0382            1            0           49            0            3   \n",
       "032_S_1169          203            2          192           48           36   \n",
       "136_S_0196            0            0            0            0            0   \n",
       "021_S_0984            0            0            0            0            0   \n",
       "012_S_1212          140            0          128            3           17   \n",
       "\n",
       "            roi_242_gmv  roi_243_gmv  roi_244_gmv  roi_245_gmv  \n",
       "PTID                                                            \n",
       "005_S_0324            0            0            0            0  \n",
       "127_S_0844            0            0            0            0  \n",
       "023_S_1289            0            0            0            0  \n",
       "023_S_0030            0            0            0            0  \n",
       "016_S_1326            0            0            0            0  \n",
       "...                 ...          ...          ...          ...  \n",
       "116_S_0382            0            7            0           24  \n",
       "032_S_1169            6          203           43          111  \n",
       "136_S_0196            0            0            0            0  \n",
       "021_S_0984            0            0            0            0  \n",
       "012_S_1212            4            6           39           90  \n",
       "\n",
       "[116 rows x 248 columns]"
      ]
     },
     "execution_count": 9,
     "metadata": {},
     "output_type": "execute_result"
    }
   ],
   "source": [
    "gmv_df"
   ]
  },
  {
   "cell_type": "code",
   "execution_count": 42,
   "id": "fb72fc47",
   "metadata": {},
   "outputs": [
    {
     "data": {
      "text/plain": [
       "SVC(probability=True)"
      ]
     },
     "execution_count": 42,
     "metadata": {},
     "output_type": "execute_result"
    }
   ],
   "source": [
    "from sklearn.model_selection import train_test_split\n",
    "from sklearn.svm import SVC\n",
    "\n",
    "X = gmv_df.drop(columns = [\"TOTAL11\", \"diagnosis\"])\n",
    "encoded_diagnosis = gmv_df['diagnosis'].astype('category').cat.codes\n",
    "gmv_df[\"diagnosis\"] = encoded_diagnosis\n",
    "\n",
    "y = gmv_df['diagnosis']\n",
    "\n",
    "X_train, X_test, y_train, y_test = train_test_split(X, y, test_size=0.2, random_state=42)\n",
    "\n",
    "gmv_svm = SVC(probability = True)\n",
    "\n",
    "gmv_svm.fit(X_train, y_train)"
   ]
  },
  {
   "cell_type": "code",
   "execution_count": 43,
   "id": "e4a2ac76",
   "metadata": {},
   "outputs": [],
   "source": [
    "from sklearn.metrics import confusion_matrix, ConfusionMatrixDisplay\n",
    "import matplotlib.pyplot as plt"
   ]
  },
  {
   "cell_type": "code",
   "execution_count": 44,
   "id": "e58e665e",
   "metadata": {
    "scrolled": true
   },
   "outputs": [
    {
     "data": {
      "image/png": "[encoded data removed]",
      "text/plain": [
       "<Figure size 432x288 with 2 Axes>"
      ]
     },
     "metadata": {
      "needs_background": "light"
     },
     "output_type": "display_data"
    }
   ],
   "source": [
    "preds = gmv_svm.predict(X_test)\n",
    "\n",
    "ConfusionMatrixDisplay(confusion_matrix(y_test, preds)).plot()\n",
    "plt.title(\"GMV Confusion Matrix\")\n",
    "plt.show()\n"
   ]
  },
  {
   "cell_type": "code",
   "execution_count": 45,
   "id": "4c58c4d7",
   "metadata": {},
   "outputs": [],
   "source": [
    "import numpy as np"
   ]
  },
  {
   "cell_type": "code",
   "execution_count": 46,
   "id": "7baca599",
   "metadata": {},
   "outputs": [],
   "source": [
    "preds = np.array(preds)"
   ]
  },
  {
   "cell_type": "code",
   "execution_count": 47,
   "id": "e8e5f370",
   "metadata": {},
   "outputs": [
    {
     "data": {
      "text/plain": [
       "(24,)"
      ]
     },
     "execution_count": 47,
     "metadata": {},
     "output_type": "execute_result"
    }
   ],
   "source": [
    "preds.shape"
   ]
  },
  {
   "cell_type": "code",
   "execution_count": 48,
   "id": "143f0d61",
   "metadata": {},
   "outputs": [
    {
     "data": {
      "text/html": [
       "<div>\n",
       "<style scoped>\n",
       "    .dataframe tbody tr th:only-of-type {\n",
       "        vertical-align: middle;\n",
       "    }\n",
       "\n",
       "    .dataframe tbody tr th {\n",
       "        vertical-align: top;\n",
       "    }\n",
       "\n",
       "    .dataframe thead th {\n",
       "        text-align: right;\n",
       "    }\n",
       "</style>\n",
       "<table border=\"1\" class=\"dataframe\">\n",
       "  <thead>\n",
       "    <tr style=\"text-align: right;\">\n",
       "      <th></th>\n",
       "      <th>TOTAL11</th>\n",
       "      <th>diagnosis</th>\n",
       "      <th>roi_0_gmv</th>\n",
       "      <th>roi_1_gmv</th>\n",
       "      <th>roi_2_gmv</th>\n",
       "      <th>roi_3_gmv</th>\n",
       "      <th>roi_4_gmv</th>\n",
       "      <th>roi_5_gmv</th>\n",
       "      <th>roi_6_gmv</th>\n",
       "      <th>roi_7_gmv</th>\n",
       "      <th>...</th>\n",
       "      <th>roi_236_gmv</th>\n",
       "      <th>roi_237_gmv</th>\n",
       "      <th>roi_238_gmv</th>\n",
       "      <th>roi_239_gmv</th>\n",
       "      <th>roi_240_gmv</th>\n",
       "      <th>roi_241_gmv</th>\n",
       "      <th>roi_242_gmv</th>\n",
       "      <th>roi_243_gmv</th>\n",
       "      <th>roi_244_gmv</th>\n",
       "      <th>roi_245_gmv</th>\n",
       "    </tr>\n",
       "    <tr>\n",
       "      <th>PTID</th>\n",
       "      <th></th>\n",
       "      <th></th>\n",
       "      <th></th>\n",
       "      <th></th>\n",
       "      <th></th>\n",
       "      <th></th>\n",
       "      <th></th>\n",
       "      <th></th>\n",
       "      <th></th>\n",
       "      <th></th>\n",
       "      <th></th>\n",
       "      <th></th>\n",
       "      <th></th>\n",
       "      <th></th>\n",
       "      <th></th>\n",
       "      <th></th>\n",
       "      <th></th>\n",
       "      <th></th>\n",
       "      <th></th>\n",
       "      <th></th>\n",
       "      <th></th>\n",
       "    </tr>\n",
       "  </thead>\n",
       "  <tbody>\n",
       "    <tr>\n",
       "      <th>005_S_0324</th>\n",
       "      <td>10.67</td>\n",
       "      <td>1</td>\n",
       "      <td>0</td>\n",
       "      <td>0</td>\n",
       "      <td>0</td>\n",
       "      <td>0</td>\n",
       "      <td>0</td>\n",
       "      <td>0</td>\n",
       "      <td>0</td>\n",
       "      <td>0</td>\n",
       "      <td>...</td>\n",
       "      <td>0</td>\n",
       "      <td>0</td>\n",
       "      <td>0</td>\n",
       "      <td>0</td>\n",
       "      <td>0</td>\n",
       "      <td>0</td>\n",
       "      <td>0</td>\n",
       "      <td>0</td>\n",
       "      <td>0</td>\n",
       "      <td>0</td>\n",
       "    </tr>\n",
       "    <tr>\n",
       "      <th>127_S_0844</th>\n",
       "      <td>19.00</td>\n",
       "      <td>0</td>\n",
       "      <td>0</td>\n",
       "      <td>0</td>\n",
       "      <td>0</td>\n",
       "      <td>0</td>\n",
       "      <td>0</td>\n",
       "      <td>0</td>\n",
       "      <td>0</td>\n",
       "      <td>0</td>\n",
       "      <td>...</td>\n",
       "      <td>0</td>\n",
       "      <td>0</td>\n",
       "      <td>0</td>\n",
       "      <td>0</td>\n",
       "      <td>0</td>\n",
       "      <td>0</td>\n",
       "      <td>0</td>\n",
       "      <td>0</td>\n",
       "      <td>0</td>\n",
       "      <td>0</td>\n",
       "    </tr>\n",
       "    <tr>\n",
       "      <th>023_S_1289</th>\n",
       "      <td>26.00</td>\n",
       "      <td>0</td>\n",
       "      <td>0</td>\n",
       "      <td>0</td>\n",
       "      <td>0</td>\n",
       "      <td>0</td>\n",
       "      <td>0</td>\n",
       "      <td>0</td>\n",
       "      <td>0</td>\n",
       "      <td>0</td>\n",
       "      <td>...</td>\n",
       "      <td>0</td>\n",
       "      <td>0</td>\n",
       "      <td>0</td>\n",
       "      <td>0</td>\n",
       "      <td>0</td>\n",
       "      <td>0</td>\n",
       "      <td>0</td>\n",
       "      <td>0</td>\n",
       "      <td>0</td>\n",
       "      <td>0</td>\n",
       "    </tr>\n",
       "    <tr>\n",
       "      <th>023_S_0030</th>\n",
       "      <td>23.00</td>\n",
       "      <td>1</td>\n",
       "      <td>0</td>\n",
       "      <td>236</td>\n",
       "      <td>0</td>\n",
       "      <td>978</td>\n",
       "      <td>0</td>\n",
       "      <td>1019</td>\n",
       "      <td>0</td>\n",
       "      <td>165</td>\n",
       "      <td>...</td>\n",
       "      <td>0</td>\n",
       "      <td>0</td>\n",
       "      <td>0</td>\n",
       "      <td>0</td>\n",
       "      <td>0</td>\n",
       "      <td>0</td>\n",
       "      <td>0</td>\n",
       "      <td>0</td>\n",
       "      <td>0</td>\n",
       "      <td>0</td>\n",
       "    </tr>\n",
       "    <tr>\n",
       "      <th>016_S_1326</th>\n",
       "      <td>17.33</td>\n",
       "      <td>1</td>\n",
       "      <td>0</td>\n",
       "      <td>0</td>\n",
       "      <td>0</td>\n",
       "      <td>0</td>\n",
       "      <td>0</td>\n",
       "      <td>0</td>\n",
       "      <td>0</td>\n",
       "      <td>0</td>\n",
       "      <td>...</td>\n",
       "      <td>0</td>\n",
       "      <td>0</td>\n",
       "      <td>0</td>\n",
       "      <td>0</td>\n",
       "      <td>0</td>\n",
       "      <td>0</td>\n",
       "      <td>0</td>\n",
       "      <td>0</td>\n",
       "      <td>0</td>\n",
       "      <td>0</td>\n",
       "    </tr>\n",
       "    <tr>\n",
       "      <th>...</th>\n",
       "      <td>...</td>\n",
       "      <td>...</td>\n",
       "      <td>...</td>\n",
       "      <td>...</td>\n",
       "      <td>...</td>\n",
       "      <td>...</td>\n",
       "      <td>...</td>\n",
       "      <td>...</td>\n",
       "      <td>...</td>\n",
       "      <td>...</td>\n",
       "      <td>...</td>\n",
       "      <td>...</td>\n",
       "      <td>...</td>\n",
       "      <td>...</td>\n",
       "      <td>...</td>\n",
       "      <td>...</td>\n",
       "      <td>...</td>\n",
       "      <td>...</td>\n",
       "      <td>...</td>\n",
       "      <td>...</td>\n",
       "      <td>...</td>\n",
       "    </tr>\n",
       "    <tr>\n",
       "      <th>116_S_0382</th>\n",
       "      <td>2.33</td>\n",
       "      <td>2</td>\n",
       "      <td>0</td>\n",
       "      <td>0</td>\n",
       "      <td>0</td>\n",
       "      <td>43</td>\n",
       "      <td>0</td>\n",
       "      <td>34</td>\n",
       "      <td>0</td>\n",
       "      <td>0</td>\n",
       "      <td>...</td>\n",
       "      <td>0</td>\n",
       "      <td>1</td>\n",
       "      <td>0</td>\n",
       "      <td>49</td>\n",
       "      <td>0</td>\n",
       "      <td>3</td>\n",
       "      <td>0</td>\n",
       "      <td>7</td>\n",
       "      <td>0</td>\n",
       "      <td>24</td>\n",
       "    </tr>\n",
       "    <tr>\n",
       "      <th>032_S_1169</th>\n",
       "      <td>6.33</td>\n",
       "      <td>2</td>\n",
       "      <td>1</td>\n",
       "      <td>0</td>\n",
       "      <td>0</td>\n",
       "      <td>0</td>\n",
       "      <td>0</td>\n",
       "      <td>0</td>\n",
       "      <td>0</td>\n",
       "      <td>0</td>\n",
       "      <td>...</td>\n",
       "      <td>137</td>\n",
       "      <td>203</td>\n",
       "      <td>2</td>\n",
       "      <td>192</td>\n",
       "      <td>48</td>\n",
       "      <td>36</td>\n",
       "      <td>6</td>\n",
       "      <td>203</td>\n",
       "      <td>43</td>\n",
       "      <td>111</td>\n",
       "    </tr>\n",
       "    <tr>\n",
       "      <th>136_S_0196</th>\n",
       "      <td>8.67</td>\n",
       "      <td>2</td>\n",
       "      <td>0</td>\n",
       "      <td>0</td>\n",
       "      <td>0</td>\n",
       "      <td>0</td>\n",
       "      <td>0</td>\n",
       "      <td>0</td>\n",
       "      <td>0</td>\n",
       "      <td>0</td>\n",
       "      <td>...</td>\n",
       "      <td>0</td>\n",
       "      <td>0</td>\n",
       "      <td>0</td>\n",
       "      <td>0</td>\n",
       "      <td>0</td>\n",
       "      <td>0</td>\n",
       "      <td>0</td>\n",
       "      <td>0</td>\n",
       "      <td>0</td>\n",
       "      <td>0</td>\n",
       "    </tr>\n",
       "    <tr>\n",
       "      <th>021_S_0984</th>\n",
       "      <td>8.33</td>\n",
       "      <td>2</td>\n",
       "      <td>0</td>\n",
       "      <td>0</td>\n",
       "      <td>0</td>\n",
       "      <td>0</td>\n",
       "      <td>0</td>\n",
       "      <td>0</td>\n",
       "      <td>0</td>\n",
       "      <td>0</td>\n",
       "      <td>...</td>\n",
       "      <td>0</td>\n",
       "      <td>0</td>\n",
       "      <td>0</td>\n",
       "      <td>0</td>\n",
       "      <td>0</td>\n",
       "      <td>0</td>\n",
       "      <td>0</td>\n",
       "      <td>0</td>\n",
       "      <td>0</td>\n",
       "      <td>0</td>\n",
       "    </tr>\n",
       "    <tr>\n",
       "      <th>012_S_1212</th>\n",
       "      <td>4.00</td>\n",
       "      <td>2</td>\n",
       "      <td>0</td>\n",
       "      <td>0</td>\n",
       "      <td>0</td>\n",
       "      <td>0</td>\n",
       "      <td>0</td>\n",
       "      <td>0</td>\n",
       "      <td>0</td>\n",
       "      <td>0</td>\n",
       "      <td>...</td>\n",
       "      <td>148</td>\n",
       "      <td>140</td>\n",
       "      <td>0</td>\n",
       "      <td>128</td>\n",
       "      <td>3</td>\n",
       "      <td>17</td>\n",
       "      <td>4</td>\n",
       "      <td>6</td>\n",
       "      <td>39</td>\n",
       "      <td>90</td>\n",
       "    </tr>\n",
       "  </tbody>\n",
       "</table>\n",
       "<p>116 rows × 248 columns</p>\n",
       "</div>"
      ],
      "text/plain": [
       "            TOTAL11  diagnosis  roi_0_gmv  roi_1_gmv  roi_2_gmv  roi_3_gmv  \\\n",
       "PTID                                                                         \n",
       "005_S_0324    10.67          1          0          0          0          0   \n",
       "127_S_0844    19.00          0          0          0          0          0   \n",
       "023_S_1289    26.00          0          0          0          0          0   \n",
       "023_S_0030    23.00          1          0        236          0        978   \n",
       "016_S_1326    17.33          1          0          0          0          0   \n",
       "...             ...        ...        ...        ...        ...        ...   \n",
       "116_S_0382     2.33          2          0          0          0         43   \n",
       "032_S_1169     6.33          2          1          0          0          0   \n",
       "136_S_0196     8.67          2          0          0          0          0   \n",
       "021_S_0984     8.33          2          0          0          0          0   \n",
       "012_S_1212     4.00          2          0          0          0          0   \n",
       "\n",
       "            roi_4_gmv  roi_5_gmv  roi_6_gmv  roi_7_gmv  ...  roi_236_gmv  \\\n",
       "PTID                                                    ...                \n",
       "005_S_0324          0          0          0          0  ...            0   \n",
       "127_S_0844          0          0          0          0  ...            0   \n",
       "023_S_1289          0          0          0          0  ...            0   \n",
       "023_S_0030          0       1019          0        165  ...            0   \n",
       "016_S_1326          0          0          0          0  ...            0   \n",
       "...               ...        ...        ...        ...  ...          ...   \n",
       "116_S_0382          0         34          0          0  ...            0   \n",
       "032_S_1169          0          0          0          0  ...          137   \n",
       "136_S_0196          0          0          0          0  ...            0   \n",
       "021_S_0984          0          0          0          0  ...            0   \n",
       "012_S_1212          0          0          0          0  ...          148   \n",
       "\n",
       "            roi_237_gmv  roi_238_gmv  roi_239_gmv  roi_240_gmv  roi_241_gmv  \\\n",
       "PTID                                                                          \n",
       "005_S_0324            0            0            0            0            0   \n",
       "127_S_0844            0            0            0            0            0   \n",
       "023_S_1289            0            0            0            0            0   \n",
       "023_S_0030            0            0            0            0            0   \n",
       "016_S_1326            0            0            0            0            0   \n",
       "...                 ...          ...          ...          ...          ...   \n",
       "116_S_0382            1            0           49            0            3   \n",
       "032_S_1169          203            2          192           48           36   \n",
       "136_S_0196            0            0            0            0            0   \n",
       "021_S_0984            0            0            0            0            0   \n",
       "012_S_1212          140            0          128            3           17   \n",
       "\n",
       "            roi_242_gmv  roi_243_gmv  roi_244_gmv  roi_245_gmv  \n",
       "PTID                                                            \n",
       "005_S_0324            0            0            0            0  \n",
       "127_S_0844            0            0            0            0  \n",
       "023_S_1289            0            0            0            0  \n",
       "023_S_0030            0            0            0            0  \n",
       "016_S_1326            0            0            0            0  \n",
       "...                 ...          ...          ...          ...  \n",
       "116_S_0382            0            7            0           24  \n",
       "032_S_1169            6          203           43          111  \n",
       "136_S_0196            0            0            0            0  \n",
       "021_S_0984            0            0            0            0  \n",
       "012_S_1212            4            6           39           90  \n",
       "\n",
       "[116 rows x 248 columns]"
      ]
     },
     "execution_count": 48,
     "metadata": {},
     "output_type": "execute_result"
    }
   ],
   "source": [
    "gmv_df"
   ]
  },
  {
   "cell_type": "code",
   "execution_count": 49,
   "id": "a36f6e4d",
   "metadata": {},
   "outputs": [],
   "source": [
    "from sklearn.multiclass import OneVsRestClassifier"
   ]
  },
  {
   "cell_type": "code",
   "execution_count": 50,
   "id": "9a0c389e",
   "metadata": {},
   "outputs": [
    {
     "data": {
      "text/plain": [
       "OneVsRestClassifier(estimator=SVC(probability=True))"
      ]
     },
     "execution_count": 50,
     "metadata": {},
     "output_type": "execute_result"
    }
   ],
   "source": [
    "ova = OneVsRestClassifier(gmv_svm)\n",
    "ova.fit(X_train, y_train)"
   ]
  },
  {
   "cell_type": "code",
   "execution_count": 52,
   "id": "0d6cdbee",
   "metadata": {},
   "outputs": [
    {
     "data": {
      "text/plain": [
       "array([[0.2948781 , 0.11477824, 0.59034366],\n",
       "       [0.28591823, 0.2047298 , 0.50935197],\n",
       "       [0.3280193 , 0.24695668, 0.42502402],\n",
       "       [0.25139583, 0.27240332, 0.47620085],\n",
       "       [0.27110304, 0.32408866, 0.40480831],\n",
       "       [0.27176139, 0.25002037, 0.47821824],\n",
       "       [0.25948216, 0.21384184, 0.52667601],\n",
       "       [0.27074941, 0.32767911, 0.40157148],\n",
       "       [0.26458497, 0.33172556, 0.40368947],\n",
       "       [0.25938784, 0.31705618, 0.42355598],\n",
       "       [0.25387602, 0.27565137, 0.47047262],\n",
       "       [0.29252232, 0.14482986, 0.56264782],\n",
       "       [0.48384246, 0.16169413, 0.35446341],\n",
       "       [0.28307403, 0.19181884, 0.52510712],\n",
       "       [0.31265568, 0.23832155, 0.44902277],\n",
       "       [0.26857234, 0.29506347, 0.43636419],\n",
       "       [0.37207448, 0.242074  , 0.38585152],\n",
       "       [0.39512042, 0.22472705, 0.38015254],\n",
       "       [0.25353171, 0.27586472, 0.47060357],\n",
       "       [0.29265383, 0.25020533, 0.45714083],\n",
       "       [0.29386537, 0.14678282, 0.55935182],\n",
       "       [0.34180626, 0.2099139 , 0.44827984],\n",
       "       [0.3793827 , 0.22850834, 0.39210896],\n",
       "       [0.2587249 , 0.23401935, 0.50725575]])"
      ]
     },
     "execution_count": 52,
     "metadata": {},
     "output_type": "execute_result"
    }
   ],
   "source": [
    "ova.predict_proba(X_test)"
   ]
  },
  {
   "cell_type": "code",
   "execution_count": 54,
   "id": "7555c2f5",
   "metadata": {},
   "outputs": [],
   "source": [
    "import matplotlib.pyplot as plt\n",
    "from sklearn.metrics import roc_curve, roc_auc_score"
   ]
  },
  {
   "cell_type": "code",
   "execution_count": 57,
   "id": "48601715",
   "metadata": {
    "scrolled": false
   },
   "outputs": [
    {
     "data": {
      "image/png": "[encoded data removed]",
      "text/plain": [
       "<Figure size 432x288 with 1 Axes>"
      ]
     },
     "metadata": {
      "needs_background": "light"
     },
     "output_type": "display_data"
    },
    {
     "data": {
      "image/png": "[encoded data removed]",
      "text/plain": [
       "<Figure size 432x288 with 1 Axes>"
      ]
     },
     "metadata": {
      "needs_background": "light"
     },
     "output_type": "display_data"
    },
    {
     "data": {
      "image/png": "[encoded data removed]",
      "text/plain": [
       "<Figure size 432x288 with 1 Axes>"
      ]
     },
     "metadata": {
      "needs_background": "light"
     },
     "output_type": "display_data"
    }
   ],
   "source": [
    "from sklearn.metrics import RocCurveDisplay\n",
    "\n",
    "# svc_disp = RocCurveDisplay.from_estimator(ova, X, y)\n",
    "ova_preds = ova.predict_proba(X_test)\n",
    "\n",
    "ad_preds = ova_preds[:,0]\n",
    "mci_preds = ova_preds[:,1]\n",
    "nl_preds = ova_preds[:,2]\n",
    "\n",
    "# ad_fpr, ad_tpr, _ = roc_curve(y, ad_preds)\n",
    "# mci_fpr, mci_tpr, _ = roc_curve(y, mci_preds)\n",
    "# nl_fpr, nl_tpr, _ = roc_curve(y, nl_preds)\n",
    "\n"
   ]
  },
  {
   "cell_type": "code",
   "execution_count": 62,
   "id": "7a9634a9",
   "metadata": {},
   "outputs": [
    {
     "data": {
      "image/png": "[encoded data removed]",
      "text/plain": [
       "<Figure size 432x288 with 1 Axes>"
      ]
     },
     "metadata": {
      "needs_background": "light"
     },
     "output_type": "display_data"
    }
   ],
   "source": [
    "RocCurveDisplay.from_predictions((y_test == 0).astype(int), ad_preds)\n",
    "plt.title(\"AD ROC Curve\")\n",
    "plt.xlabel(\"False Positive\")\n",
    "plt.ylabel(\"True Positive\")\n",
    "plt.show()"
   ]
  },
  {
   "cell_type": "code",
   "execution_count": 63,
   "id": "56bea6ea",
   "metadata": {},
   "outputs": [
    {
     "data": {
      "image/png": "[encoded data removed]",
      "text/plain": [
       "<Figure size 432x288 with 1 Axes>"
      ]
     },
     "metadata": {
      "needs_background": "light"
     },
     "output_type": "display_data"
    }
   ],
   "source": [
    "RocCurveDisplay.from_predictions((y_test == 1).astype(int), mci_preds)\n",
    "plt.title(\"MCI ROC Curve\")\n",
    "plt.xlabel(\"False Positive\")\n",
    "plt.ylabel(\"True Positive\")\n",
    "plt.show()"
   ]
  },
  {
   "cell_type": "code",
   "execution_count": 64,
   "id": "1f6a67fb",
   "metadata": {},
   "outputs": [
    {
     "data": {
      "image/png": "[encoded data removed]",
      "text/plain": [
       "<Figure size 432x288 with 1 Axes>"
      ]
     },
     "metadata": {
      "needs_background": "light"
     },
     "output_type": "display_data"
    }
   ],
   "source": [
    "RocCurveDisplay.from_predictions((y_test == 2).astype(int), nl_preds)\n",
    "plt.title(\"NL ROC Curve\")\n",
    "plt.xlabel(\"False Positive\")\n",
    "plt.ylabel(\"True Positive\")\n",
    "plt.show()"
   ]
  },
  {
   "cell_type": "code",
   "execution_count": 86,
   "id": "ce89f7ed",
   "metadata": {},
   "outputs": [
    {
     "data": {
      "text/plain": [
       "array([0.27116688, 0.27116688, 0.6364618 , 0.70832195, 0.69210738,\n",
       "       0.69210738, 0.69210738, 0.69210738, 0.69210738, 0.25392054,\n",
       "       0.69210738, 0.6364618 , 0.70832195, 0.6364618 , 0.37378431,\n",
       "       0.44017076, 0.37378431, 0.21893453, 0.21271987, 0.26722147,\n",
       "       0.1997189 , 0.2211204 , 0.27116688, 0.27116688])"
      ]
     },
     "execution_count": 86,
     "metadata": {},
     "output_type": "execute_result"
    }
   ],
   "source": [
    "ad_preds"
   ]
  },
  {
   "cell_type": "code",
   "execution_count": 73,
   "id": "d427ba68",
   "metadata": {
    "scrolled": true
   },
   "outputs": [
    {
     "name": "stderr",
     "output_type": "stream",
     "text": [
      "/usr/local/anaconda3/lib/python3.7/site-packages/sklearn/metrics/_ranking.py:1001: UndefinedMetricWarning: No positive samples in y_true, true positive value should be meaningless\n",
      "  UndefinedMetricWarning,\n"
     ]
    },
    {
     "data": {
      "image/png": "[encoded data removed]",
      "text/plain": [
       "<Figure size 432x288 with 1 Axes>"
      ]
     },
     "metadata": {
      "needs_background": "light"
     },
     "output_type": "display_data"
    }
   ],
   "source": [
    "from sklearn.metrics import RocCurveDisplay\n",
    "\n",
    "svc_disp = RocCurveDisplay.from_estimator(mci_svm, mci_X, mci_preds)\n",
    "plt.show()"
   ]
  },
  {
   "cell_type": "code",
   "execution_count": 74,
   "id": "a9f83886",
   "metadata": {
    "scrolled": true
   },
   "outputs": [
    {
     "name": "stderr",
     "output_type": "stream",
     "text": [
      "/usr/local/anaconda3/lib/python3.7/site-packages/sklearn/metrics/_ranking.py:1001: UndefinedMetricWarning: No positive samples in y_true, true positive value should be meaningless\n",
      "  UndefinedMetricWarning,\n"
     ]
    },
    {
     "data": {
      "image/png": "[encoded data removed]",
      "text/plain": [
       "<Figure size 432x288 with 1 Axes>"
      ]
     },
     "metadata": {
      "needs_background": "light"
     },
     "output_type": "display_data"
    }
   ],
   "source": [
    "from sklearn.metrics import RocCurveDisplay\n",
    "\n",
    "svc_disp = RocCurveDisplay.from_estimator(ad_svm, ad_X, ad_preds)\n",
    "plt.show()"
   ]
  },
  {
   "cell_type": "code",
   "execution_count": null,
   "id": "ba629fef",
   "metadata": {},
   "outputs": [],
   "source": []
  }
 ],
 "metadata": {
  "kernelspec": {
   "display_name": "Python 3 (ipykernel)",
   "language": "python",
   "name": "python3"
  },
  "language_info": {
   "codemirror_mode": {
    "name": "ipython",
    "version": 3
   },
   "file_extension": ".py",
   "mimetype": "text/x-python",
   "name": "python",
   "nbconvert_exporter": "python",
   "pygments_lexer": "ipython3",
   "version": "3.7.13"
  }
 },
 "nbformat": 4,
 "nbformat_minor": 5
}
