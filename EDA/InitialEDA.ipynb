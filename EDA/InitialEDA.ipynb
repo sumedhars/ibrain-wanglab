{
 "cells": [
  {
   "cell_type": "code",
   "execution_count": 1,
   "id": "e7063e6f",
   "metadata": {},
   "outputs": [],
   "source": [
    "import pandas as pd\n",
    "import numpy as np\n",
    "import matplotlib.pyplot as plt\n",
    "import seaborn as sns\n",
    "import os"
   ]
  },
  {
   "cell_type": "code",
   "execution_count": 2,
   "id": "8da74057",
   "metadata": {},
   "outputs": [],
   "source": [
    "data_folder_path = \"../../../data/csc4801/WangLab/standardized_lists/\"\n",
    "data_path_1 = data_folder_path + \"ADNI_1.5T_MRI_Standardized_Lists/ADNI_CompleteVisitList_8_22_12.csv\"\n",
    "data_path_2 = data_folder_path + \"ADNI_3T_MRI_Standardized_Lists/ADNI_CompleteVisitList_3T_8_28_12.csv\"\n",
    "df_1 = pd.read_csv(data_path_1)\n",
    "df_2 = pd.read_csv(data_path_2)"
   ]
  },
  {
   "cell_type": "code",
   "execution_count": 3,
   "id": "de969770",
   "metadata": {},
   "outputs": [
    {
     "data": {
      "text/html": [
       "<div>\n",
       "<style scoped>\n",
       "    .dataframe tbody tr th:only-of-type {\n",
       "        vertical-align: middle;\n",
       "    }\n",
       "\n",
       "    .dataframe tbody tr th {\n",
       "        vertical-align: top;\n",
       "    }\n",
       "\n",
       "    .dataframe thead th {\n",
       "        text-align: right;\n",
       "    }\n",
       "</style>\n",
       "<table border=\"1\" class=\"dataframe\">\n",
       "  <thead>\n",
       "    <tr style=\"text-align: right;\">\n",
       "      <th></th>\n",
       "      <th>RID</th>\n",
       "      <th>Image.ID</th>\n",
       "      <th>PTID</th>\n",
       "      <th>Screen.Diagnosis</th>\n",
       "      <th>Visit</th>\n",
       "      <th>Scan.Date</th>\n",
       "      <th>Sequence</th>\n",
       "      <th>Study.ID</th>\n",
       "      <th>Series.ID</th>\n",
       "    </tr>\n",
       "  </thead>\n",
       "  <tbody>\n",
       "    <tr>\n",
       "      <th>0</th>\n",
       "      <td>3</td>\n",
       "      <td>31863</td>\n",
       "      <td>011_S_0003</td>\n",
       "      <td>AD</td>\n",
       "      <td>Month 6</td>\n",
       "      <td>3/13/06</td>\n",
       "      <td>MPR; GradWarp; B1 Correction; N3; Scaled</td>\n",
       "      <td>4081</td>\n",
       "      <td>15240</td>\n",
       "    </tr>\n",
       "    <tr>\n",
       "      <th>1</th>\n",
       "      <td>3</td>\n",
       "      <td>32237</td>\n",
       "      <td>011_S_0003</td>\n",
       "      <td>AD</td>\n",
       "      <td>Screening</td>\n",
       "      <td>9/1/05</td>\n",
       "      <td>MPR-R; GradWarp; B1 Correction; N3; Scaled</td>\n",
       "      <td>1948</td>\n",
       "      <td>9127</td>\n",
       "    </tr>\n",
       "    <tr>\n",
       "      <th>2</th>\n",
       "      <td>3</td>\n",
       "      <td>35576</td>\n",
       "      <td>011_S_0003</td>\n",
       "      <td>AD</td>\n",
       "      <td>Month 12</td>\n",
       "      <td>9/12/06</td>\n",
       "      <td>MPR; GradWarp; B1 Correction; N3; Scaled</td>\n",
       "      <td>5186</td>\n",
       "      <td>19096</td>\n",
       "    </tr>\n",
       "    <tr>\n",
       "      <th>3</th>\n",
       "      <td>3</td>\n",
       "      <td>88252</td>\n",
       "      <td>011_S_0003</td>\n",
       "      <td>AD</td>\n",
       "      <td>Month 24</td>\n",
       "      <td>9/12/07</td>\n",
       "      <td>MPR; GradWarp; B1 Correction; N3; Scaled</td>\n",
       "      <td>11918</td>\n",
       "      <td>39296</td>\n",
       "    </tr>\n",
       "    <tr>\n",
       "      <th>4</th>\n",
       "      <td>5</td>\n",
       "      <td>31885</td>\n",
       "      <td>011_S_0005</td>\n",
       "      <td>NL</td>\n",
       "      <td>Month 6</td>\n",
       "      <td>3/9/06</td>\n",
       "      <td>MPR; GradWarp; B1 Correction; N3; Scaled</td>\n",
       "      <td>3165</td>\n",
       "      <td>12037</td>\n",
       "    </tr>\n",
       "    <tr>\n",
       "      <th>5</th>\n",
       "      <td>5</td>\n",
       "      <td>31906</td>\n",
       "      <td>011_S_0005</td>\n",
       "      <td>NL</td>\n",
       "      <td>Month 12</td>\n",
       "      <td>9/5/06</td>\n",
       "      <td>MPR; GradWarp; B1 Correction; N3; Scaled</td>\n",
       "      <td>5171</td>\n",
       "      <td>19041</td>\n",
       "    </tr>\n",
       "    <tr>\n",
       "      <th>6</th>\n",
       "      <td>5</td>\n",
       "      <td>32246</td>\n",
       "      <td>011_S_0005</td>\n",
       "      <td>NL</td>\n",
       "      <td>Screening</td>\n",
       "      <td>9/2/05</td>\n",
       "      <td>MPR-R; GradWarp; B1 Correction; N3; Scaled</td>\n",
       "      <td>1950</td>\n",
       "      <td>9136</td>\n",
       "    </tr>\n",
       "    <tr>\n",
       "      <th>7</th>\n",
       "      <td>5</td>\n",
       "      <td>123986</td>\n",
       "      <td>011_S_0005</td>\n",
       "      <td>NL</td>\n",
       "      <td>Month 36</td>\n",
       "      <td>9/10/08</td>\n",
       "      <td>MPR; GradWarp; B1 Correction; N3; Scaled</td>\n",
       "      <td>17700</td>\n",
       "      <td>56381</td>\n",
       "    </tr>\n",
       "    <tr>\n",
       "      <th>8</th>\n",
       "      <td>5</td>\n",
       "      <td>200385</td>\n",
       "      <td>011_S_0005</td>\n",
       "      <td>NL</td>\n",
       "      <td>Month 24</td>\n",
       "      <td>9/7/07</td>\n",
       "      <td>MPR-R; GradWarp; B1 Correction; N3; Scaled</td>\n",
       "      <td>29066</td>\n",
       "      <td>92543</td>\n",
       "    </tr>\n",
       "    <tr>\n",
       "      <th>9</th>\n",
       "      <td>10</td>\n",
       "      <td>31915</td>\n",
       "      <td>011_S_0010</td>\n",
       "      <td>AD</td>\n",
       "      <td>Month 6</td>\n",
       "      <td>5/9/06</td>\n",
       "      <td>MPR; GradWarp; B1 Correction; N3; Scaled</td>\n",
       "      <td>3784</td>\n",
       "      <td>14171</td>\n",
       "    </tr>\n",
       "    <tr>\n",
       "      <th>10</th>\n",
       "      <td>10</td>\n",
       "      <td>32270</td>\n",
       "      <td>011_S_0010</td>\n",
       "      <td>AD</td>\n",
       "      <td>Screening</td>\n",
       "      <td>11/7/05</td>\n",
       "      <td>MPR; GradWarp; B1 Correction; N3; Scaled</td>\n",
       "      <td>2626</td>\n",
       "      <td>8800</td>\n",
       "    </tr>\n",
       "    <tr>\n",
       "      <th>11</th>\n",
       "      <td>10</td>\n",
       "      <td>94368</td>\n",
       "      <td>011_S_0010</td>\n",
       "      <td>AD</td>\n",
       "      <td>Month 12</td>\n",
       "      <td>11/9/06</td>\n",
       "      <td>MPR; GradWarp; B1 Correction; N3; Scaled</td>\n",
       "      <td>14708</td>\n",
       "      <td>45936</td>\n",
       "    </tr>\n",
       "    <tr>\n",
       "      <th>12</th>\n",
       "      <td>10</td>\n",
       "      <td>94377</td>\n",
       "      <td>011_S_0010</td>\n",
       "      <td>AD</td>\n",
       "      <td>Month 24</td>\n",
       "      <td>11/7/07</td>\n",
       "      <td>MPR; GradWarp; B1 Correction; N3; Scaled</td>\n",
       "      <td>14710</td>\n",
       "      <td>45942</td>\n",
       "    </tr>\n",
       "    <tr>\n",
       "      <th>13</th>\n",
       "      <td>14</td>\n",
       "      <td>59375</td>\n",
       "      <td>022_S_0014</td>\n",
       "      <td>NL</td>\n",
       "      <td>Screening</td>\n",
       "      <td>9/29/05</td>\n",
       "      <td>MPR; GradWarp; B1 Correction; N3; Scaled</td>\n",
       "      <td>2003</td>\n",
       "      <td>9271</td>\n",
       "    </tr>\n",
       "    <tr>\n",
       "      <th>14</th>\n",
       "      <td>14</td>\n",
       "      <td>59391</td>\n",
       "      <td>022_S_0014</td>\n",
       "      <td>NL</td>\n",
       "      <td>Month 12</td>\n",
       "      <td>11/28/06</td>\n",
       "      <td>MPR-R; GradWarp; B1 Correction; N3; Scaled</td>\n",
       "      <td>6110</td>\n",
       "      <td>23204</td>\n",
       "    </tr>\n",
       "    <tr>\n",
       "      <th>15</th>\n",
       "      <td>14</td>\n",
       "      <td>64654</td>\n",
       "      <td>022_S_0014</td>\n",
       "      <td>NL</td>\n",
       "      <td>Month 6</td>\n",
       "      <td>5/18/06</td>\n",
       "      <td>MPR; GradWarp; B1 Correction; N3; Scaled</td>\n",
       "      <td>3929</td>\n",
       "      <td>14685</td>\n",
       "    </tr>\n",
       "    <tr>\n",
       "      <th>16</th>\n",
       "      <td>14</td>\n",
       "      <td>87012</td>\n",
       "      <td>022_S_0014</td>\n",
       "      <td>NL</td>\n",
       "      <td>Month 24</td>\n",
       "      <td>12/6/07</td>\n",
       "      <td>MPR; GradWarp; B1 Correction; N3; Scaled</td>\n",
       "      <td>13958</td>\n",
       "      <td>43567</td>\n",
       "    </tr>\n",
       "    <tr>\n",
       "      <th>17</th>\n",
       "      <td>14</td>\n",
       "      <td>129232</td>\n",
       "      <td>022_S_0014</td>\n",
       "      <td>NL</td>\n",
       "      <td>Month 36</td>\n",
       "      <td>11/5/08</td>\n",
       "      <td>MPR; GradWarp; B1 Correction; N3; Scaled</td>\n",
       "      <td>18582</td>\n",
       "      <td>59374</td>\n",
       "    </tr>\n",
       "    <tr>\n",
       "      <th>18</th>\n",
       "      <td>16</td>\n",
       "      <td>31928</td>\n",
       "      <td>011_S_0016</td>\n",
       "      <td>NL</td>\n",
       "      <td>Month 6</td>\n",
       "      <td>4/12/06</td>\n",
       "      <td>MPR-R; GradWarp; B1 Correction; N3; Scaled</td>\n",
       "      <td>3501</td>\n",
       "      <td>13160</td>\n",
       "    </tr>\n",
       "    <tr>\n",
       "      <th>19</th>\n",
       "      <td>16</td>\n",
       "      <td>31933</td>\n",
       "      <td>011_S_0016</td>\n",
       "      <td>NL</td>\n",
       "      <td>Month 12</td>\n",
       "      <td>10/10/06</td>\n",
       "      <td>MPR; GradWarp; B1 Correction; N3; Scaled</td>\n",
       "      <td>5411</td>\n",
       "      <td>19936</td>\n",
       "    </tr>\n",
       "    <tr>\n",
       "      <th>20</th>\n",
       "      <td>16</td>\n",
       "      <td>32306</td>\n",
       "      <td>011_S_0016</td>\n",
       "      <td>NL</td>\n",
       "      <td>Screening</td>\n",
       "      <td>9/27/05</td>\n",
       "      <td>MPR; GradWarp; B1 Correction; N3; Scaled</td>\n",
       "      <td>1997</td>\n",
       "      <td>9253</td>\n",
       "    </tr>\n",
       "    <tr>\n",
       "      <th>21</th>\n",
       "      <td>16</td>\n",
       "      <td>124731</td>\n",
       "      <td>011_S_0016</td>\n",
       "      <td>NL</td>\n",
       "      <td>Month 36</td>\n",
       "      <td>10/16/08</td>\n",
       "      <td>MPR; GradWarp; B1 Correction; N3; Scaled</td>\n",
       "      <td>18095</td>\n",
       "      <td>57702</td>\n",
       "    </tr>\n",
       "    <tr>\n",
       "      <th>22</th>\n",
       "      <td>16</td>\n",
       "      <td>200390</td>\n",
       "      <td>011_S_0016</td>\n",
       "      <td>NL</td>\n",
       "      <td>Month 24</td>\n",
       "      <td>9/18/07</td>\n",
       "      <td>MPR; GradWarp; B1 Correction; N3; Scaled</td>\n",
       "      <td>12032</td>\n",
       "      <td>39578</td>\n",
       "    </tr>\n",
       "    <tr>\n",
       "      <th>23</th>\n",
       "      <td>21</td>\n",
       "      <td>31942</td>\n",
       "      <td>011_S_0021</td>\n",
       "      <td>NL</td>\n",
       "      <td>Month 6</td>\n",
       "      <td>4/24/06</td>\n",
       "      <td>MPR; GradWarp; B1 Correction; N3; Scaled</td>\n",
       "      <td>3639</td>\n",
       "      <td>13709</td>\n",
       "    </tr>\n",
       "    <tr>\n",
       "      <th>24</th>\n",
       "      <td>21</td>\n",
       "      <td>31970</td>\n",
       "      <td>011_S_0021</td>\n",
       "      <td>NL</td>\n",
       "      <td>Month 12</td>\n",
       "      <td>11/2/06</td>\n",
       "      <td>MPR; GradWarp; B1 Correction; N3; Scaled</td>\n",
       "      <td>5754</td>\n",
       "      <td>22065</td>\n",
       "    </tr>\n",
       "    <tr>\n",
       "      <th>25</th>\n",
       "      <td>21</td>\n",
       "      <td>32332</td>\n",
       "      <td>011_S_0021</td>\n",
       "      <td>NL</td>\n",
       "      <td>Screening</td>\n",
       "      <td>10/10/05</td>\n",
       "      <td>MPR; GradWarp; B1 Correction; N3; Scaled</td>\n",
       "      <td>2260</td>\n",
       "      <td>9581</td>\n",
       "    </tr>\n",
       "    <tr>\n",
       "      <th>26</th>\n",
       "      <td>21</td>\n",
       "      <td>128523</td>\n",
       "      <td>011_S_0021</td>\n",
       "      <td>NL</td>\n",
       "      <td>Month 36</td>\n",
       "      <td>10/23/08</td>\n",
       "      <td>MPR-R; GradWarp; B1 Correction; N3; Scaled</td>\n",
       "      <td>18308</td>\n",
       "      <td>58354</td>\n",
       "    </tr>\n",
       "    <tr>\n",
       "      <th>27</th>\n",
       "      <td>21</td>\n",
       "      <td>200399</td>\n",
       "      <td>011_S_0021</td>\n",
       "      <td>NL</td>\n",
       "      <td>Month 24</td>\n",
       "      <td>11/12/07</td>\n",
       "      <td>MPR; GradWarp; B1 Correction; N3; Scaled</td>\n",
       "      <td>29068</td>\n",
       "      <td>92554</td>\n",
       "    </tr>\n",
       "    <tr>\n",
       "      <th>28</th>\n",
       "      <td>23</td>\n",
       "      <td>31992</td>\n",
       "      <td>011_S_0023</td>\n",
       "      <td>NL</td>\n",
       "      <td>Month 6</td>\n",
       "      <td>5/10/06</td>\n",
       "      <td>MPR-R; GradWarp; B1 Correction; N3; Scaled</td>\n",
       "      <td>3787</td>\n",
       "      <td>14184</td>\n",
       "    </tr>\n",
       "    <tr>\n",
       "      <th>29</th>\n",
       "      <td>23</td>\n",
       "      <td>32409</td>\n",
       "      <td>011_S_0023</td>\n",
       "      <td>NL</td>\n",
       "      <td>Screening</td>\n",
       "      <td>10/31/05</td>\n",
       "      <td>MPR; GradWarp; B1 Correction; N3; Scaled</td>\n",
       "      <td>2601</td>\n",
       "      <td>8868</td>\n",
       "    </tr>\n",
       "  </tbody>\n",
       "</table>\n",
       "</div>"
      ],
      "text/plain": [
       "    RID  Image.ID        PTID Screen.Diagnosis      Visit Scan.Date  \\\n",
       "0     3     31863  011_S_0003               AD    Month 6   3/13/06   \n",
       "1     3     32237  011_S_0003               AD  Screening    9/1/05   \n",
       "2     3     35576  011_S_0003               AD   Month 12   9/12/06   \n",
       "3     3     88252  011_S_0003               AD   Month 24   9/12/07   \n",
       "4     5     31885  011_S_0005               NL    Month 6    3/9/06   \n",
       "5     5     31906  011_S_0005               NL   Month 12    9/5/06   \n",
       "6     5     32246  011_S_0005               NL  Screening    9/2/05   \n",
       "7     5    123986  011_S_0005               NL   Month 36   9/10/08   \n",
       "8     5    200385  011_S_0005               NL   Month 24    9/7/07   \n",
       "9    10     31915  011_S_0010               AD    Month 6    5/9/06   \n",
       "10   10     32270  011_S_0010               AD  Screening   11/7/05   \n",
       "11   10     94368  011_S_0010               AD   Month 12   11/9/06   \n",
       "12   10     94377  011_S_0010               AD   Month 24   11/7/07   \n",
       "13   14     59375  022_S_0014               NL  Screening   9/29/05   \n",
       "14   14     59391  022_S_0014               NL   Month 12  11/28/06   \n",
       "15   14     64654  022_S_0014               NL    Month 6   5/18/06   \n",
       "16   14     87012  022_S_0014               NL   Month 24   12/6/07   \n",
       "17   14    129232  022_S_0014               NL   Month 36   11/5/08   \n",
       "18   16     31928  011_S_0016               NL    Month 6   4/12/06   \n",
       "19   16     31933  011_S_0016               NL   Month 12  10/10/06   \n",
       "20   16     32306  011_S_0016               NL  Screening   9/27/05   \n",
       "21   16    124731  011_S_0016               NL   Month 36  10/16/08   \n",
       "22   16    200390  011_S_0016               NL   Month 24   9/18/07   \n",
       "23   21     31942  011_S_0021               NL    Month 6   4/24/06   \n",
       "24   21     31970  011_S_0021               NL   Month 12   11/2/06   \n",
       "25   21     32332  011_S_0021               NL  Screening  10/10/05   \n",
       "26   21    128523  011_S_0021               NL   Month 36  10/23/08   \n",
       "27   21    200399  011_S_0021               NL   Month 24  11/12/07   \n",
       "28   23     31992  011_S_0023               NL    Month 6   5/10/06   \n",
       "29   23     32409  011_S_0023               NL  Screening  10/31/05   \n",
       "\n",
       "                                      Sequence  Study.ID  Series.ID  \n",
       "0     MPR; GradWarp; B1 Correction; N3; Scaled      4081      15240  \n",
       "1   MPR-R; GradWarp; B1 Correction; N3; Scaled      1948       9127  \n",
       "2     MPR; GradWarp; B1 Correction; N3; Scaled      5186      19096  \n",
       "3     MPR; GradWarp; B1 Correction; N3; Scaled     11918      39296  \n",
       "4     MPR; GradWarp; B1 Correction; N3; Scaled      3165      12037  \n",
       "5     MPR; GradWarp; B1 Correction; N3; Scaled      5171      19041  \n",
       "6   MPR-R; GradWarp; B1 Correction; N3; Scaled      1950       9136  \n",
       "7     MPR; GradWarp; B1 Correction; N3; Scaled     17700      56381  \n",
       "8   MPR-R; GradWarp; B1 Correction; N3; Scaled     29066      92543  \n",
       "9     MPR; GradWarp; B1 Correction; N3; Scaled      3784      14171  \n",
       "10    MPR; GradWarp; B1 Correction; N3; Scaled      2626       8800  \n",
       "11    MPR; GradWarp; B1 Correction; N3; Scaled     14708      45936  \n",
       "12    MPR; GradWarp; B1 Correction; N3; Scaled     14710      45942  \n",
       "13    MPR; GradWarp; B1 Correction; N3; Scaled      2003       9271  \n",
       "14  MPR-R; GradWarp; B1 Correction; N3; Scaled      6110      23204  \n",
       "15    MPR; GradWarp; B1 Correction; N3; Scaled      3929      14685  \n",
       "16    MPR; GradWarp; B1 Correction; N3; Scaled     13958      43567  \n",
       "17    MPR; GradWarp; B1 Correction; N3; Scaled     18582      59374  \n",
       "18  MPR-R; GradWarp; B1 Correction; N3; Scaled      3501      13160  \n",
       "19    MPR; GradWarp; B1 Correction; N3; Scaled      5411      19936  \n",
       "20    MPR; GradWarp; B1 Correction; N3; Scaled      1997       9253  \n",
       "21    MPR; GradWarp; B1 Correction; N3; Scaled     18095      57702  \n",
       "22    MPR; GradWarp; B1 Correction; N3; Scaled     12032      39578  \n",
       "23    MPR; GradWarp; B1 Correction; N3; Scaled      3639      13709  \n",
       "24    MPR; GradWarp; B1 Correction; N3; Scaled      5754      22065  \n",
       "25    MPR; GradWarp; B1 Correction; N3; Scaled      2260       9581  \n",
       "26  MPR-R; GradWarp; B1 Correction; N3; Scaled     18308      58354  \n",
       "27    MPR; GradWarp; B1 Correction; N3; Scaled     29068      92554  \n",
       "28  MPR-R; GradWarp; B1 Correction; N3; Scaled      3787      14184  \n",
       "29    MPR; GradWarp; B1 Correction; N3; Scaled      2601       8868  "
      ]
     },
     "execution_count": 3,
     "metadata": {},
     "output_type": "execute_result"
    }
   ],
   "source": [
    "df_1.head(30)"
   ]
  },
  {
   "cell_type": "code",
   "execution_count": 4,
   "id": "204cc00c",
   "metadata": {},
   "outputs": [
    {
     "data": {
      "text/html": [
       "<div>\n",
       "<style scoped>\n",
       "    .dataframe tbody tr th:only-of-type {\n",
       "        vertical-align: middle;\n",
       "    }\n",
       "\n",
       "    .dataframe tbody tr th {\n",
       "        vertical-align: top;\n",
       "    }\n",
       "\n",
       "    .dataframe thead th {\n",
       "        text-align: right;\n",
       "    }\n",
       "</style>\n",
       "<table border=\"1\" class=\"dataframe\">\n",
       "  <thead>\n",
       "    <tr style=\"text-align: right;\">\n",
       "      <th></th>\n",
       "      <th>RID</th>\n",
       "      <th>PTID</th>\n",
       "      <th>Screen.Diagnosis</th>\n",
       "      <th>Visit</th>\n",
       "      <th>Scan.Date</th>\n",
       "      <th>Sequence</th>\n",
       "      <th>Study.ID</th>\n",
       "      <th>Series.ID</th>\n",
       "      <th>Image.ID</th>\n",
       "    </tr>\n",
       "  </thead>\n",
       "  <tbody>\n",
       "    <tr>\n",
       "      <th>0</th>\n",
       "      <td>15</td>\n",
       "      <td>100_S_0015</td>\n",
       "      <td>NL</td>\n",
       "      <td>Month 6</td>\n",
       "      <td>5/2/06</td>\n",
       "      <td>MPR-R; ; N3; Scaled</td>\n",
       "      <td>3695</td>\n",
       "      <td>13884</td>\n",
       "      <td>33041</td>\n",
       "    </tr>\n",
       "    <tr>\n",
       "      <th>1</th>\n",
       "      <td>15</td>\n",
       "      <td>100_S_0015</td>\n",
       "      <td>NL</td>\n",
       "      <td>Baseline</td>\n",
       "      <td>10/31/05</td>\n",
       "      <td>MPR-R; ; N3; Scaled</td>\n",
       "      <td>2613</td>\n",
       "      <td>8833</td>\n",
       "      <td>33046</td>\n",
       "    </tr>\n",
       "    <tr>\n",
       "      <th>2</th>\n",
       "      <td>15</td>\n",
       "      <td>100_S_0015</td>\n",
       "      <td>NL</td>\n",
       "      <td>Month 12</td>\n",
       "      <td>10/16/06</td>\n",
       "      <td>MPR-R; ; N3; Scaled</td>\n",
       "      <td>5490</td>\n",
       "      <td>20311</td>\n",
       "      <td>63475</td>\n",
       "    </tr>\n",
       "    <tr>\n",
       "      <th>3</th>\n",
       "      <td>15</td>\n",
       "      <td>100_S_0015</td>\n",
       "      <td>NL</td>\n",
       "      <td>Month 24</td>\n",
       "      <td>10/11/07</td>\n",
       "      <td>MPR; ; N3; Scaled</td>\n",
       "      <td>13281</td>\n",
       "      <td>41463</td>\n",
       "      <td>82551</td>\n",
       "    </tr>\n",
       "    <tr>\n",
       "      <th>4</th>\n",
       "      <td>15</td>\n",
       "      <td>100_S_0015</td>\n",
       "      <td>NL</td>\n",
       "      <td>Month 36</td>\n",
       "      <td>4/27/09</td>\n",
       "      <td>MPR; ; N3; Scaled</td>\n",
       "      <td>21223</td>\n",
       "      <td>66778</td>\n",
       "      <td>160866</td>\n",
       "    </tr>\n",
       "    <tr>\n",
       "      <th>5</th>\n",
       "      <td>30</td>\n",
       "      <td>023_S_0030</td>\n",
       "      <td>MCI</td>\n",
       "      <td>Baseline</td>\n",
       "      <td>10/26/05</td>\n",
       "      <td>MPR; GradWarp; B1 Correction; N3; Scaled</td>\n",
       "      <td>2591</td>\n",
       "      <td>8908</td>\n",
       "      <td>31623</td>\n",
       "    </tr>\n",
       "    <tr>\n",
       "      <th>6</th>\n",
       "      <td>30</td>\n",
       "      <td>023_S_0030</td>\n",
       "      <td>MCI</td>\n",
       "      <td>Month 6</td>\n",
       "      <td>4/13/06</td>\n",
       "      <td>MPR; GradWarp; B1 Correction; N3; Scaled</td>\n",
       "      <td>3512</td>\n",
       "      <td>13207</td>\n",
       "      <td>51902</td>\n",
       "    </tr>\n",
       "    <tr>\n",
       "      <th>7</th>\n",
       "      <td>30</td>\n",
       "      <td>023_S_0030</td>\n",
       "      <td>MCI</td>\n",
       "      <td>Month 18</td>\n",
       "      <td>4/26/07</td>\n",
       "      <td>MPR-R; GradWarp; B1 Correction; N3; Scaled</td>\n",
       "      <td>8517</td>\n",
       "      <td>30858</td>\n",
       "      <td>64059</td>\n",
       "    </tr>\n",
       "    <tr>\n",
       "      <th>8</th>\n",
       "      <td>30</td>\n",
       "      <td>023_S_0030</td>\n",
       "      <td>MCI</td>\n",
       "      <td>Month 24</td>\n",
       "      <td>11/13/07</td>\n",
       "      <td>MPR; GradWarp; B1 Correction; N3; Scaled</td>\n",
       "      <td>13696</td>\n",
       "      <td>42714</td>\n",
       "      <td>87493</td>\n",
       "    </tr>\n",
       "    <tr>\n",
       "      <th>9</th>\n",
       "      <td>30</td>\n",
       "      <td>023_S_0030</td>\n",
       "      <td>MCI</td>\n",
       "      <td>Month 6</td>\n",
       "      <td>4/13/06</td>\n",
       "      <td>MPR; GradWarp; B1 Correction; N3; Scaled_2</td>\n",
       "      <td>3512</td>\n",
       "      <td>13207</td>\n",
       "      <td>118776</td>\n",
       "    </tr>\n",
       "    <tr>\n",
       "      <th>10</th>\n",
       "      <td>30</td>\n",
       "      <td>023_S_0030</td>\n",
       "      <td>MCI</td>\n",
       "      <td>Baseline</td>\n",
       "      <td>10/26/05</td>\n",
       "      <td>MPR; GradWarp; B1 Correction; N3; Scaled_2</td>\n",
       "      <td>2591</td>\n",
       "      <td>8908</td>\n",
       "      <td>118790</td>\n",
       "    </tr>\n",
       "    <tr>\n",
       "      <th>11</th>\n",
       "      <td>30</td>\n",
       "      <td>023_S_0030</td>\n",
       "      <td>MCI</td>\n",
       "      <td>Month 18</td>\n",
       "      <td>4/26/07</td>\n",
       "      <td>MPR-R; GradWarp; B1 Correction; N3; Scaled_2</td>\n",
       "      <td>8517</td>\n",
       "      <td>30858</td>\n",
       "      <td>118835</td>\n",
       "    </tr>\n",
       "    <tr>\n",
       "      <th>12</th>\n",
       "      <td>30</td>\n",
       "      <td>023_S_0030</td>\n",
       "      <td>MCI</td>\n",
       "      <td>Month 36</td>\n",
       "      <td>11/26/08</td>\n",
       "      <td>MPR; GradWarp; B1 Correction; N3; Scaled</td>\n",
       "      <td>18857</td>\n",
       "      <td>60288</td>\n",
       "      <td>129260</td>\n",
       "    </tr>\n",
       "    <tr>\n",
       "      <th>13</th>\n",
       "      <td>30</td>\n",
       "      <td>023_S_0030</td>\n",
       "      <td>MCI</td>\n",
       "      <td>Month 12</td>\n",
       "      <td>10/12/06</td>\n",
       "      <td>MPR-R; GradWarp; B1 Correction; N3; Scaled</td>\n",
       "      <td>10680</td>\n",
       "      <td>20029</td>\n",
       "      <td>138580</td>\n",
       "    </tr>\n",
       "    <tr>\n",
       "      <th>14</th>\n",
       "      <td>31</td>\n",
       "      <td>023_S_0031</td>\n",
       "      <td>NL</td>\n",
       "      <td>Baseline</td>\n",
       "      <td>10/28/05</td>\n",
       "      <td>MPR-R; GradWarp; B1 Correction; N3; Scaled</td>\n",
       "      <td>2598</td>\n",
       "      <td>10009</td>\n",
       "      <td>51934</td>\n",
       "    </tr>\n",
       "    <tr>\n",
       "      <th>15</th>\n",
       "      <td>31</td>\n",
       "      <td>023_S_0031</td>\n",
       "      <td>NL</td>\n",
       "      <td>Month 6</td>\n",
       "      <td>4/17/06</td>\n",
       "      <td>MPR; GradWarp; B1 Correction; N3; Scaled</td>\n",
       "      <td>10681</td>\n",
       "      <td>13261</td>\n",
       "      <td>81856</td>\n",
       "    </tr>\n",
       "    <tr>\n",
       "      <th>16</th>\n",
       "      <td>31</td>\n",
       "      <td>023_S_0031</td>\n",
       "      <td>NL</td>\n",
       "      <td>Month 24</td>\n",
       "      <td>11/14/07</td>\n",
       "      <td>MPR; GradWarp; B1 Correction; N3; Scaled</td>\n",
       "      <td>13709</td>\n",
       "      <td>42753</td>\n",
       "      <td>83389</td>\n",
       "    </tr>\n",
       "    <tr>\n",
       "      <th>17</th>\n",
       "      <td>31</td>\n",
       "      <td>023_S_0031</td>\n",
       "      <td>NL</td>\n",
       "      <td>Month 12</td>\n",
       "      <td>10/30/06</td>\n",
       "      <td>MPR-R; GradWarp; B1 Correction; N3; Scaled</td>\n",
       "      <td>10682</td>\n",
       "      <td>21475</td>\n",
       "      <td>89933</td>\n",
       "    </tr>\n",
       "    <tr>\n",
       "      <th>18</th>\n",
       "      <td>31</td>\n",
       "      <td>023_S_0031</td>\n",
       "      <td>NL</td>\n",
       "      <td>Month 6</td>\n",
       "      <td>4/17/06</td>\n",
       "      <td>MPR; GradWarp; B1 Correction; N3; Scaled_2</td>\n",
       "      <td>10681</td>\n",
       "      <td>13261</td>\n",
       "      <td>118842</td>\n",
       "    </tr>\n",
       "    <tr>\n",
       "      <th>19</th>\n",
       "      <td>31</td>\n",
       "      <td>023_S_0031</td>\n",
       "      <td>NL</td>\n",
       "      <td>Month 12</td>\n",
       "      <td>10/30/06</td>\n",
       "      <td>MPR-R; GradWarp; B1 Correction; N3; Scaled_2</td>\n",
       "      <td>10682</td>\n",
       "      <td>21475</td>\n",
       "      <td>118846</td>\n",
       "    </tr>\n",
       "    <tr>\n",
       "      <th>20</th>\n",
       "      <td>31</td>\n",
       "      <td>023_S_0031</td>\n",
       "      <td>NL</td>\n",
       "      <td>Baseline</td>\n",
       "      <td>10/28/05</td>\n",
       "      <td>MPR-R; GradWarp; B1 Correction; N3; Scaled_2</td>\n",
       "      <td>2598</td>\n",
       "      <td>10009</td>\n",
       "      <td>118848</td>\n",
       "    </tr>\n",
       "    <tr>\n",
       "      <th>21</th>\n",
       "      <td>31</td>\n",
       "      <td>023_S_0031</td>\n",
       "      <td>NL</td>\n",
       "      <td>Month 36</td>\n",
       "      <td>12/2/08</td>\n",
       "      <td>MPR-R; GradWarp; B1 Correction; N3; Scaled</td>\n",
       "      <td>18920</td>\n",
       "      <td>60420</td>\n",
       "      <td>132325</td>\n",
       "    </tr>\n",
       "    <tr>\n",
       "      <th>22</th>\n",
       "      <td>58</td>\n",
       "      <td>023_S_0058</td>\n",
       "      <td>NL</td>\n",
       "      <td>Baseline</td>\n",
       "      <td>12/12/05</td>\n",
       "      <td>MPR; GradWarp; B1 Correction; N3; Scaled</td>\n",
       "      <td>2763</td>\n",
       "      <td>10498</td>\n",
       "      <td>30968</td>\n",
       "    </tr>\n",
       "    <tr>\n",
       "      <th>23</th>\n",
       "      <td>58</td>\n",
       "      <td>023_S_0058</td>\n",
       "      <td>NL</td>\n",
       "      <td>Month 6</td>\n",
       "      <td>6/13/06</td>\n",
       "      <td>MPR; GradWarp; B1 Correction; N3; Scaled</td>\n",
       "      <td>4175</td>\n",
       "      <td>15504</td>\n",
       "      <td>30979</td>\n",
       "    </tr>\n",
       "    <tr>\n",
       "      <th>24</th>\n",
       "      <td>58</td>\n",
       "      <td>023_S_0058</td>\n",
       "      <td>NL</td>\n",
       "      <td>Month 24</td>\n",
       "      <td>12/6/07</td>\n",
       "      <td>MPR; GradWarp; B1 Correction; N3; Scaled</td>\n",
       "      <td>13907</td>\n",
       "      <td>43409</td>\n",
       "      <td>87046</td>\n",
       "    </tr>\n",
       "    <tr>\n",
       "      <th>25</th>\n",
       "      <td>58</td>\n",
       "      <td>023_S_0058</td>\n",
       "      <td>NL</td>\n",
       "      <td>Baseline</td>\n",
       "      <td>12/12/05</td>\n",
       "      <td>MPR; GradWarp; B1 Correction; N3; Scaled_2</td>\n",
       "      <td>2763</td>\n",
       "      <td>10498</td>\n",
       "      <td>118837</td>\n",
       "    </tr>\n",
       "    <tr>\n",
       "      <th>26</th>\n",
       "      <td>58</td>\n",
       "      <td>023_S_0058</td>\n",
       "      <td>NL</td>\n",
       "      <td>Month 6</td>\n",
       "      <td>6/13/06</td>\n",
       "      <td>MPR; GradWarp; B1 Correction; N3; Scaled_2</td>\n",
       "      <td>4175</td>\n",
       "      <td>15504</td>\n",
       "      <td>118841</td>\n",
       "    </tr>\n",
       "    <tr>\n",
       "      <th>27</th>\n",
       "      <td>58</td>\n",
       "      <td>023_S_0058</td>\n",
       "      <td>NL</td>\n",
       "      <td>Month 12</td>\n",
       "      <td>12/19/06</td>\n",
       "      <td>MPR; GradWarp; B1 Correction; N3; Scaled_2</td>\n",
       "      <td>6419</td>\n",
       "      <td>24251</td>\n",
       "      <td>118852</td>\n",
       "    </tr>\n",
       "    <tr>\n",
       "      <th>28</th>\n",
       "      <td>58</td>\n",
       "      <td>023_S_0058</td>\n",
       "      <td>NL</td>\n",
       "      <td>Month 36</td>\n",
       "      <td>12/9/08</td>\n",
       "      <td>MPR; GradWarp; B1 Correction; N3; Scaled</td>\n",
       "      <td>19021</td>\n",
       "      <td>60689</td>\n",
       "      <td>132350</td>\n",
       "    </tr>\n",
       "    <tr>\n",
       "      <th>29</th>\n",
       "      <td>61</td>\n",
       "      <td>023_S_0061</td>\n",
       "      <td>NL</td>\n",
       "      <td>Baseline</td>\n",
       "      <td>12/20/05</td>\n",
       "      <td>MPR; GradWarp; B1 Correction; N3; Scaled</td>\n",
       "      <td>2823</td>\n",
       "      <td>10633</td>\n",
       "      <td>31107</td>\n",
       "    </tr>\n",
       "  </tbody>\n",
       "</table>\n",
       "</div>"
      ],
      "text/plain": [
       "    RID        PTID Screen.Diagnosis     Visit Scan.Date  \\\n",
       "0    15  100_S_0015               NL   Month 6    5/2/06   \n",
       "1    15  100_S_0015               NL  Baseline  10/31/05   \n",
       "2    15  100_S_0015               NL  Month 12  10/16/06   \n",
       "3    15  100_S_0015               NL  Month 24  10/11/07   \n",
       "4    15  100_S_0015               NL  Month 36   4/27/09   \n",
       "5    30  023_S_0030              MCI  Baseline  10/26/05   \n",
       "6    30  023_S_0030              MCI   Month 6   4/13/06   \n",
       "7    30  023_S_0030              MCI  Month 18   4/26/07   \n",
       "8    30  023_S_0030              MCI  Month 24  11/13/07   \n",
       "9    30  023_S_0030              MCI   Month 6   4/13/06   \n",
       "10   30  023_S_0030              MCI  Baseline  10/26/05   \n",
       "11   30  023_S_0030              MCI  Month 18   4/26/07   \n",
       "12   30  023_S_0030              MCI  Month 36  11/26/08   \n",
       "13   30  023_S_0030              MCI  Month 12  10/12/06   \n",
       "14   31  023_S_0031               NL  Baseline  10/28/05   \n",
       "15   31  023_S_0031               NL   Month 6   4/17/06   \n",
       "16   31  023_S_0031               NL  Month 24  11/14/07   \n",
       "17   31  023_S_0031               NL  Month 12  10/30/06   \n",
       "18   31  023_S_0031               NL   Month 6   4/17/06   \n",
       "19   31  023_S_0031               NL  Month 12  10/30/06   \n",
       "20   31  023_S_0031               NL  Baseline  10/28/05   \n",
       "21   31  023_S_0031               NL  Month 36   12/2/08   \n",
       "22   58  023_S_0058               NL  Baseline  12/12/05   \n",
       "23   58  023_S_0058               NL   Month 6   6/13/06   \n",
       "24   58  023_S_0058               NL  Month 24   12/6/07   \n",
       "25   58  023_S_0058               NL  Baseline  12/12/05   \n",
       "26   58  023_S_0058               NL   Month 6   6/13/06   \n",
       "27   58  023_S_0058               NL  Month 12  12/19/06   \n",
       "28   58  023_S_0058               NL  Month 36   12/9/08   \n",
       "29   61  023_S_0061               NL  Baseline  12/20/05   \n",
       "\n",
       "                                        Sequence  Study.ID  Series.ID  \\\n",
       "0                            MPR-R; ; N3; Scaled      3695      13884   \n",
       "1                            MPR-R; ; N3; Scaled      2613       8833   \n",
       "2                            MPR-R; ; N3; Scaled      5490      20311   \n",
       "3                              MPR; ; N3; Scaled     13281      41463   \n",
       "4                              MPR; ; N3; Scaled     21223      66778   \n",
       "5       MPR; GradWarp; B1 Correction; N3; Scaled      2591       8908   \n",
       "6       MPR; GradWarp; B1 Correction; N3; Scaled      3512      13207   \n",
       "7     MPR-R; GradWarp; B1 Correction; N3; Scaled      8517      30858   \n",
       "8       MPR; GradWarp; B1 Correction; N3; Scaled     13696      42714   \n",
       "9     MPR; GradWarp; B1 Correction; N3; Scaled_2      3512      13207   \n",
       "10    MPR; GradWarp; B1 Correction; N3; Scaled_2      2591       8908   \n",
       "11  MPR-R; GradWarp; B1 Correction; N3; Scaled_2      8517      30858   \n",
       "12      MPR; GradWarp; B1 Correction; N3; Scaled     18857      60288   \n",
       "13    MPR-R; GradWarp; B1 Correction; N3; Scaled     10680      20029   \n",
       "14    MPR-R; GradWarp; B1 Correction; N3; Scaled      2598      10009   \n",
       "15      MPR; GradWarp; B1 Correction; N3; Scaled     10681      13261   \n",
       "16      MPR; GradWarp; B1 Correction; N3; Scaled     13709      42753   \n",
       "17    MPR-R; GradWarp; B1 Correction; N3; Scaled     10682      21475   \n",
       "18    MPR; GradWarp; B1 Correction; N3; Scaled_2     10681      13261   \n",
       "19  MPR-R; GradWarp; B1 Correction; N3; Scaled_2     10682      21475   \n",
       "20  MPR-R; GradWarp; B1 Correction; N3; Scaled_2      2598      10009   \n",
       "21    MPR-R; GradWarp; B1 Correction; N3; Scaled     18920      60420   \n",
       "22      MPR; GradWarp; B1 Correction; N3; Scaled      2763      10498   \n",
       "23      MPR; GradWarp; B1 Correction; N3; Scaled      4175      15504   \n",
       "24      MPR; GradWarp; B1 Correction; N3; Scaled     13907      43409   \n",
       "25    MPR; GradWarp; B1 Correction; N3; Scaled_2      2763      10498   \n",
       "26    MPR; GradWarp; B1 Correction; N3; Scaled_2      4175      15504   \n",
       "27    MPR; GradWarp; B1 Correction; N3; Scaled_2      6419      24251   \n",
       "28      MPR; GradWarp; B1 Correction; N3; Scaled     19021      60689   \n",
       "29      MPR; GradWarp; B1 Correction; N3; Scaled      2823      10633   \n",
       "\n",
       "    Image.ID  \n",
       "0      33041  \n",
       "1      33046  \n",
       "2      63475  \n",
       "3      82551  \n",
       "4     160866  \n",
       "5      31623  \n",
       "6      51902  \n",
       "7      64059  \n",
       "8      87493  \n",
       "9     118776  \n",
       "10    118790  \n",
       "11    118835  \n",
       "12    129260  \n",
       "13    138580  \n",
       "14     51934  \n",
       "15     81856  \n",
       "16     83389  \n",
       "17     89933  \n",
       "18    118842  \n",
       "19    118846  \n",
       "20    118848  \n",
       "21    132325  \n",
       "22     30968  \n",
       "23     30979  \n",
       "24     87046  \n",
       "25    118837  \n",
       "26    118841  \n",
       "27    118852  \n",
       "28    132350  \n",
       "29     31107  "
      ]
     },
     "execution_count": 4,
     "metadata": {},
     "output_type": "execute_result"
    }
   ],
   "source": [
    "df_2.head(30)"
   ]
  },
  {
   "cell_type": "code",
   "execution_count": 5,
   "id": "24d3b766",
   "metadata": {},
   "outputs": [
    {
     "data": {
      "text/plain": [
       "{'002_S_0413',\n",
       " '002_S_1018',\n",
       " '002_S_1070',\n",
       " '005_S_0324',\n",
       " '005_S_0553',\n",
       " '005_S_0814',\n",
       " '012_S_0689',\n",
       " '018_S_0335',\n",
       " '023_S_0030',\n",
       " '023_S_0031',\n",
       " '023_S_0058',\n",
       " '023_S_0061',\n",
       " '023_S_0331',\n",
       " '023_S_0376',\n",
       " '023_S_0388',\n",
       " '023_S_0604',\n",
       " '023_S_0625',\n",
       " '023_S_0916',\n",
       " '023_S_0926',\n",
       " '023_S_0963',\n",
       " '023_S_1046',\n",
       " '023_S_1262',\n",
       " '027_S_0307',\n",
       " '027_S_0403',\n",
       " '027_S_0404',\n",
       " '027_S_0835',\n",
       " '027_S_1081',\n",
       " '027_S_1082',\n",
       " '027_S_1385',\n",
       " '032_S_1169',\n",
       " '037_S_0303',\n",
       " '053_S_0507',\n",
       " '116_S_0382',\n",
       " '116_S_0487',\n",
       " '116_S_0649',\n",
       " '116_S_1249',\n",
       " '127_S_0260',\n",
       " '127_S_0622',\n",
       " '127_S_0844',\n",
       " '136_S_0086',\n",
       " '136_S_0184',\n",
       " '136_S_0196',\n",
       " '136_S_0300',\n",
       " '136_S_0426',\n",
       " '136_S_0429'}"
      ]
     },
     "execution_count": 5,
     "metadata": {},
     "output_type": "execute_result"
    }
   ],
   "source": [
    "unique_1 = df_1[\"PTID\"].unique()\n",
    "unique_2 = df_2[\"PTID\"].unique()\n",
    "\n",
    "list_1 = []\n",
    "for id in unique_2:\n",
    "    if id in unique_1:\n",
    "        list_1.append(id)\n",
    "\n",
    "list_2 = []\n",
    "for id in unique_1:\n",
    "    if id in unique_2:\n",
    "        list_2.append(id)\n",
    "\n",
    "set(list_1) & set(list_2)"
   ]
  },
  {
   "cell_type": "markdown",
   "id": "e9625be2",
   "metadata": {},
   "source": [
    "## Categorical Features"
   ]
  },
  {
   "cell_type": "code",
   "execution_count": 6,
   "id": "1982866a",
   "metadata": {},
   "outputs": [
    {
     "name": "stdout",
     "output_type": "stream",
     "text": [
      "Number of Unique Studies: 3\n",
      "Diagnoses: \n",
      " MCI    981\n",
      "NL     748\n",
      "AD     453\n",
      "Name: Screen.Diagnosis, dtype: int64\n"
     ]
    }
   ],
   "source": [
    "print('Number of Unique Studies:', len(df_1['Screen.Diagnosis'].unique()))\n",
    "print('Diagnoses: \\n', df_1['Screen.Diagnosis'].value_counts())"
   ]
  },
  {
   "cell_type": "code",
   "execution_count": 7,
   "id": "60e51759",
   "metadata": {
    "scrolled": true
   },
   "outputs": [
    {
     "data": {
      "text/plain": [
       "[Text(0.5, 0, 'Diagnosis'), Text(0.5, 1.0, 'Diagnosis of 1.5T Scans')]"
      ]
     },
     "execution_count": 7,
     "metadata": {},
     "output_type": "execute_result"
    },
    {
     "data": {
      "image/png": "[encoded data removed]",
      "text/plain": [
       "<Figure size 432x288 with 1 Axes>"
      ]
     },
     "metadata": {
      "needs_background": "light"
     },
     "output_type": "display_data"
    }
   ],
   "source": [
    "ax = sns.histplot(data=df_1, x=\"Screen.Diagnosis\")\n",
    "ax.set(xlabel='Diagnosis', title='Diagnosis of 1.5T Scans')"
   ]
  },
  {
   "cell_type": "code",
   "execution_count": 8,
   "id": "d367efb7",
   "metadata": {},
   "outputs": [
    {
     "name": "stdout",
     "output_type": "stream",
     "text": [
      "Number of Unique Studies: 3\n",
      "Diagnoses: \n",
      " MCI    146\n",
      "NL     129\n",
      "AD      77\n",
      "Name: Screen.Diagnosis, dtype: int64\n"
     ]
    }
   ],
   "source": [
    "print('Number of Unique Studies:', len(df_2['Screen.Diagnosis'].unique()))\n",
    "print('Diagnoses: \\n', df_2['Screen.Diagnosis'].value_counts())"
   ]
  },
  {
   "cell_type": "code",
   "execution_count": 9,
   "id": "8fc8c254",
   "metadata": {},
   "outputs": [
    {
     "data": {
      "text/plain": [
       "[Text(0.5, 0, 'Diagnosis'), Text(0.5, 1.0, 'Diagnosis of 3T Scans')]"
      ]
     },
     "execution_count": 9,
     "metadata": {},
     "output_type": "execute_result"
    },
    {
     "data": {
      "image/png": "[encoded data removed]",
      "text/plain": [
       "<Figure size 432x288 with 1 Axes>"
      ]
     },
     "metadata": {
      "needs_background": "light"
     },
     "output_type": "display_data"
    }
   ],
   "source": [
    "ax = sns.histplot(data=df_2, x=\"Screen.Diagnosis\")\n",
    "ax.set(xlabel='Diagnosis', title='Diagnosis of 3T Scans')"
   ]
  },
  {
   "cell_type": "code",
   "execution_count": 10,
   "id": "7c17a306",
   "metadata": {},
   "outputs": [
    {
     "name": "stdout",
     "output_type": "stream",
     "text": [
      "Number of Unique Studies: 1960\n",
      "Study Counts: \n",
      " 28453    3\n",
      "24387    3\n",
      "25082    3\n",
      "8967     2\n",
      "5769     2\n",
      "        ..\n",
      "16539    1\n",
      "13830    1\n",
      "9208     1\n",
      "6246     1\n",
      "4081     1\n",
      "Name: Study.ID, Length: 1960, dtype: int64\n"
     ]
    }
   ],
   "source": [
    "print('Number of Unique Studies:', len(df_1['Study.ID'].unique()))\n",
    "print('Study Counts: \\n', df_1['Study.ID'].value_counts())"
   ]
  },
  {
   "cell_type": "code",
   "execution_count": 11,
   "id": "dd7bb876",
   "metadata": {},
   "outputs": [
    {
     "data": {
      "text/plain": [
       "[Text(0.5, 0, 'Study ID'), Text(0.5, 1.0, 'Study IDs of 1.5T Scans')]"
      ]
     },
     "execution_count": 11,
     "metadata": {},
     "output_type": "execute_result"
    },
    {
     "data": {
      "image/png": "[encoded data removed]",
      "text/plain": [
       "<Figure size 432x288 with 1 Axes>"
      ]
     },
     "metadata": {
      "needs_background": "light"
     },
     "output_type": "display_data"
    }
   ],
   "source": [
    "ax = sns.histplot(data=df_1, x=\"Study.ID\")\n",
    "ax.set(xlabel='Study ID', title='Study IDs of 1.5T Scans')"
   ]
  },
  {
   "cell_type": "code",
   "execution_count": 12,
   "id": "53c6f9be",
   "metadata": {},
   "outputs": [
    {
     "name": "stdout",
     "output_type": "stream",
     "text": [
      "Number of Unique Studies: 302\n",
      "Study Counts: \n",
      " 10687    2\n",
      "3502     2\n",
      "3378     2\n",
      "24831    2\n",
      "10808    2\n",
      "        ..\n",
      "6389     1\n",
      "9339     1\n",
      "14184    1\n",
      "16449    1\n",
      "20289    1\n",
      "Name: Study.ID, Length: 302, dtype: int64\n"
     ]
    }
   ],
   "source": [
    "print('Number of Unique Studies:', len(df_2['Study.ID'].unique()))\n",
    "print('Study Counts: \\n', df_2['Study.ID'].value_counts())"
   ]
  },
  {
   "cell_type": "code",
   "execution_count": 13,
   "id": "66da4f6d",
   "metadata": {},
   "outputs": [
    {
     "data": {
      "text/plain": [
       "[Text(0.5, 0, 'Study ID'), Text(0.5, 1.0, 'Study IDs of 3T Scans')]"
      ]
     },
     "execution_count": 13,
     "metadata": {},
     "output_type": "execute_result"
    },
    {
     "data": {
      "image/png": "[encoded data removed]",
      "text/plain": [
       "<Figure size 432x288 with 1 Axes>"
      ]
     },
     "metadata": {
      "needs_background": "light"
     },
     "output_type": "display_data"
    }
   ],
   "source": [
    "ax = sns.histplot(data=df_2, x=\"Study.ID\")\n",
    "ax.set(xlabel='Study ID', title='Study IDs of 3T Scans')"
   ]
  },
  {
   "cell_type": "code",
   "execution_count": 14,
   "id": "bf2de46e",
   "metadata": {},
   "outputs": [
    {
     "name": "stdout",
     "output_type": "stream",
     "text": [
      "Number of Unique Series: 1973\n",
      "Series Counts: \n",
      " 34624    2\n",
      "18499    2\n",
      "29319    2\n",
      "24674    2\n",
      "36669    2\n",
      "        ..\n",
      "42942    1\n",
      "33667    1\n",
      "25901    1\n",
      "14736    1\n",
      "90927    1\n",
      "Name: Series.ID, Length: 1973, dtype: int64\n"
     ]
    }
   ],
   "source": [
    "print('Number of Unique Series:', len(df_1['Series.ID'].unique()))\n",
    "print('Series Counts: \\n', df_1['Series.ID'].value_counts())"
   ]
  },
  {
   "cell_type": "code",
   "execution_count": 15,
   "id": "70355454",
   "metadata": {},
   "outputs": [
    {
     "data": {
      "text/plain": [
       "[Text(0.5, 0, 'Series ID'), Text(0.5, 1.0, 'Series IDs of 1.5T Scans')]"
      ]
     },
     "execution_count": 15,
     "metadata": {},
     "output_type": "execute_result"
    },
    {
     "data": {
      "image/png": "[encoded data removed]",
      "text/plain": [
       "<Figure size 432x288 with 1 Axes>"
      ]
     },
     "metadata": {
      "needs_background": "light"
     },
     "output_type": "display_data"
    }
   ],
   "source": [
    "ax = sns.histplot(data=df_1, x=\"Series.ID\")\n",
    "ax.set(xlabel='Series ID', title='Series IDs of 1.5T Scans')"
   ]
  },
  {
   "cell_type": "code",
   "execution_count": 16,
   "id": "3afa05f2",
   "metadata": {},
   "outputs": [
    {
     "name": "stdout",
     "output_type": "stream",
     "text": [
      "Number of Unique Series: 303\n",
      "Series Counts: \n",
      " 29352    2\n",
      "13168    2\n",
      "12748    2\n",
      "19574    2\n",
      "23807    2\n",
      "        ..\n",
      "24156    1\n",
      "33730    1\n",
      "44162    1\n",
      "51722    1\n",
      "64402    1\n",
      "Name: Series.ID, Length: 303, dtype: int64\n"
     ]
    }
   ],
   "source": [
    "print('Number of Unique Series:', len(df_2['Series.ID'].unique()))\n",
    "print('Series Counts: \\n', df_2['Series.ID'].value_counts())"
   ]
  },
  {
   "cell_type": "code",
   "execution_count": 17,
   "id": "b05af04a",
   "metadata": {},
   "outputs": [
    {
     "data": {
      "text/plain": [
       "[Text(0.5, 0, 'Series ID'), Text(0.5, 1.0, 'Series IDs of 3T Scans')]"
      ]
     },
     "execution_count": 17,
     "metadata": {},
     "output_type": "execute_result"
    },
    {
     "data": {
      "image/png": "[encoded data removed]",
      "text/plain": [
       "<Figure size 432x288 with 1 Axes>"
      ]
     },
     "metadata": {
      "needs_background": "light"
     },
     "output_type": "display_data"
    }
   ],
   "source": [
    "ax = sns.histplot(data=df_2, x=\"Series.ID\")\n",
    "ax.set(xlabel='Series ID', title='Series IDs of 3T Scans')"
   ]
  },
  {
   "cell_type": "code",
   "execution_count": 18,
   "id": "18bcf819",
   "metadata": {},
   "outputs": [
    {
     "name": "stdout",
     "output_type": "stream",
     "text": [
      "Number of Unique Sequences: 13\n",
      "Sequence Counts: \n",
      " MPR; GradWarp; B1 Correction; N3; Scaled        1256\n",
      "MPR-R; GradWarp; B1 Correction; N3; Scaled       279\n",
      "MPR; GradWarp; N3; Scaled                        221\n",
      "MPR; GradWarp; B1 Correction; N3; Scaled_2       113\n",
      "MPR; ; N3; Scaled                                106\n",
      "MPR-R; GradWarp; N3; Scaled                       76\n",
      "MPR; ; N3; Scaled_2                               51\n",
      "MPR-R; GradWarp; B1 Correction; N3; Scaled_2      34\n",
      "MT1; GradWarp; N3m                                23\n",
      "MPR-R; ; N3; Scaled                               10\n",
      "MPR-R; ; N3; Scaled_2                              7\n",
      "MT1; N3m                                           5\n",
      "MPR-R; GradWarp; N3; Scaled_2                      1\n",
      "Name: Sequence, dtype: int64\n"
     ]
    }
   ],
   "source": [
    "print('Number of Unique Sequences:', len(df_1['Sequence'].unique()))\n",
    "print('Sequence Counts: \\n', df_1['Sequence'].value_counts())"
   ]
  },
  {
   "cell_type": "code",
   "execution_count": 19,
   "id": "406daa85",
   "metadata": {},
   "outputs": [
    {
     "data": {
      "image/png": "[encoded data removed]",
      "text/plain": [
       "<Figure size 432x288 with 1 Axes>"
      ]
     },
     "metadata": {
      "needs_background": "light"
     },
     "output_type": "display_data"
    }
   ],
   "source": [
    "ax = sns.histplot(data=df_1, x=\"Sequence\")\n",
    "ax.set(xlabel='Sequence', title='Sequences of 1.5T Scans')\n",
    "ax.tick_params(axis='x', labelrotation=90)"
   ]
  },
  {
   "cell_type": "code",
   "execution_count": 20,
   "id": "c9b451ad",
   "metadata": {},
   "outputs": [
    {
     "name": "stdout",
     "output_type": "stream",
     "text": [
      "Number of Unique Sequences: 10\n",
      "Sequence Counts: \n",
      " MPR; GradWarp; B1 Correction; N3; Scaled        156\n",
      "MPR; ; N3; Scaled                                82\n",
      "MPR-R; GradWarp; B1 Correction; N3; Scaled       46\n",
      "MPR; GradWarp; B1 Correction; N3; Scaled_2       25\n",
      "MPR; ; N3; Scaled_2                              16\n",
      "MPR-R; ; N3; Scaled                              14\n",
      "MPR-R; GradWarp; B1 Correction; N3; Scaled_2      9\n",
      "MT1; GradWarp; N3m                                2\n",
      "MPR-R; ; N3; Scaled_2                             1\n",
      "MPR; ; N3; Scaled; No phantom for scaling         1\n",
      "Name: Sequence, dtype: int64\n"
     ]
    }
   ],
   "source": [
    "print('Number of Unique Sequences:', len(df_2['Sequence'].unique()))\n",
    "print('Sequence Counts: \\n', df_2['Sequence'].value_counts())"
   ]
  },
  {
   "cell_type": "code",
   "execution_count": 21,
   "id": "89cd5b78",
   "metadata": {},
   "outputs": [
    {
     "data": {
      "image/png": "[encoded data removed]",
      "text/plain": [
       "<Figure size 432x288 with 1 Axes>"
      ]
     },
     "metadata": {
      "needs_background": "light"
     },
     "output_type": "display_data"
    }
   ],
   "source": [
    "ax = sns.histplot(data=df_2, x=\"Sequence\")\n",
    "ax.set(xlabel='Sequence', title='Sequences of 3T Scans')\n",
    "ax.tick_params(axis='x', labelrotation=90)"
   ]
  },
  {
   "cell_type": "code",
   "execution_count": 22,
   "id": "9ada10fe",
   "metadata": {},
   "outputs": [
    {
     "name": "stdout",
     "output_type": "stream",
     "text": [
      "Number of Unique Visits: 6\n",
      "Visit Counts: \n",
      " Screening    485\n",
      "Month 6      439\n",
      "Month 12     418\n",
      "Month 24     387\n",
      "Month 36     300\n",
      "Month 18     153\n",
      "Name: Visit, dtype: int64\n"
     ]
    }
   ],
   "source": [
    "print('Number of Unique Visits:', len(df_1['Visit'].unique()))\n",
    "print('Visit Counts: \\n', df_1['Visit'].value_counts())"
   ]
  },
  {
   "cell_type": "code",
   "execution_count": 23,
   "id": "250b913b",
   "metadata": {},
   "outputs": [
    {
     "data": {
      "text/plain": [
       "[Text(0.5, 0, 'Visit'), Text(0.5, 1.0, 'Visits of 1.5T Scans')]"
      ]
     },
     "execution_count": 23,
     "metadata": {},
     "output_type": "execute_result"
    },
    {
     "data": {
      "image/png": "[encoded data removed]",
      "text/plain": [
       "<Figure size 432x288 with 1 Axes>"
      ]
     },
     "metadata": {
      "needs_background": "light"
     },
     "output_type": "display_data"
    }
   ],
   "source": [
    "df_1['Visit'] = pd.Categorical(df_1['Visit'], ['Screening','Month 6','Month 12','Month 18', 'Month 24', 'Month 36'])\n",
    "ax = sns.histplot(data=df_1, x=\"Visit\")\n",
    "ax.set(xlabel='Visit', title='Visits of 1.5T Scans')"
   ]
  },
  {
   "cell_type": "code",
   "execution_count": 24,
   "id": "ffc94ae6",
   "metadata": {},
   "outputs": [
    {
     "name": "stdout",
     "output_type": "stream",
     "text": [
      "Number of Unique Visits: 6\n",
      "Visit Counts: \n",
      " Baseline    84\n",
      "Month 6     76\n",
      "Month 12    67\n",
      "Month 24    60\n",
      "Month 36    43\n",
      "Month 18    22\n",
      "Name: Visit, dtype: int64\n"
     ]
    }
   ],
   "source": [
    "print('Number of Unique Visits:', len(df_2['Visit'].unique()))\n",
    "print('Visit Counts: \\n', df_2['Visit'].value_counts())"
   ]
  },
  {
   "cell_type": "code",
   "execution_count": 25,
   "id": "4c181ab1",
   "metadata": {},
   "outputs": [
    {
     "data": {
      "text/plain": [
       "[Text(0.5, 0, 'Visit'), Text(0.5, 1.0, 'Visits of 3T Scans')]"
      ]
     },
     "execution_count": 25,
     "metadata": {},
     "output_type": "execute_result"
    },
    {
     "data": {
      "image/png": "[encoded data removed]",
      "text/plain": [
       "<Figure size 432x288 with 1 Axes>"
      ]
     },
     "metadata": {
      "needs_background": "light"
     },
     "output_type": "display_data"
    }
   ],
   "source": [
    "df_2['Visit'] = pd.Categorical(df_2['Visit'], ['Baseline','Month 6','Month 12','Month 18', 'Month 24', 'Month 36'])\n",
    "ax = sns.histplot(data=df_2, x=\"Visit\")\n",
    "ax.set(xlabel='Visit', title='Visits of 3T Scans')"
   ]
  },
  {
   "cell_type": "markdown",
   "id": "4067c746",
   "metadata": {},
   "source": [
    "it looks like the visit in the 18th month is abnormal whereas the other visits follow a trend of slightly less scans as the time increases"
   ]
  },
  {
   "cell_type": "markdown",
   "id": "0691f259",
   "metadata": {},
   "source": [
    "## Longitudinal Study"
   ]
  },
  {
   "cell_type": "code",
   "execution_count": 26,
   "id": "20edd50e",
   "metadata": {},
   "outputs": [
    {
     "data": {
      "text/plain": [
       "[Text(0.5, 0, '# of Scans'), Text(0.5, 1.0, 'Count of 1.5T Scans per Patient')]"
      ]
     },
     "execution_count": 26,
     "metadata": {},
     "output_type": "execute_result"
    },
    {
     "data": {
      "image/png": "[encoded data removed]",
      "text/plain": [
       "<Figure size 432x288 with 1 Axes>"
      ]
     },
     "metadata": {
      "needs_background": "light"
     },
     "output_type": "display_data"
    }
   ],
   "source": [
    "# how many scans are available for each patient?\n",
    "ax = sns.histplot(data=df_1['PTID'].value_counts())\n",
    "ax.set(xlabel='# of Scans', title='Count of 1.5T Scans per Patient')"
   ]
  },
  {
   "cell_type": "code",
   "execution_count": 27,
   "id": "c30a7a54",
   "metadata": {},
   "outputs": [
    {
     "data": {
      "text/plain": [
       "[Text(0.5, 0, '# of Scans'), Text(0.5, 1.0, 'Count of 3T Scans per Patient')]"
      ]
     },
     "execution_count": 27,
     "metadata": {},
     "output_type": "execute_result"
    },
    {
     "data": {
      "image/png": "[encoded data removed]",
      "text/plain": [
       "<Figure size 432x288 with 1 Axes>"
      ]
     },
     "metadata": {
      "needs_background": "light"
     },
     "output_type": "display_data"
    }
   ],
   "source": [
    "ax = sns.histplot(data=df_2['PTID'].value_counts())\n",
    "ax.set(xlabel='# of Scans', title='Count of 3T Scans per Patient')"
   ]
  },
  {
   "cell_type": "code",
   "execution_count": 28,
   "id": "9619ba39",
   "metadata": {},
   "outputs": [],
   "source": [
    "# what is the length of our longitudinal studies?\n",
    "\n",
    "from datetime import datetime\n",
    "delta_times_1 = {}\n",
    "delta_times_2 = {}\n",
    "for ptid in df_1['PTID'].unique():\n",
    "    # data is sorted chronologically so we can take the first and last date\n",
    "    dates = df_1[df_1['PTID'] == ptid]['Scan.Date'].values\n",
    "    dts = []\n",
    "    for date in dates:\n",
    "        dts.append(datetime.strptime(date, '%m/%d/%y'))\n",
    "    delta_times_1[ptid] = (max(dts) - min(dts)).days\n",
    "\n",
    "for ptid in df_2['PTID'].unique():\n",
    "    # data is sorted chronologically so we can take the first and last date\n",
    "    dates = df_2[df_2['PTID'] == ptid]['Scan.Date'].values\n",
    "    dts = []\n",
    "    for date in dates:\n",
    "        dts.append(datetime.strptime(date, '%m/%d/%y'))\n",
    "    delta_times_2[ptid] = (max(dts) - min(dts)).days"
   ]
  },
  {
   "cell_type": "code",
   "execution_count": 29,
   "id": "f8f346d9",
   "metadata": {},
   "outputs": [
    {
     "data": {
      "text/plain": [
       "[Text(0.5, 0, 'Length of Longitudinal Study in Days'),\n",
       " Text(0.5, 1.0, 'Longitude of 1.5T Studies')]"
      ]
     },
     "execution_count": 29,
     "metadata": {},
     "output_type": "execute_result"
    },
    {
     "data": {
      "image/png": "[encoded data removed]",
      "text/plain": [
       "<Figure size 432x288 with 1 Axes>"
      ]
     },
     "metadata": {
      "needs_background": "light"
     },
     "output_type": "display_data"
    }
   ],
   "source": [
    "ax = sns.histplot(data=delta_times_1)\n",
    "ax.set(xlabel='Length of Longitudinal Study in Days', title='Longitude of 1.5T Studies')"
   ]
  },
  {
   "cell_type": "code",
   "execution_count": 30,
   "id": "58c6d46f",
   "metadata": {},
   "outputs": [
    {
     "data": {
      "text/plain": [
       "[Text(0.5, 0, 'Length of Longitudinal Study in Days'),\n",
       " Text(0.5, 1.0, 'Longitude of 3T Studies')]"
      ]
     },
     "execution_count": 30,
     "metadata": {},
     "output_type": "execute_result"
    },
    {
     "data": {
      "image/png": "[encoded data removed]",
      "text/plain": [
       "<Figure size 432x288 with 1 Axes>"
      ]
     },
     "metadata": {
      "needs_background": "light"
     },
     "output_type": "display_data"
    }
   ],
   "source": [
    "ax = sns.histplot(data=delta_times_2)\n",
    "ax.set(xlabel='Length of Longitudinal Study in Days', title='Longitude of 3T Studies')"
   ]
  }
 ],
 "metadata": {
  "kernelspec": {
   "display_name": "Python 3 (ipykernel)",
   "language": "python",
   "name": "python3"
  },
  "language_info": {
   "codemirror_mode": {
    "name": "ipython",
    "version": 3
   },
   "file_extension": ".py",
   "mimetype": "text/x-python",
   "name": "python",
   "nbconvert_exporter": "python",
   "pygments_lexer": "ipython3",
   "version": "3.7.13"
  }
 },
 "nbformat": 4,
 "nbformat_minor": 5
}
